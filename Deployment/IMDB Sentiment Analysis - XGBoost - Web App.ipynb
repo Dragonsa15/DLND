{
 "cells": [
  {
   "cell_type": "markdown",
   "metadata": {},
   "source": [
    "# Sentiment Analysis Web App\n",
    "\n",
    "_Deep Learning Nanodegree Program | Deployment_\n",
    "\n",
    "---\n",
    "\n",
    "In this notebook we will use Amazon's SageMaker service to construct a random tree model to predict the sentiment of a movie review. In addition, we will deploy this model to an endpoint and construct a very simple web app which will interact with our model's deployed endpoint.\n",
    "\n",
    "## General Outline\n",
    "\n",
    "Typically, when using a notebook instance with SageMaker, you will proceed through the following steps. Of course, not every step will need to be done with each project. Also, there is quite a lot of room for variation in many of the steps, as you will see throughout these lessons.\n",
    "\n",
    "1. Download or otherwise retrieve the data.\n",
    "2. Process / Prepare the data.\n",
    "3. Upload the processed data to S3.\n",
    "4. Train a chosen model.\n",
    "5. Test the trained model (typically using a batch transform job).\n",
    "6. Deploy the trained model.\n",
    "7. Use the deployed model.\n",
    "\n",
    "In this notebook we will progress through each of the steps above. We will also see that the final step, using the deployed model, can be quite challenging."
   ]
  },
  {
   "cell_type": "markdown",
   "metadata": {},
   "source": [
    "## Step 1: Downloading the data\n",
    "\n",
    "The dataset we are going to use is very popular among researchers in Natural Language Processing, usually referred to as the [IMDb dataset](http://ai.stanford.edu/~amaas/data/sentiment/). It consists of movie reviews from the website [imdb.com](http://www.imdb.com/), each labeled as either '**pos**itive', if the reviewer enjoyed the film, or '**neg**ative' otherwise.\n",
    "\n",
    "> Maas, Andrew L., et al. [Learning Word Vectors for Sentiment Analysis](http://ai.stanford.edu/~amaas/data/sentiment/). In _Proceedings of the 49th Annual Meeting of the Association for Computational Linguistics: Human Language Technologies_. Association for Computational Linguistics, 2011.\n",
    "\n",
    "We begin by using some Jupyter Notebook magic to download and extract the dataset."
   ]
  },
  {
   "cell_type": "code",
   "execution_count": 1,
   "metadata": {},
   "outputs": [
    {
     "name": "stdout",
     "output_type": "stream",
     "text": [
      "mkdir: cannot create directory ‘../data’: File exists\n",
      "--2020-08-21 16:40:23--  http://ai.stanford.edu/~amaas/data/sentiment/aclImdb_v1.tar.gz\n",
      "Resolving ai.stanford.edu (ai.stanford.edu)... 171.64.68.10\n",
      "Connecting to ai.stanford.edu (ai.stanford.edu)|171.64.68.10|:80... connected.\n",
      "HTTP request sent, awaiting response... 200 OK\n",
      "Length: 84125825 (80M) [application/x-gzip]\n",
      "Saving to: ‘../data/aclImdb_v1.tar.gz’\n",
      "\n",
      "../data/aclImdb_v1. 100%[===================>]  80.23M  6.77MB/s    in 16s     \n",
      "\n",
      "2020-08-21 16:40:40 (4.96 MB/s) - ‘../data/aclImdb_v1.tar.gz’ saved [84125825/84125825]\n",
      "\n"
     ]
    }
   ],
   "source": [
    "%mkdir ../data\n",
    "!wget -O ../data/aclImdb_v1.tar.gz http://ai.stanford.edu/~amaas/data/sentiment/aclImdb_v1.tar.gz\n",
    "!tar -zxf ../data/aclImdb_v1.tar.gz -C ../data"
   ]
  },
  {
   "cell_type": "markdown",
   "metadata": {},
   "source": [
    "## Step 2: Preparing and Processing the data\n",
    "\n",
    "The data we have downloaded is split into various files, each of which contains a single review. It will be much easier going forward if we combine these individual files into two large files, one for training and one for testing."
   ]
  },
  {
   "cell_type": "code",
   "execution_count": 2,
   "metadata": {},
   "outputs": [],
   "source": [
    "import os\n",
    "import glob\n",
    "\n",
    "def read_imdb_data(data_dir='../data/aclImdb'):\n",
    "    data = {}\n",
    "    labels = {}\n",
    "    \n",
    "    for data_type in ['train', 'test']:\n",
    "        data[data_type] = {}\n",
    "        labels[data_type] = {}\n",
    "        \n",
    "        for sentiment in ['pos', 'neg']:\n",
    "            data[data_type][sentiment] = []\n",
    "            labels[data_type][sentiment] = []\n",
    "            \n",
    "            path = os.path.join(data_dir, data_type, sentiment, '*.txt')\n",
    "            files = glob.glob(path)\n",
    "            \n",
    "            for f in files:\n",
    "                with open(f) as review:\n",
    "                    data[data_type][sentiment].append(review.read())\n",
    "                    # Here we represent a positive review by '1' and a negative review by '0'\n",
    "                    labels[data_type][sentiment].append(1 if sentiment == 'pos' else 0)\n",
    "                    \n",
    "            assert len(data[data_type][sentiment]) == len(labels[data_type][sentiment]), \\\n",
    "                    \"{}/{} data size does not match labels size\".format(data_type, sentiment)\n",
    "                \n",
    "    return data, labels"
   ]
  },
  {
   "cell_type": "code",
   "execution_count": 3,
   "metadata": {},
   "outputs": [
    {
     "name": "stdout",
     "output_type": "stream",
     "text": [
      "IMDB reviews: train = 12500 pos / 12500 neg, test = 12500 pos / 12500 neg\n"
     ]
    }
   ],
   "source": [
    "data, labels = read_imdb_data()\n",
    "print(\"IMDB reviews: train = {} pos / {} neg, test = {} pos / {} neg\".format(\n",
    "            len(data['train']['pos']), len(data['train']['neg']),\n",
    "            len(data['test']['pos']), len(data['test']['neg'])))"
   ]
  },
  {
   "cell_type": "code",
   "execution_count": 4,
   "metadata": {},
   "outputs": [],
   "source": [
    "from sklearn.utils import shuffle\n",
    "\n",
    "def prepare_imdb_data(data, labels):\n",
    "    \"\"\"Prepare training and test sets from IMDb movie reviews.\"\"\"\n",
    "    \n",
    "    #Combine positive and negative reviews and labels\n",
    "    data_train = data['train']['pos'] + data['train']['neg']\n",
    "    data_test = data['test']['pos'] + data['test']['neg']\n",
    "    labels_train = labels['train']['pos'] + labels['train']['neg']\n",
    "    labels_test = labels['test']['pos'] + labels['test']['neg']\n",
    "    \n",
    "    #Shuffle reviews and corresponding labels within training and test sets\n",
    "    data_train, labels_train = shuffle(data_train, labels_train)\n",
    "    data_test, labels_test = shuffle(data_test, labels_test)\n",
    "    \n",
    "    # Return a unified training data, test data, training labels, test labets\n",
    "    return data_train, data_test, labels_train, labels_test"
   ]
  },
  {
   "cell_type": "code",
   "execution_count": 5,
   "metadata": {},
   "outputs": [
    {
     "name": "stdout",
     "output_type": "stream",
     "text": [
      "IMDb reviews (combined): train = 25000, test = 25000\n"
     ]
    }
   ],
   "source": [
    "train_X, test_X, train_y, test_y = prepare_imdb_data(data, labels)\n",
    "print(\"IMDb reviews (combined): train = {}, test = {}\".format(len(train_X), len(test_X)))"
   ]
  },
  {
   "cell_type": "code",
   "execution_count": 6,
   "metadata": {},
   "outputs": [
    {
     "data": {
      "text/plain": [
       "'This movie was crap with a capital \"C.\" The opening scene showed promise. But that \"promise\" was broken shortly after the viewer learns where the plot is going.<br /><br />And the wooden statue, Morty, who was rather creepy in the original film, looks plain goofy in this one. It was so obviously just a guy in a cheap plastic costume. (And by the way, who else thinks \"Morty\" is one of the most un-scary names on planet earth? It ranks right up there with \"Jimmy\" or \"Fred\" when it comes to horror value. Or why not just name the wooden statute Henry-freakin\\'-Kissinger. \"Run, it\\'s Dr. Kissinger!\" That\\'d be about as scary as \"Morty.)<br /><br />And then there\\'s a scene where the \"hero\" hits his father\\'s tombstone with---\"a sledgehammer?\" you might guess--\"a two-by-four?\" someone might venture. No, he angrily beats his father\\'s tombstone with a twig---a freakin\\' twig. But worse than that, once the characters walk away, the tombstone actually, and inexplicably, bleeds. Oh brother!<br /><br />There\\'s also a Native American guy who lives with the main character\\'s grandparents, but apparently, does nothing except Morty-maintenance. He perpetuates creepy Morty-legends, warns those who scoff, and even fixes Morty\\'s arm when it becomes damaged during a childish prank. But for all his respect for and tenderness toward Morty, does Morty give a rat\\'s hairy behind? No.<br /><br />The movie drags on, and eventually several people die in ways that correspond to their worst fears (sort of). This film is a real yawner. Don\\'t rent it.'"
      ]
     },
     "execution_count": 6,
     "metadata": {},
     "output_type": "execute_result"
    }
   ],
   "source": [
    "train_X[100]"
   ]
  },
  {
   "cell_type": "markdown",
   "metadata": {},
   "source": [
    "## Processing the data\n",
    "\n",
    "Now that we have our training and testing datasets merged and ready to use, we need to start processing the raw data into something that will be useable by our machine learning algorithm. To begin with, we remove any html formatting and any non-alpha numeric characters that may appear in the reviews. We will do this in a very simplistic way using Python's regular expression module. We will discuss the reason for this rather simplistic pre-processing later on."
   ]
  },
  {
   "cell_type": "code",
   "execution_count": 7,
   "metadata": {},
   "outputs": [],
   "source": [
    "import re\n",
    "\n",
    "REPLACE_NO_SPACE = re.compile(\"(\\.)|(\\;)|(\\:)|(\\!)|(\\')|(\\?)|(\\,)|(\\\")|(\\()|(\\))|(\\[)|(\\])\")\n",
    "REPLACE_WITH_SPACE = re.compile(\"(<br\\s*/><br\\s*/>)|(\\-)|(\\/)\")\n",
    "\n",
    "def review_to_words(review):\n",
    "    words = REPLACE_NO_SPACE.sub(\"\", review.lower())\n",
    "    words = REPLACE_WITH_SPACE.sub(\" \", words)\n",
    "    return words"
   ]
  },
  {
   "cell_type": "code",
   "execution_count": 8,
   "metadata": {},
   "outputs": [
    {
     "data": {
      "text/plain": [
       "'this movie was crap with a capital c the opening scene showed promise but that promise was broken shortly after the viewer learns where the plot is going and the wooden statue morty who was rather creepy in the original film looks plain goofy in this one it was so obviously just a guy in a cheap plastic costume and by the way who else thinks morty is one of the most un scary names on planet earth it ranks right up there with jimmy or fred when it comes to horror value or why not just name the wooden statute henry freakin kissinger run its dr kissinger thatd be about as scary as morty and then theres a scene where the hero hits his fathers tombstone with   a sledgehammer you might guess  a two by four someone might venture no he angrily beats his fathers tombstone with a twig   a freakin twig but worse than that once the characters walk away the tombstone actually and inexplicably bleeds oh brother theres also a native american guy who lives with the main characters grandparents but apparently does nothing except morty maintenance he perpetuates creepy morty legends warns those who scoff and even fixes mortys arm when it becomes damaged during a childish prank but for all his respect for and tenderness toward morty does morty give a rats hairy behind no the movie drags on and eventually several people die in ways that correspond to their worst fears sort of this film is a real yawner dont rent it'"
      ]
     },
     "execution_count": 8,
     "metadata": {},
     "output_type": "execute_result"
    }
   ],
   "source": [
    "review_to_words(train_X[100])"
   ]
  },
  {
   "cell_type": "code",
   "execution_count": 9,
   "metadata": {},
   "outputs": [],
   "source": [
    "import pickle\n",
    "\n",
    "cache_dir = os.path.join(\"../cache\", \"sentiment_web_app\")  # where to store cache files\n",
    "os.makedirs(cache_dir, exist_ok=True)  # ensure cache directory exists\n",
    "\n",
    "def preprocess_data(data_train, data_test, labels_train, labels_test,\n",
    "                    cache_dir=cache_dir, cache_file=\"preprocessed_data.pkl\"):\n",
    "    \"\"\"Convert each review to words; read from cache if available.\"\"\"\n",
    "\n",
    "    # If cache_file is not None, try to read from it first\n",
    "    cache_data = None\n",
    "    if cache_file is not None:\n",
    "        try:\n",
    "            with open(os.path.join(cache_dir, cache_file), \"rb\") as f:\n",
    "                cache_data = pickle.load(f)\n",
    "            print(\"Read preprocessed data from cache file:\", cache_file)\n",
    "        except:\n",
    "            pass  # unable to read from cache, but that's okay\n",
    "    \n",
    "    # If cache is missing, then do the heavy lifting\n",
    "    if cache_data is None:\n",
    "        # Preprocess training and test data to obtain words for each review\n",
    "        #words_train = list(map(review_to_words, data_train))\n",
    "        #words_test = list(map(review_to_words, data_test))\n",
    "        words_train = [review_to_words(review) for review in data_train]\n",
    "        words_test = [review_to_words(review) for review in data_test]\n",
    "        \n",
    "        # Write to cache file for future runs\n",
    "        if cache_file is not None:\n",
    "            cache_data = dict(words_train=words_train, words_test=words_test,\n",
    "                              labels_train=labels_train, labels_test=labels_test)\n",
    "            with open(os.path.join(cache_dir, cache_file), \"wb\") as f:\n",
    "                pickle.dump(cache_data, f)\n",
    "            print(\"Wrote preprocessed data to cache file:\", cache_file)\n",
    "    else:\n",
    "        # Unpack data loaded from cache file\n",
    "        words_train, words_test, labels_train, labels_test = (cache_data['words_train'],\n",
    "                cache_data['words_test'], cache_data['labels_train'], cache_data['labels_test'])\n",
    "    \n",
    "    return words_train, words_test, labels_train, labels_test"
   ]
  },
  {
   "cell_type": "code",
   "execution_count": 10,
   "metadata": {},
   "outputs": [
    {
     "name": "stdout",
     "output_type": "stream",
     "text": [
      "Read preprocessed data from cache file: preprocessed_data.pkl\n"
     ]
    }
   ],
   "source": [
    "# Preprocess data\n",
    "train_X, test_X, train_y, test_y = preprocess_data(train_X, test_X, train_y, test_y)"
   ]
  },
  {
   "cell_type": "markdown",
   "metadata": {},
   "source": [
    "### Extract Bag-of-Words features\n",
    "\n",
    "For the model we will be implementing, rather than using the reviews directly, we are going to transform each review into a Bag-of-Words feature representation. Keep in mind that 'in the wild' we will only have access to the training set so our transformer can only use the training set to construct a representation."
   ]
  },
  {
   "cell_type": "code",
   "execution_count": 13,
   "metadata": {},
   "outputs": [],
   "source": [
    "import numpy as np\n",
    "from sklearn.feature_extraction.text import CountVectorizer\n",
    "import joblib\n",
    "# joblib is an enhanced version of pickle that is more efficient for storing NumPy arrays\n",
    "\n",
    "def extract_BoW_features(words_train, words_test, vocabulary_size=5000,\n",
    "                         cache_dir=cache_dir, cache_file=\"bow_features.pkl\"):\n",
    "    \"\"\"Extract Bag-of-Words for a given set of documents, already preprocessed into words.\"\"\"\n",
    "    \n",
    "    # If cache_file is not None, try to read from it first\n",
    "    cache_data = None\n",
    "    if cache_file is not None:\n",
    "        try:\n",
    "            with open(os.path.join(cache_dir, cache_file), \"rb\") as f:\n",
    "                cache_data = joblib.load(f)\n",
    "            print(\"Read features from cache file:\", cache_file)\n",
    "        except:\n",
    "            pass  # unable to read from cache, but that's okay\n",
    "    \n",
    "    # If cache is missing, then do the heavy lifting\n",
    "    if cache_data is None:\n",
    "        # Fit a vectorizer to training documents and use it to transform them\n",
    "        # NOTE: Training documents have already been preprocessed and tokenized into words;\n",
    "        #       pass in dummy functions to skip those steps, e.g. preprocessor=lambda x: x\n",
    "        vectorizer = CountVectorizer(max_features=vocabulary_size)\n",
    "        features_train = vectorizer.fit_transform(words_train).toarray()\n",
    "\n",
    "        # Apply the same vectorizer to transform the test documents (ignore unknown words)\n",
    "        features_test = vectorizer.transform(words_test).toarray()\n",
    "        \n",
    "        # NOTE: Remember to convert the features using .toarray() for a compact representation\n",
    "        \n",
    "        # Write to cache file for future runs (store vocabulary as well)\n",
    "        if cache_file is not None:\n",
    "            vocabulary = vectorizer.vocabulary_\n",
    "            cache_data = dict(features_train=features_train, features_test=features_test,\n",
    "                             vocabulary=vocabulary)\n",
    "            with open(os.path.join(cache_dir, cache_file), \"wb\") as f:\n",
    "                joblib.dump(cache_data, f)\n",
    "            print(\"Wrote features to cache file:\", cache_file)\n",
    "    else:\n",
    "        # Unpack data loaded from cache file\n",
    "        features_train, features_test, vocabulary = (cache_data['features_train'],\n",
    "                cache_data['features_test'], cache_data['vocabulary'])\n",
    "    \n",
    "    # Return both the extracted features as well as the vocabulary\n",
    "    return features_train, features_test, vocabulary"
   ]
  },
  {
   "cell_type": "code",
   "execution_count": 14,
   "metadata": {},
   "outputs": [
    {
     "name": "stdout",
     "output_type": "stream",
     "text": [
      "Read features from cache file: bow_features.pkl\n"
     ]
    }
   ],
   "source": [
    "# Extract Bag of Words features for both training and test datasets\n",
    "train_X, test_X, vocabulary = extract_BoW_features(train_X, test_X)"
   ]
  },
  {
   "cell_type": "code",
   "execution_count": 15,
   "metadata": {},
   "outputs": [
    {
     "data": {
      "text/plain": [
       "5000"
      ]
     },
     "execution_count": 15,
     "metadata": {},
     "output_type": "execute_result"
    }
   ],
   "source": [
    "len(train_X[100])"
   ]
  },
  {
   "cell_type": "markdown",
   "metadata": {},
   "source": [
    "## Step 3: Upload data to S3\n",
    "\n",
    "Now that we have created the feature representation of our training (and testing) data, it is time to start setting up and using the XGBoost classifier provided by SageMaker.\n",
    "\n",
    "### Writing the datasets\n",
    "\n",
    "The XGBoost classifier that we will be using requires the dataset to be written to a file and stored using Amazon S3. To do this, we will start by splitting the training dataset into two parts, the data we will train the model with and a validation set. Then, we will write those datasets to a file locally and then upload the files to S3. In addition, we will write the test set to a file and upload that file to S3. This is so that we can use SageMakers Batch Transform functionality to test our model once we've fit it."
   ]
  },
  {
   "cell_type": "code",
   "execution_count": 16,
   "metadata": {},
   "outputs": [],
   "source": [
    "import pandas as pd\n",
    "\n",
    "# Earlier we shuffled the training dataset so to make things simple we can just assign\n",
    "# the first 10 000 reviews to the validation set and use the remaining reviews for training.\n",
    "val_X = pd.DataFrame(train_X[:10000])\n",
    "train_X = pd.DataFrame(train_X[10000:])\n",
    "\n",
    "val_y = pd.DataFrame(train_y[:10000])\n",
    "train_y = pd.DataFrame(train_y[10000:])"
   ]
  },
  {
   "cell_type": "markdown",
   "metadata": {},
   "source": [
    "The documentation for the XGBoost algorithm in SageMaker requires that the training and validation datasets should contain no headers or index and that the label should occur first for each sample.\n",
    "\n",
    "For more information about this and other algorithms, the SageMaker developer documentation can be found on __[Amazon's website.](https://docs.aws.amazon.com/sagemaker/latest/dg/)__"
   ]
  },
  {
   "cell_type": "code",
   "execution_count": 17,
   "metadata": {},
   "outputs": [],
   "source": [
    "# First we make sure that the local directory in which we'd like to store the training and validation csv files exists.\n",
    "data_dir = '../data/sentiment_web_app'\n",
    "if not os.path.exists(data_dir):\n",
    "    os.makedirs(data_dir)"
   ]
  },
  {
   "cell_type": "code",
   "execution_count": 18,
   "metadata": {},
   "outputs": [],
   "source": [
    "pd.DataFrame(test_X).to_csv(os.path.join(data_dir, 'test.csv'), header=False, index=False)\n",
    "\n",
    "pd.concat([val_y, val_X], axis=1).to_csv(os.path.join(data_dir, 'validation.csv'), header=False, index=False)\n",
    "pd.concat([train_y, train_X], axis=1).to_csv(os.path.join(data_dir, 'train.csv'), header=False, index=False)"
   ]
  },
  {
   "cell_type": "code",
   "execution_count": 19,
   "metadata": {},
   "outputs": [],
   "source": [
    "# To save a bit of memory we can set text_X, train_X, val_X, train_y and val_y to None.\n",
    "\n",
    "test_X = train_X = val_X = train_y = val_y = None"
   ]
  },
  {
   "cell_type": "markdown",
   "metadata": {},
   "source": [
    "### Uploading Training / Validation files to S3\n",
    "\n",
    "Amazon's S3 service allows us to store files that can be accessed by both the built-in training models such as the XGBoost model we will be using as well as custom models such as the one we will see a little later.\n",
    "\n",
    "For this and most other tasks we will be doing using SageMaker, there are two methods we could use. The first is to use the low level functionality of SageMaker which requires knowing each of the objects involved in the SageMaker environment. The second is to use the high level functionality in which certain choices have been made on the user's behalf. The low level approach benefits from allowing the user a great deal of flexibility while the high level approach makes development much quicker. For our purposes we will opt to use the high level approach although using the low-level approach is certainly an option.\n",
    "\n",
    "Recall the method `upload_data()` which is a member of the object representing our current SageMaker session. What this method does is upload the data to the default bucket (which is created if it does not exist) into the path described by the key_prefix variable. To see this for yourself, once you have uploaded the data files, go to the S3 console and look to see where the files have been uploaded.\n",
    "\n",
    "For additional resources, see the __[SageMaker API documentation](http://sagemaker.readthedocs.io/en/latest/)__ and in addition the __[SageMaker Developer Guide.](https://docs.aws.amazon.com/sagemaker/latest/dg/)__"
   ]
  },
  {
   "cell_type": "code",
   "execution_count": 20,
   "metadata": {},
   "outputs": [],
   "source": [
    "import sagemaker\n",
    "\n",
    "session = sagemaker.Session() # Store the current SageMaker session\n",
    "\n",
    "# S3 prefix (which folder will we use)\n",
    "prefix = 'sentiment-web-app'\n",
    "\n",
    "test_location = session.upload_data(os.path.join(data_dir, 'test.csv'), key_prefix=prefix)\n",
    "val_location = session.upload_data(os.path.join(data_dir, 'validation.csv'), key_prefix=prefix)\n",
    "train_location = session.upload_data(os.path.join(data_dir, 'train.csv'), key_prefix=prefix)"
   ]
  },
  {
   "cell_type": "markdown",
   "metadata": {},
   "source": [
    "## Step 4: Creating the XGBoost model\n",
    "\n",
    "Now that the data has been uploaded it is time to create the XGBoost model. To begin with, we need to do some setup. At this point it is worth discussing what a model is in SageMaker. It is easiest to think of a model of comprising three different objects in the SageMaker ecosystem, which interact with one another.\n",
    "\n",
    "- Model Artifacts\n",
    "- Training Code (Container)\n",
    "- Inference Code (Container)\n",
    "\n",
    "The Model Artifacts are what you might think of as the actual model itself. For example, if you were building a neural network, the model artifacts would be the weights of the various layers. In our case, for an XGBoost model, the artifacts are the actual trees that are created during training.\n",
    "\n",
    "The other two objects, the training code and the inference code are then used to manipulate the training artifacts. More precisely, the training code uses the training data that is provided and creates the model artifacts, while the inference code uses the model artifacts to make predictions on new data.\n",
    "\n",
    "The way that SageMaker runs the training and inference code is by making use of Docker containers. For now, think of a container as being a way of packaging code up so that dependencies aren't an issue."
   ]
  },
  {
   "cell_type": "code",
   "execution_count": 21,
   "metadata": {},
   "outputs": [],
   "source": [
    "from sagemaker import get_execution_role\n",
    "\n",
    "# Our current execution role is required when creating the model as the training\n",
    "# and inference code will need to access the model artifacts.\n",
    "role = get_execution_role()"
   ]
  },
  {
   "cell_type": "code",
   "execution_count": 22,
   "metadata": {},
   "outputs": [
    {
     "name": "stderr",
     "output_type": "stream",
     "text": [
      "'get_image_uri' method will be deprecated in favor of 'ImageURIProvider' class in SageMaker Python SDK v2.\n",
      "There is a more up to date SageMaker XGBoost image. To use the newer image, please set 'repo_version'='1.0-1'. For example:\n",
      "\tget_image_uri(region, 'xgboost', '1.0-1').\n"
     ]
    }
   ],
   "source": [
    "# We need to retrieve the location of the container which is provided by Amazon for using XGBoost.\n",
    "# As a matter of convenience, the training and inference code both use the same container.\n",
    "from sagemaker.amazon.amazon_estimator import get_image_uri\n",
    "\n",
    "container = get_image_uri(session.boto_region_name, 'xgboost')"
   ]
  },
  {
   "cell_type": "code",
   "execution_count": 23,
   "metadata": {},
   "outputs": [
    {
     "name": "stderr",
     "output_type": "stream",
     "text": [
      "Parameter image_name will be renamed to image_uri in SageMaker Python SDK v2.\n"
     ]
    }
   ],
   "source": [
    "# First we create a SageMaker estimator object for our model.\n",
    "xgb = sagemaker.estimator.Estimator(container, # The location of the container we wish to use\n",
    "                                    role,                                    # What is our current IAM Role\n",
    "                                    train_instance_count=1,                  # How many compute instances\n",
    "                                    train_instance_type='ml.m4.xlarge',      # What kind of compute instances\n",
    "                                    output_path='s3://{}/{}/output'.format(session.default_bucket(), prefix),\n",
    "                                    sagemaker_session=session)\n",
    "\n",
    "# And then set the algorithm specific parameters.\n",
    "xgb.set_hyperparameters(max_depth=5,\n",
    "                        eta=0.2,\n",
    "                        gamma=4,\n",
    "                        min_child_weight=6,\n",
    "                        subsample=0.8,\n",
    "                        silent=0,\n",
    "                        objective='binary:logistic',\n",
    "                        early_stopping_rounds=10,\n",
    "                        num_round=500)"
   ]
  },
  {
   "cell_type": "markdown",
   "metadata": {},
   "source": [
    "### Fit the XGBoost model\n",
    "\n",
    "Now that our model has been set up we simply need to attach the training and validation datasets and then ask SageMaker to set up the computation."
   ]
  },
  {
   "cell_type": "code",
   "execution_count": 24,
   "metadata": {},
   "outputs": [
    {
     "name": "stderr",
     "output_type": "stream",
     "text": [
      "'s3_input' class will be renamed to 'TrainingInput' in SageMaker Python SDK v2.\n",
      "'s3_input' class will be renamed to 'TrainingInput' in SageMaker Python SDK v2.\n"
     ]
    }
   ],
   "source": [
    "s3_input_train = sagemaker.s3_input(s3_data=train_location, content_type='csv')\n",
    "s3_input_validation = sagemaker.s3_input(s3_data=val_location, content_type='csv')"
   ]
  },
  {
   "cell_type": "code",
   "execution_count": 25,
   "metadata": {},
   "outputs": [
    {
     "name": "stdout",
     "output_type": "stream",
     "text": [
      "2020-08-21 16:46:00 Starting - Starting the training job...\n",
      "2020-08-21 16:46:03 Starting - Launching requested ML instances......\n",
      "2020-08-21 16:47:05 Starting - Preparing the instances for training...\n",
      "2020-08-21 16:47:55 Downloading - Downloading input data...\n",
      "2020-08-21 16:48:15 Training - Downloading the training image..\u001b[34mArguments: train\u001b[0m\n",
      "\u001b[34m[2020-08-21:16:48:35:INFO] Running standalone xgboost training.\u001b[0m\n",
      "\u001b[34m[2020-08-21:16:48:35:INFO] File size need to be processed in the node: 238.5mb. Available memory size in the node: 8479.99mb\u001b[0m\n",
      "\u001b[34m[2020-08-21:16:48:35:INFO] Determined delimiter of CSV input is ','\u001b[0m\n",
      "\u001b[34m[16:48:35] S3DistributionType set as FullyReplicated\u001b[0m\n",
      "\u001b[34m[16:48:37] 15000x5000 matrix with 75000000 entries loaded from /opt/ml/input/data/train?format=csv&label_column=0&delimiter=,\u001b[0m\n",
      "\u001b[34m[2020-08-21:16:48:37:INFO] Determined delimiter of CSV input is ','\u001b[0m\n",
      "\u001b[34m[16:48:37] S3DistributionType set as FullyReplicated\u001b[0m\n",
      "\u001b[34m[16:48:38] 10000x5000 matrix with 50000000 entries loaded from /opt/ml/input/data/validation?format=csv&label_column=0&delimiter=,\u001b[0m\n",
      "\u001b[34m[16:48:42] src/tree/updater_prune.cc:74: tree pruning end, 1 roots, 42 extra nodes, 6 pruned nodes, max_depth=5\u001b[0m\n",
      "\u001b[34m[0]#011train-error:0.306067#011validation-error:0.3093\u001b[0m\n",
      "\u001b[34mMultiple eval metrics have been passed: 'validation-error' will be used for early stopping.\n",
      "\u001b[0m\n",
      "\u001b[34mWill train until validation-error hasn't improved in 10 rounds.\u001b[0m\n",
      "\u001b[34m[16:48:43] src/tree/updater_prune.cc:74: tree pruning end, 1 roots, 36 extra nodes, 6 pruned nodes, max_depth=5\u001b[0m\n",
      "\u001b[34m[1]#011train-error:0.289933#011validation-error:0.2967\u001b[0m\n",
      "\u001b[34m[16:48:45] src/tree/updater_prune.cc:74: tree pruning end, 1 roots, 46 extra nodes, 4 pruned nodes, max_depth=5\u001b[0m\n",
      "\u001b[34m[2]#011train-error:0.289267#011validation-error:0.2991\u001b[0m\n",
      "\u001b[34m[16:48:46] src/tree/updater_prune.cc:74: tree pruning end, 1 roots, 28 extra nodes, 4 pruned nodes, max_depth=5\u001b[0m\n",
      "\u001b[34m[3]#011train-error:0.2786#011validation-error:0.2875\u001b[0m\n",
      "\u001b[34m[16:48:47] src/tree/updater_prune.cc:74: tree pruning end, 1 roots, 30 extra nodes, 8 pruned nodes, max_depth=5\u001b[0m\n",
      "\u001b[34m[4]#011train-error:0.263067#011validation-error:0.2743\u001b[0m\n",
      "\n",
      "2020-08-21 16:48:34 Training - Training image download completed. Training in progress.\u001b[34m[16:48:49] src/tree/updater_prune.cc:74: tree pruning end, 1 roots, 52 extra nodes, 4 pruned nodes, max_depth=5\u001b[0m\n",
      "\u001b[34m[5]#011train-error:0.261067#011validation-error:0.2716\u001b[0m\n",
      "\u001b[34m[16:48:50] src/tree/updater_prune.cc:74: tree pruning end, 1 roots, 34 extra nodes, 16 pruned nodes, max_depth=5\u001b[0m\n",
      "\u001b[34m[6]#011train-error:0.255333#011validation-error:0.2657\u001b[0m\n",
      "\u001b[34m[16:48:51] src/tree/updater_prune.cc:74: tree pruning end, 1 roots, 24 extra nodes, 12 pruned nodes, max_depth=5\u001b[0m\n",
      "\u001b[34m[7]#011train-error:0.249#011validation-error:0.2592\u001b[0m\n",
      "\u001b[34m[16:48:52] src/tree/updater_prune.cc:74: tree pruning end, 1 roots, 32 extra nodes, 8 pruned nodes, max_depth=5\u001b[0m\n",
      "\u001b[34m[8]#011train-error:0.2424#011validation-error:0.2541\u001b[0m\n",
      "\u001b[34m[16:48:54] src/tree/updater_prune.cc:74: tree pruning end, 1 roots, 40 extra nodes, 4 pruned nodes, max_depth=5\u001b[0m\n",
      "\u001b[34m[9]#011train-error:0.237667#011validation-error:0.2501\u001b[0m\n",
      "\u001b[34m[16:48:55] src/tree/updater_prune.cc:74: tree pruning end, 1 roots, 22 extra nodes, 8 pruned nodes, max_depth=5\u001b[0m\n",
      "\u001b[34m[10]#011train-error:0.230533#011validation-error:0.2419\u001b[0m\n",
      "\u001b[34m[16:48:56] src/tree/updater_prune.cc:74: tree pruning end, 1 roots, 30 extra nodes, 0 pruned nodes, max_depth=5\u001b[0m\n",
      "\u001b[34m[11]#011train-error:0.221667#011validation-error:0.2364\u001b[0m\n",
      "\u001b[34m[16:48:57] src/tree/updater_prune.cc:74: tree pruning end, 1 roots, 36 extra nodes, 6 pruned nodes, max_depth=5\u001b[0m\n",
      "\u001b[34m[12]#011train-error:0.216667#011validation-error:0.2325\u001b[0m\n",
      "\u001b[34m[16:48:59] src/tree/updater_prune.cc:74: tree pruning end, 1 roots, 36 extra nodes, 0 pruned nodes, max_depth=5\u001b[0m\n",
      "\u001b[34m[13]#011train-error:0.212467#011validation-error:0.2268\u001b[0m\n",
      "\u001b[34m[16:49:00] src/tree/updater_prune.cc:74: tree pruning end, 1 roots, 28 extra nodes, 12 pruned nodes, max_depth=5\u001b[0m\n",
      "\u001b[34m[14]#011train-error:0.208333#011validation-error:0.2218\u001b[0m\n",
      "\u001b[34m[16:49:01] src/tree/updater_prune.cc:74: tree pruning end, 1 roots, 30 extra nodes, 10 pruned nodes, max_depth=5\u001b[0m\n",
      "\u001b[34m[15]#011train-error:0.203333#011validation-error:0.2199\u001b[0m\n",
      "\u001b[34m[16:49:03] src/tree/updater_prune.cc:74: tree pruning end, 1 roots, 24 extra nodes, 8 pruned nodes, max_depth=5\u001b[0m\n",
      "\u001b[34m[16]#011train-error:0.202267#011validation-error:0.2186\u001b[0m\n",
      "\u001b[34m[16:49:04] src/tree/updater_prune.cc:74: tree pruning end, 1 roots, 30 extra nodes, 8 pruned nodes, max_depth=5\u001b[0m\n",
      "\u001b[34m[17]#011train-error:0.199267#011validation-error:0.2151\u001b[0m\n",
      "\u001b[34m[16:49:05] src/tree/updater_prune.cc:74: tree pruning end, 1 roots, 30 extra nodes, 6 pruned nodes, max_depth=5\u001b[0m\n",
      "\u001b[34m[18]#011train-error:0.1978#011validation-error:0.2126\u001b[0m\n",
      "\u001b[34m[16:49:06] src/tree/updater_prune.cc:74: tree pruning end, 1 roots, 30 extra nodes, 8 pruned nodes, max_depth=5\u001b[0m\n",
      "\u001b[34m[19]#011train-error:0.193733#011validation-error:0.2102\u001b[0m\n",
      "\u001b[34m[16:49:08] src/tree/updater_prune.cc:74: tree pruning end, 1 roots, 32 extra nodes, 6 pruned nodes, max_depth=5\u001b[0m\n",
      "\u001b[34m[20]#011train-error:0.1914#011validation-error:0.2082\u001b[0m\n",
      "\u001b[34m[16:49:09] src/tree/updater_prune.cc:74: tree pruning end, 1 roots, 30 extra nodes, 4 pruned nodes, max_depth=5\u001b[0m\n",
      "\u001b[34m[21]#011train-error:0.1878#011validation-error:0.2071\u001b[0m\n",
      "\u001b[34m[16:49:10] src/tree/updater_prune.cc:74: tree pruning end, 1 roots, 40 extra nodes, 4 pruned nodes, max_depth=5\u001b[0m\n",
      "\u001b[34m[22]#011train-error:0.187133#011validation-error:0.2063\u001b[0m\n",
      "\u001b[34m[16:49:11] src/tree/updater_prune.cc:74: tree pruning end, 1 roots, 42 extra nodes, 8 pruned nodes, max_depth=5\u001b[0m\n",
      "\u001b[34m[23]#011train-error:0.181667#011validation-error:0.201\u001b[0m\n",
      "\u001b[34m[16:49:13] src/tree/updater_prune.cc:74: tree pruning end, 1 roots, 44 extra nodes, 2 pruned nodes, max_depth=5\u001b[0m\n",
      "\u001b[34m[24]#011train-error:0.177933#011validation-error:0.2001\u001b[0m\n",
      "\u001b[34m[16:49:14] src/tree/updater_prune.cc:74: tree pruning end, 1 roots, 20 extra nodes, 8 pruned nodes, max_depth=5\u001b[0m\n",
      "\u001b[34m[25]#011train-error:0.175533#011validation-error:0.1984\u001b[0m\n",
      "\u001b[34m[16:49:15] src/tree/updater_prune.cc:74: tree pruning end, 1 roots, 20 extra nodes, 16 pruned nodes, max_depth=5\u001b[0m\n",
      "\u001b[34m[26]#011train-error:0.175533#011validation-error:0.1967\u001b[0m\n",
      "\u001b[34m[16:49:16] src/tree/updater_prune.cc:74: tree pruning end, 1 roots, 44 extra nodes, 0 pruned nodes, max_depth=5\u001b[0m\n",
      "\u001b[34m[27]#011train-error:0.1716#011validation-error:0.1955\u001b[0m\n",
      "\u001b[34m[16:49:18] src/tree/updater_prune.cc:74: tree pruning end, 1 roots, 14 extra nodes, 8 pruned nodes, max_depth=5\u001b[0m\n",
      "\u001b[34m[28]#011train-error:0.1702#011validation-error:0.1949\u001b[0m\n",
      "\u001b[34m[16:49:19] src/tree/updater_prune.cc:74: tree pruning end, 1 roots, 20 extra nodes, 10 pruned nodes, max_depth=5\u001b[0m\n",
      "\u001b[34m[29]#011train-error:0.1696#011validation-error:0.1933\u001b[0m\n",
      "\u001b[34m[16:49:20] src/tree/updater_prune.cc:74: tree pruning end, 1 roots, 18 extra nodes, 10 pruned nodes, max_depth=5\u001b[0m\n",
      "\u001b[34m[30]#011train-error:0.1672#011validation-error:0.1914\u001b[0m\n",
      "\u001b[34m[16:49:22] src/tree/updater_prune.cc:74: tree pruning end, 1 roots, 18 extra nodes, 6 pruned nodes, max_depth=5\u001b[0m\n",
      "\u001b[34m[31]#011train-error:0.1658#011validation-error:0.1914\u001b[0m\n",
      "\u001b[34m[16:49:23] src/tree/updater_prune.cc:74: tree pruning end, 1 roots, 22 extra nodes, 14 pruned nodes, max_depth=5\u001b[0m\n",
      "\u001b[34m[32]#011train-error:0.163867#011validation-error:0.1902\u001b[0m\n",
      "\u001b[34m[16:49:24] src/tree/updater_prune.cc:74: tree pruning end, 1 roots, 28 extra nodes, 4 pruned nodes, max_depth=5\u001b[0m\n",
      "\u001b[34m[33]#011train-error:0.1624#011validation-error:0.1898\u001b[0m\n",
      "\u001b[34m[16:49:25] src/tree/updater_prune.cc:74: tree pruning end, 1 roots, 20 extra nodes, 10 pruned nodes, max_depth=5\u001b[0m\n",
      "\u001b[34m[34]#011train-error:0.161333#011validation-error:0.1881\u001b[0m\n",
      "\u001b[34m[16:49:27] src/tree/updater_prune.cc:74: tree pruning end, 1 roots, 28 extra nodes, 14 pruned nodes, max_depth=5\u001b[0m\n",
      "\u001b[34m[35]#011train-error:0.159#011validation-error:0.1881\u001b[0m\n",
      "\u001b[34m[16:49:28] src/tree/updater_prune.cc:74: tree pruning end, 1 roots, 18 extra nodes, 4 pruned nodes, max_depth=5\u001b[0m\n",
      "\u001b[34m[36]#011train-error:0.157933#011validation-error:0.1857\u001b[0m\n"
     ]
    },
    {
     "name": "stdout",
     "output_type": "stream",
     "text": [
      "\u001b[34m[16:49:29] src/tree/updater_prune.cc:74: tree pruning end, 1 roots, 22 extra nodes, 6 pruned nodes, max_depth=5\u001b[0m\n",
      "\u001b[34m[37]#011train-error:0.156933#011validation-error:0.1848\u001b[0m\n",
      "\u001b[34m[16:49:30] src/tree/updater_prune.cc:74: tree pruning end, 1 roots, 28 extra nodes, 6 pruned nodes, max_depth=5\u001b[0m\n",
      "\u001b[34m[38]#011train-error:0.155667#011validation-error:0.1823\u001b[0m\n",
      "\u001b[34m[16:49:32] src/tree/updater_prune.cc:74: tree pruning end, 1 roots, 26 extra nodes, 10 pruned nodes, max_depth=5\u001b[0m\n",
      "\u001b[34m[39]#011train-error:0.153533#011validation-error:0.1817\u001b[0m\n",
      "\u001b[34m[16:49:33] src/tree/updater_prune.cc:74: tree pruning end, 1 roots, 22 extra nodes, 12 pruned nodes, max_depth=5\u001b[0m\n",
      "\u001b[34m[40]#011train-error:0.151267#011validation-error:0.1811\u001b[0m\n",
      "\u001b[34m[16:49:34] src/tree/updater_prune.cc:74: tree pruning end, 1 roots, 28 extra nodes, 4 pruned nodes, max_depth=5\u001b[0m\n",
      "\u001b[34m[41]#011train-error:0.1496#011validation-error:0.1798\u001b[0m\n",
      "\u001b[34m[16:49:35] src/tree/updater_prune.cc:74: tree pruning end, 1 roots, 22 extra nodes, 6 pruned nodes, max_depth=5\u001b[0m\n",
      "\u001b[34m[42]#011train-error:0.149267#011validation-error:0.1793\u001b[0m\n",
      "\u001b[34m[16:49:37] src/tree/updater_prune.cc:74: tree pruning end, 1 roots, 28 extra nodes, 2 pruned nodes, max_depth=5\u001b[0m\n",
      "\u001b[34m[43]#011train-error:0.1476#011validation-error:0.1788\u001b[0m\n",
      "\u001b[34m[16:49:38] src/tree/updater_prune.cc:74: tree pruning end, 1 roots, 24 extra nodes, 6 pruned nodes, max_depth=5\u001b[0m\n",
      "\u001b[34m[44]#011train-error:0.147533#011validation-error:0.1771\u001b[0m\n",
      "\u001b[34m[16:49:39] src/tree/updater_prune.cc:74: tree pruning end, 1 roots, 20 extra nodes, 6 pruned nodes, max_depth=5\u001b[0m\n",
      "\u001b[34m[45]#011train-error:0.1468#011validation-error:0.178\u001b[0m\n",
      "\u001b[34m[16:49:40] src/tree/updater_prune.cc:74: tree pruning end, 1 roots, 34 extra nodes, 10 pruned nodes, max_depth=5\u001b[0m\n",
      "\u001b[34m[46]#011train-error:0.144#011validation-error:0.1762\u001b[0m\n",
      "\u001b[34m[16:49:42] src/tree/updater_prune.cc:74: tree pruning end, 1 roots, 16 extra nodes, 6 pruned nodes, max_depth=5\u001b[0m\n",
      "\u001b[34m[47]#011train-error:0.1434#011validation-error:0.1755\u001b[0m\n",
      "\u001b[34m[16:49:43] src/tree/updater_prune.cc:74: tree pruning end, 1 roots, 32 extra nodes, 12 pruned nodes, max_depth=5\u001b[0m\n",
      "\u001b[34m[48]#011train-error:0.1418#011validation-error:0.1748\u001b[0m\n",
      "\u001b[34m[16:49:44] src/tree/updater_prune.cc:74: tree pruning end, 1 roots, 20 extra nodes, 14 pruned nodes, max_depth=5\u001b[0m\n",
      "\u001b[34m[49]#011train-error:0.140867#011validation-error:0.1736\u001b[0m\n",
      "\u001b[34m[16:49:46] src/tree/updater_prune.cc:74: tree pruning end, 1 roots, 18 extra nodes, 8 pruned nodes, max_depth=5\u001b[0m\n",
      "\u001b[34m[50]#011train-error:0.139667#011validation-error:0.1728\u001b[0m\n",
      "\u001b[34m[16:49:47] src/tree/updater_prune.cc:74: tree pruning end, 1 roots, 18 extra nodes, 6 pruned nodes, max_depth=5\u001b[0m\n",
      "\u001b[34m[51]#011train-error:0.1398#011validation-error:0.1717\u001b[0m\n",
      "\u001b[34m[16:49:48] src/tree/updater_prune.cc:74: tree pruning end, 1 roots, 18 extra nodes, 8 pruned nodes, max_depth=5\u001b[0m\n",
      "\u001b[34m[52]#011train-error:0.1386#011validation-error:0.1707\u001b[0m\n",
      "\u001b[34m[16:49:49] src/tree/updater_prune.cc:74: tree pruning end, 1 roots, 16 extra nodes, 6 pruned nodes, max_depth=5\u001b[0m\n",
      "\u001b[34m[53]#011train-error:0.138467#011validation-error:0.1716\u001b[0m\n",
      "\u001b[34m[16:49:51] src/tree/updater_prune.cc:74: tree pruning end, 1 roots, 22 extra nodes, 12 pruned nodes, max_depth=5\u001b[0m\n",
      "\u001b[34m[54]#011train-error:0.137467#011validation-error:0.1702\u001b[0m\n",
      "\u001b[34m[16:49:52] src/tree/updater_prune.cc:74: tree pruning end, 1 roots, 20 extra nodes, 14 pruned nodes, max_depth=5\u001b[0m\n",
      "\u001b[34m[55]#011train-error:0.136933#011validation-error:0.1695\u001b[0m\n",
      "\u001b[34m[16:49:53] src/tree/updater_prune.cc:74: tree pruning end, 1 roots, 12 extra nodes, 14 pruned nodes, max_depth=5\u001b[0m\n",
      "\u001b[34m[56]#011train-error:0.136333#011validation-error:0.1691\u001b[0m\n",
      "\u001b[34m[16:49:54] src/tree/updater_prune.cc:74: tree pruning end, 1 roots, 30 extra nodes, 6 pruned nodes, max_depth=5\u001b[0m\n",
      "\u001b[34m[57]#011train-error:0.135#011validation-error:0.169\u001b[0m\n",
      "\u001b[34m[16:49:56] src/tree/updater_prune.cc:74: tree pruning end, 1 roots, 16 extra nodes, 10 pruned nodes, max_depth=5\u001b[0m\n",
      "\u001b[34m[58]#011train-error:0.134933#011validation-error:0.1691\u001b[0m\n",
      "\u001b[34m[16:49:57] src/tree/updater_prune.cc:74: tree pruning end, 1 roots, 20 extra nodes, 12 pruned nodes, max_depth=5\u001b[0m\n",
      "\u001b[34m[59]#011train-error:0.134067#011validation-error:0.1689\u001b[0m\n",
      "\u001b[34m[16:49:58] src/tree/updater_prune.cc:74: tree pruning end, 1 roots, 22 extra nodes, 12 pruned nodes, max_depth=5\u001b[0m\n",
      "\u001b[34m[60]#011train-error:0.133#011validation-error:0.1686\u001b[0m\n",
      "\u001b[34m[16:49:59] src/tree/updater_prune.cc:74: tree pruning end, 1 roots, 24 extra nodes, 12 pruned nodes, max_depth=5\u001b[0m\n",
      "\u001b[34m[61]#011train-error:0.132133#011validation-error:0.1665\u001b[0m\n",
      "\u001b[34m[16:50:01] src/tree/updater_prune.cc:74: tree pruning end, 1 roots, 34 extra nodes, 6 pruned nodes, max_depth=5\u001b[0m\n",
      "\u001b[34m[62]#011train-error:0.1306#011validation-error:0.1662\u001b[0m\n",
      "\u001b[34m[16:50:02] src/tree/updater_prune.cc:74: tree pruning end, 1 roots, 28 extra nodes, 4 pruned nodes, max_depth=5\u001b[0m\n",
      "\u001b[34m[63]#011train-error:0.129267#011validation-error:0.165\u001b[0m\n",
      "\u001b[34m[16:50:03] src/tree/updater_prune.cc:74: tree pruning end, 1 roots, 18 extra nodes, 10 pruned nodes, max_depth=5\u001b[0m\n",
      "\u001b[34m[64]#011train-error:0.1292#011validation-error:0.1642\u001b[0m\n",
      "\u001b[34m[16:50:04] src/tree/updater_prune.cc:74: tree pruning end, 1 roots, 12 extra nodes, 8 pruned nodes, max_depth=5\u001b[0m\n",
      "\u001b[34m[65]#011train-error:0.129#011validation-error:0.1637\u001b[0m\n",
      "\u001b[34m[16:50:06] src/tree/updater_prune.cc:74: tree pruning end, 1 roots, 20 extra nodes, 6 pruned nodes, max_depth=5\u001b[0m\n",
      "\u001b[34m[66]#011train-error:0.1274#011validation-error:0.1633\u001b[0m\n",
      "\u001b[34m[16:50:07] src/tree/updater_prune.cc:74: tree pruning end, 1 roots, 20 extra nodes, 10 pruned nodes, max_depth=5\u001b[0m\n",
      "\u001b[34m[67]#011train-error:0.126533#011validation-error:0.1628\u001b[0m\n",
      "\u001b[34m[16:50:08] src/tree/updater_prune.cc:74: tree pruning end, 1 roots, 14 extra nodes, 2 pruned nodes, max_depth=5\u001b[0m\n",
      "\u001b[34m[68]#011train-error:0.126667#011validation-error:0.1625\u001b[0m\n",
      "\u001b[34m[16:50:10] src/tree/updater_prune.cc:74: tree pruning end, 1 roots, 20 extra nodes, 8 pruned nodes, max_depth=5\u001b[0m\n",
      "\u001b[34m[69]#011train-error:0.124333#011validation-error:0.162\u001b[0m\n",
      "\u001b[34m[16:50:11] src/tree/updater_prune.cc:74: tree pruning end, 1 roots, 18 extra nodes, 12 pruned nodes, max_depth=5\u001b[0m\n",
      "\u001b[34m[70]#011train-error:0.1242#011validation-error:0.1627\u001b[0m\n",
      "\u001b[34m[16:50:12] src/tree/updater_prune.cc:74: tree pruning end, 1 roots, 10 extra nodes, 6 pruned nodes, max_depth=5\u001b[0m\n",
      "\u001b[34m[71]#011train-error:0.124267#011validation-error:0.1621\u001b[0m\n",
      "\u001b[34m[16:50:13] src/tree/updater_prune.cc:74: tree pruning end, 1 roots, 18 extra nodes, 12 pruned nodes, max_depth=5\u001b[0m\n",
      "\u001b[34m[72]#011train-error:0.1238#011validation-error:0.1619\u001b[0m\n",
      "\u001b[34m[16:50:15] src/tree/updater_prune.cc:74: tree pruning end, 1 roots, 14 extra nodes, 16 pruned nodes, max_depth=5\u001b[0m\n",
      "\u001b[34m[73]#011train-error:0.1232#011validation-error:0.1618\u001b[0m\n",
      "\u001b[34m[16:50:16] src/tree/updater_prune.cc:74: tree pruning end, 1 roots, 22 extra nodes, 12 pruned nodes, max_depth=5\u001b[0m\n",
      "\u001b[34m[74]#011train-error:0.1234#011validation-error:0.1605\u001b[0m\n",
      "\u001b[34m[16:50:17] src/tree/updater_prune.cc:74: tree pruning end, 1 roots, 18 extra nodes, 10 pruned nodes, max_depth=5\u001b[0m\n",
      "\u001b[34m[75]#011train-error:0.123#011validation-error:0.16\u001b[0m\n",
      "\u001b[34m[16:50:18] src/tree/updater_prune.cc:74: tree pruning end, 1 roots, 10 extra nodes, 10 pruned nodes, max_depth=5\u001b[0m\n",
      "\u001b[34m[76]#011train-error:0.122067#011validation-error:0.1591\u001b[0m\n",
      "\u001b[34m[16:50:20] src/tree/updater_prune.cc:74: tree pruning end, 1 roots, 36 extra nodes, 4 pruned nodes, max_depth=5\u001b[0m\n",
      "\u001b[34m[77]#011train-error:0.121067#011validation-error:0.1588\u001b[0m\n",
      "\u001b[34m[16:50:21] src/tree/updater_prune.cc:74: tree pruning end, 1 roots, 40 extra nodes, 10 pruned nodes, max_depth=5\u001b[0m\n",
      "\u001b[34m[78]#011train-error:0.1184#011validation-error:0.1595\u001b[0m\n",
      "\u001b[34m[16:50:22] src/tree/updater_prune.cc:74: tree pruning end, 1 roots, 28 extra nodes, 6 pruned nodes, max_depth=5\u001b[0m\n",
      "\u001b[34m[79]#011train-error:0.118133#011validation-error:0.1581\u001b[0m\n",
      "\u001b[34m[16:50:23] src/tree/updater_prune.cc:74: tree pruning end, 1 roots, 20 extra nodes, 8 pruned nodes, max_depth=5\u001b[0m\n",
      "\u001b[34m[80]#011train-error:0.1184#011validation-error:0.1566\u001b[0m\n",
      "\u001b[34m[16:50:25] src/tree/updater_prune.cc:74: tree pruning end, 1 roots, 18 extra nodes, 6 pruned nodes, max_depth=5\u001b[0m\n",
      "\u001b[34m[81]#011train-error:0.118#011validation-error:0.1551\u001b[0m\n",
      "\u001b[34m[16:50:26] src/tree/updater_prune.cc:74: tree pruning end, 1 roots, 24 extra nodes, 10 pruned nodes, max_depth=5\u001b[0m\n",
      "\u001b[34m[82]#011train-error:0.117467#011validation-error:0.1556\u001b[0m\n",
      "\u001b[34m[16:50:27] src/tree/updater_prune.cc:74: tree pruning end, 1 roots, 16 extra nodes, 10 pruned nodes, max_depth=5\u001b[0m\n",
      "\u001b[34m[83]#011train-error:0.116467#011validation-error:0.1551\u001b[0m\n",
      "\u001b[34m[16:50:29] src/tree/updater_prune.cc:74: tree pruning end, 1 roots, 18 extra nodes, 10 pruned nodes, max_depth=5\u001b[0m\n",
      "\u001b[34m[84]#011train-error:0.115333#011validation-error:0.155\u001b[0m\n"
     ]
    },
    {
     "name": "stdout",
     "output_type": "stream",
     "text": [
      "\u001b[34m[16:50:30] src/tree/updater_prune.cc:74: tree pruning end, 1 roots, 14 extra nodes, 8 pruned nodes, max_depth=5\u001b[0m\n",
      "\u001b[34m[85]#011train-error:0.115267#011validation-error:0.1538\u001b[0m\n",
      "\u001b[34m[16:50:31] src/tree/updater_prune.cc:74: tree pruning end, 1 roots, 26 extra nodes, 6 pruned nodes, max_depth=5\u001b[0m\n",
      "\u001b[34m[86]#011train-error:0.115333#011validation-error:0.1533\u001b[0m\n",
      "\u001b[34m[16:50:32] src/tree/updater_prune.cc:74: tree pruning end, 1 roots, 18 extra nodes, 0 pruned nodes, max_depth=5\u001b[0m\n",
      "\u001b[34m[87]#011train-error:0.114467#011validation-error:0.1541\u001b[0m\n",
      "\u001b[34m[16:50:34] src/tree/updater_prune.cc:74: tree pruning end, 1 roots, 10 extra nodes, 2 pruned nodes, max_depth=5\u001b[0m\n",
      "\u001b[34m[88]#011train-error:0.114133#011validation-error:0.1547\u001b[0m\n",
      "\u001b[34m[16:50:35] src/tree/updater_prune.cc:74: tree pruning end, 1 roots, 10 extra nodes, 8 pruned nodes, max_depth=5\u001b[0m\n",
      "\u001b[34m[89]#011train-error:0.114133#011validation-error:0.1541\u001b[0m\n",
      "\u001b[34m[16:50:36] src/tree/updater_prune.cc:74: tree pruning end, 1 roots, 22 extra nodes, 8 pruned nodes, max_depth=5\u001b[0m\n",
      "\u001b[34m[90]#011train-error:0.1134#011validation-error:0.1532\u001b[0m\n",
      "\u001b[34m[16:50:37] src/tree/updater_prune.cc:74: tree pruning end, 1 roots, 30 extra nodes, 10 pruned nodes, max_depth=5\u001b[0m\n",
      "\u001b[34m[91]#011train-error:0.1128#011validation-error:0.1525\u001b[0m\n",
      "\u001b[34m[16:50:39] src/tree/updater_prune.cc:74: tree pruning end, 1 roots, 20 extra nodes, 4 pruned nodes, max_depth=5\u001b[0m\n",
      "\u001b[34m[92]#011train-error:0.112467#011validation-error:0.152\u001b[0m\n",
      "\u001b[34m[16:50:40] src/tree/updater_prune.cc:74: tree pruning end, 1 roots, 28 extra nodes, 14 pruned nodes, max_depth=5\u001b[0m\n",
      "\u001b[34m[93]#011train-error:0.111333#011validation-error:0.152\u001b[0m\n",
      "\u001b[34m[16:50:41] src/tree/updater_prune.cc:74: tree pruning end, 1 roots, 24 extra nodes, 10 pruned nodes, max_depth=5\u001b[0m\n",
      "\u001b[34m[94]#011train-error:0.1114#011validation-error:0.151\u001b[0m\n",
      "\u001b[34m[16:50:42] src/tree/updater_prune.cc:74: tree pruning end, 1 roots, 10 extra nodes, 4 pruned nodes, max_depth=5\u001b[0m\n",
      "\u001b[34m[95]#011train-error:0.110533#011validation-error:0.15\u001b[0m\n",
      "\u001b[34m[16:50:44] src/tree/updater_prune.cc:74: tree pruning end, 1 roots, 24 extra nodes, 6 pruned nodes, max_depth=5\u001b[0m\n",
      "\u001b[34m[96]#011train-error:0.109933#011validation-error:0.1488\u001b[0m\n",
      "\u001b[34m[16:50:45] src/tree/updater_prune.cc:74: tree pruning end, 1 roots, 34 extra nodes, 14 pruned nodes, max_depth=5\u001b[0m\n",
      "\u001b[34m[97]#011train-error:0.1096#011validation-error:0.1496\u001b[0m\n",
      "\u001b[34m[16:50:46] src/tree/updater_prune.cc:74: tree pruning end, 1 roots, 22 extra nodes, 4 pruned nodes, max_depth=5\u001b[0m\n",
      "\u001b[34m[98]#011train-error:0.108133#011validation-error:0.1479\u001b[0m\n",
      "\u001b[34m[16:50:47] src/tree/updater_prune.cc:74: tree pruning end, 1 roots, 10 extra nodes, 12 pruned nodes, max_depth=5\u001b[0m\n",
      "\u001b[34m[99]#011train-error:0.1086#011validation-error:0.1484\u001b[0m\n",
      "\u001b[34m[16:50:49] src/tree/updater_prune.cc:74: tree pruning end, 1 roots, 20 extra nodes, 8 pruned nodes, max_depth=5\u001b[0m\n",
      "\u001b[34m[100]#011train-error:0.1072#011validation-error:0.1468\u001b[0m\n",
      "\u001b[34m[16:50:50] src/tree/updater_prune.cc:74: tree pruning end, 1 roots, 18 extra nodes, 6 pruned nodes, max_depth=5\u001b[0m\n",
      "\u001b[34m[101]#011train-error:0.106733#011validation-error:0.148\u001b[0m\n",
      "\u001b[34m[16:50:51] src/tree/updater_prune.cc:74: tree pruning end, 1 roots, 16 extra nodes, 12 pruned nodes, max_depth=5\u001b[0m\n",
      "\u001b[34m[102]#011train-error:0.106867#011validation-error:0.1479\u001b[0m\n",
      "\u001b[34m[16:50:52] src/tree/updater_prune.cc:74: tree pruning end, 1 roots, 16 extra nodes, 8 pruned nodes, max_depth=5\u001b[0m\n",
      "\u001b[34m[103]#011train-error:0.106333#011validation-error:0.147\u001b[0m\n",
      "\u001b[34m[16:50:54] src/tree/updater_prune.cc:74: tree pruning end, 1 roots, 14 extra nodes, 2 pruned nodes, max_depth=5\u001b[0m\n",
      "\u001b[34m[104]#011train-error:0.105867#011validation-error:0.1465\u001b[0m\n",
      "\u001b[34m[16:50:55] src/tree/updater_prune.cc:74: tree pruning end, 1 roots, 38 extra nodes, 10 pruned nodes, max_depth=5\u001b[0m\n",
      "\u001b[34m[105]#011train-error:0.104133#011validation-error:0.146\u001b[0m\n",
      "\u001b[34m[16:50:56] src/tree/updater_prune.cc:74: tree pruning end, 1 roots, 16 extra nodes, 4 pruned nodes, max_depth=5\u001b[0m\n",
      "\u001b[34m[106]#011train-error:0.102867#011validation-error:0.1456\u001b[0m\n",
      "\u001b[34m[16:50:58] src/tree/updater_prune.cc:74: tree pruning end, 1 roots, 16 extra nodes, 4 pruned nodes, max_depth=5\u001b[0m\n",
      "\u001b[34m[107]#011train-error:0.1024#011validation-error:0.1447\u001b[0m\n",
      "\u001b[34m[16:50:59] src/tree/updater_prune.cc:74: tree pruning end, 1 roots, 14 extra nodes, 6 pruned nodes, max_depth=5\u001b[0m\n",
      "\u001b[34m[108]#011train-error:0.102867#011validation-error:0.1445\u001b[0m\n",
      "\u001b[34m[16:51:00] src/tree/updater_prune.cc:74: tree pruning end, 1 roots, 12 extra nodes, 10 pruned nodes, max_depth=5\u001b[0m\n",
      "\u001b[34m[109]#011train-error:0.101467#011validation-error:0.1449\u001b[0m\n",
      "\u001b[34m[16:51:01] src/tree/updater_prune.cc:74: tree pruning end, 1 roots, 26 extra nodes, 10 pruned nodes, max_depth=5\u001b[0m\n",
      "\u001b[34m[110]#011train-error:0.100067#011validation-error:0.1447\u001b[0m\n",
      "\u001b[34m[16:51:03] src/tree/updater_prune.cc:74: tree pruning end, 1 roots, 20 extra nodes, 6 pruned nodes, max_depth=5\u001b[0m\n",
      "\u001b[34m[111]#011train-error:0.100467#011validation-error:0.1447\u001b[0m\n",
      "\u001b[34m[16:51:04] src/tree/updater_prune.cc:74: tree pruning end, 1 roots, 20 extra nodes, 12 pruned nodes, max_depth=5\u001b[0m\n",
      "\u001b[34m[112]#011train-error:0.1002#011validation-error:0.1447\u001b[0m\n",
      "\u001b[34m[16:51:05] src/tree/updater_prune.cc:74: tree pruning end, 1 roots, 16 extra nodes, 10 pruned nodes, max_depth=5\u001b[0m\n",
      "\u001b[34m[113]#011train-error:0.1004#011validation-error:0.1445\u001b[0m\n",
      "\u001b[34m[16:51:06] src/tree/updater_prune.cc:74: tree pruning end, 1 roots, 12 extra nodes, 0 pruned nodes, max_depth=5\u001b[0m\n",
      "\u001b[34m[114]#011train-error:0.100333#011validation-error:0.1445\u001b[0m\n",
      "\u001b[34m[16:51:08] src/tree/updater_prune.cc:74: tree pruning end, 1 roots, 20 extra nodes, 4 pruned nodes, max_depth=5\u001b[0m\n",
      "\u001b[34m[115]#011train-error:0.100067#011validation-error:0.1444\u001b[0m\n",
      "\u001b[34m[16:51:09] src/tree/updater_prune.cc:74: tree pruning end, 1 roots, 16 extra nodes, 10 pruned nodes, max_depth=5\u001b[0m\n",
      "\u001b[34m[116]#011train-error:0.099733#011validation-error:0.144\u001b[0m\n",
      "\u001b[34m[16:51:10] src/tree/updater_prune.cc:74: tree pruning end, 1 roots, 16 extra nodes, 16 pruned nodes, max_depth=5\u001b[0m\n",
      "\u001b[34m[117]#011train-error:0.099933#011validation-error:0.1434\u001b[0m\n",
      "\u001b[34m[16:51:11] src/tree/updater_prune.cc:74: tree pruning end, 1 roots, 24 extra nodes, 10 pruned nodes, max_depth=5\u001b[0m\n",
      "\u001b[34m[118]#011train-error:0.0998#011validation-error:0.1425\u001b[0m\n",
      "\u001b[34m[16:51:13] src/tree/updater_prune.cc:74: tree pruning end, 1 roots, 28 extra nodes, 0 pruned nodes, max_depth=5\u001b[0m\n",
      "\u001b[34m[119]#011train-error:0.0986#011validation-error:0.1436\u001b[0m\n",
      "\u001b[34m[16:51:14] src/tree/updater_prune.cc:74: tree pruning end, 1 roots, 14 extra nodes, 6 pruned nodes, max_depth=5\u001b[0m\n",
      "\u001b[34m[120]#011train-error:0.0984#011validation-error:0.1438\u001b[0m\n",
      "\u001b[34m[16:51:15] src/tree/updater_prune.cc:74: tree pruning end, 1 roots, 14 extra nodes, 6 pruned nodes, max_depth=5\u001b[0m\n",
      "\u001b[34m[121]#011train-error:0.0984#011validation-error:0.1446\u001b[0m\n",
      "\u001b[34m[16:51:16] src/tree/updater_prune.cc:74: tree pruning end, 1 roots, 22 extra nodes, 12 pruned nodes, max_depth=5\u001b[0m\n",
      "\u001b[34m[122]#011train-error:0.098133#011validation-error:0.144\u001b[0m\n",
      "\u001b[34m[16:51:18] src/tree/updater_prune.cc:74: tree pruning end, 1 roots, 18 extra nodes, 2 pruned nodes, max_depth=5\u001b[0m\n",
      "\u001b[34m[123]#011train-error:0.097667#011validation-error:0.1441\u001b[0m\n",
      "\u001b[34m[16:51:19] src/tree/updater_prune.cc:74: tree pruning end, 1 roots, 12 extra nodes, 10 pruned nodes, max_depth=5\u001b[0m\n",
      "\u001b[34m[124]#011train-error:0.097133#011validation-error:0.1439\u001b[0m\n",
      "\n",
      "2020-08-21 16:51:27 Uploading - Uploading generated training model\u001b[34m[16:51:20] src/tree/updater_prune.cc:74: tree pruning end, 1 roots, 18 extra nodes, 4 pruned nodes, max_depth=5\u001b[0m\n",
      "\u001b[34m[125]#011train-error:0.096333#011validation-error:0.1436\u001b[0m\n",
      "\u001b[34m[16:51:21] src/tree/updater_prune.cc:74: tree pruning end, 1 roots, 14 extra nodes, 12 pruned nodes, max_depth=5\u001b[0m\n",
      "\u001b[34m[126]#011train-error:0.0962#011validation-error:0.1432\u001b[0m\n",
      "\u001b[34m[16:51:23] src/tree/updater_prune.cc:74: tree pruning end, 1 roots, 18 extra nodes, 12 pruned nodes, max_depth=5\u001b[0m\n",
      "\u001b[34m[127]#011train-error:0.095533#011validation-error:0.1425\u001b[0m\n",
      "\u001b[34m[16:51:24] src/tree/updater_prune.cc:74: tree pruning end, 1 roots, 20 extra nodes, 6 pruned nodes, max_depth=5\u001b[0m\n",
      "\u001b[34m[128]#011train-error:0.094667#011validation-error:0.1427\u001b[0m\n",
      "\u001b[34mStopping. Best iteration:\u001b[0m\n",
      "\u001b[34m[118]#011train-error:0.0998#011validation-error:0.1425\n",
      "\u001b[0m\n"
     ]
    },
    {
     "name": "stdout",
     "output_type": "stream",
     "text": [
      "\n",
      "2020-08-21 16:51:34 Completed - Training job completed\n",
      "Training seconds: 219\n",
      "Billable seconds: 219\n"
     ]
    }
   ],
   "source": [
    "xgb.fit({'train': s3_input_train, 'validation': s3_input_validation})"
   ]
  },
  {
   "cell_type": "markdown",
   "metadata": {},
   "source": [
    "## Step 5: Testing the model\n",
    "\n",
    "Now that we've fit our XGBoost model, it's time to see how well it performs. To do this we will use SageMakers Batch Transform functionality. Batch Transform is a convenient way to perform inference on a large dataset in a way that is not realtime. That is, we don't necessarily need to use our model's results immediately and instead we can perform inference on a large number of samples. An example of this in industry might be performing an end of month report. This method of inference can also be useful to us as it means that we can perform inference on our entire test set. \n",
    "\n",
    "To perform a Batch Transformation we need to first create a transformer objects from our trained estimator object."
   ]
  },
  {
   "cell_type": "code",
   "execution_count": 26,
   "metadata": {},
   "outputs": [
    {
     "name": "stderr",
     "output_type": "stream",
     "text": [
      "Parameter image will be renamed to image_uri in SageMaker Python SDK v2.\n"
     ]
    }
   ],
   "source": [
    "xgb_transformer = xgb.transformer(instance_count = 1, instance_type = 'ml.m4.xlarge')"
   ]
  },
  {
   "cell_type": "markdown",
   "metadata": {},
   "source": [
    "Next we actually perform the transform job. When doing so we need to make sure to specify the type of data we are sending so that it is serialized correctly in the background. In our case we are providing our model with csv data so we specify `text/csv`. Also, if the test data that we have provided is too large to process all at once then we need to specify how the data file should be split up. Since each line is a single entry in our data set we tell SageMaker that it can split the input on each line."
   ]
  },
  {
   "cell_type": "code",
   "execution_count": 27,
   "metadata": {},
   "outputs": [],
   "source": [
    "xgb_transformer.transform(test_location, content_type='text/csv', split_type='Line')"
   ]
  },
  {
   "cell_type": "markdown",
   "metadata": {},
   "source": [
    "Currently the transform job is running but it is doing so in the background. Since we wish to wait until the transform job is done and we would like a bit of feedback we can run the `wait()` method."
   ]
  },
  {
   "cell_type": "code",
   "execution_count": 28,
   "metadata": {},
   "outputs": [
    {
     "name": "stdout",
     "output_type": "stream",
     "text": [
      "...........................\u001b[32m2020-08-21T16:56:30.810:[sagemaker logs]: MaxConcurrentTransforms=4, MaxPayloadInMB=6, BatchStrategy=MULTI_RECORD\u001b[0m\n",
      "\u001b[34mArguments: serve\u001b[0m\n",
      "\u001b[34m[2020-08-21 16:56:30 +0000] [1] [INFO] Starting gunicorn 19.7.1\u001b[0m\n",
      "\u001b[34m[2020-08-21 16:56:30 +0000] [1] [INFO] Listening at: http://0.0.0.0:8080 (1)\u001b[0m\n",
      "\u001b[34m[2020-08-21 16:56:30 +0000] [1] [INFO] Using worker: gevent\u001b[0m\n",
      "\u001b[34m[2020-08-21 16:56:30 +0000] [37] [INFO] Booting worker with pid: 37\u001b[0m\n",
      "\u001b[34m[2020-08-21 16:56:30 +0000] [38] [INFO] Booting worker with pid: 38\u001b[0m\n",
      "\u001b[34m[2020-08-21 16:56:30 +0000] [39] [INFO] Booting worker with pid: 39\u001b[0m\n",
      "\u001b[34m[2020-08-21:16:56:30:INFO] Model loaded successfully for worker : 37\u001b[0m\n",
      "\u001b[35mArguments: serve\u001b[0m\n",
      "\u001b[35m[2020-08-21 16:56:30 +0000] [1] [INFO] Starting gunicorn 19.7.1\u001b[0m\n",
      "\u001b[35m[2020-08-21 16:56:30 +0000] [1] [INFO] Listening at: http://0.0.0.0:8080 (1)\u001b[0m\n",
      "\u001b[35m[2020-08-21 16:56:30 +0000] [1] [INFO] Using worker: gevent\u001b[0m\n",
      "\u001b[35m[2020-08-21 16:56:30 +0000] [37] [INFO] Booting worker with pid: 37\u001b[0m\n",
      "\u001b[35m[2020-08-21 16:56:30 +0000] [38] [INFO] Booting worker with pid: 38\u001b[0m\n",
      "\u001b[35m[2020-08-21 16:56:30 +0000] [39] [INFO] Booting worker with pid: 39\u001b[0m\n",
      "\u001b[35m[2020-08-21:16:56:30:INFO] Model loaded successfully for worker : 37\u001b[0m\n",
      "\u001b[34m[2020-08-21 16:56:30 +0000] [40] [INFO] Booting worker with pid: 40\u001b[0m\n",
      "\u001b[34m[2020-08-21:16:56:30:INFO] Model loaded successfully for worker : 38\u001b[0m\n",
      "\u001b[34m[2020-08-21:16:56:30:INFO] Model loaded successfully for worker : 39\u001b[0m\n",
      "\u001b[35m[2020-08-21 16:56:30 +0000] [40] [INFO] Booting worker with pid: 40\u001b[0m\n",
      "\u001b[35m[2020-08-21:16:56:30:INFO] Model loaded successfully for worker : 38\u001b[0m\n",
      "\u001b[35m[2020-08-21:16:56:30:INFO] Model loaded successfully for worker : 39\u001b[0m\n",
      "\u001b[34m[2020-08-21:16:56:31:INFO] Model loaded successfully for worker : 40\u001b[0m\n",
      "\u001b[34m[2020-08-21:16:56:31:INFO] Sniff delimiter as ','\u001b[0m\n",
      "\u001b[34m[2020-08-21:16:56:31:INFO] Determined delimiter of CSV input is ','\u001b[0m\n",
      "\u001b[34m[2020-08-21:16:56:31:INFO] Sniff delimiter as ','\u001b[0m\n",
      "\u001b[34m[2020-08-21:16:56:31:INFO] Determined delimiter of CSV input is ','\u001b[0m\n",
      "\u001b[34m[2020-08-21:16:56:31:INFO] Sniff delimiter as ','\u001b[0m\n",
      "\u001b[34m[2020-08-21:16:56:31:INFO] Determined delimiter of CSV input is ','\u001b[0m\n",
      "\u001b[34m[2020-08-21:16:56:31:INFO] Sniff delimiter as ','\u001b[0m\n",
      "\u001b[34m[2020-08-21:16:56:31:INFO] Determined delimiter of CSV input is ','\u001b[0m\n",
      "\u001b[35m[2020-08-21:16:56:31:INFO] Model loaded successfully for worker : 40\u001b[0m\n",
      "\u001b[35m[2020-08-21:16:56:31:INFO] Sniff delimiter as ','\u001b[0m\n",
      "\u001b[35m[2020-08-21:16:56:31:INFO] Determined delimiter of CSV input is ','\u001b[0m\n",
      "\u001b[35m[2020-08-21:16:56:31:INFO] Sniff delimiter as ','\u001b[0m\n",
      "\u001b[35m[2020-08-21:16:56:31:INFO] Determined delimiter of CSV input is ','\u001b[0m\n",
      "\u001b[35m[2020-08-21:16:56:31:INFO] Sniff delimiter as ','\u001b[0m\n",
      "\u001b[35m[2020-08-21:16:56:31:INFO] Determined delimiter of CSV input is ','\u001b[0m\n",
      "\u001b[35m[2020-08-21:16:56:31:INFO] Sniff delimiter as ','\u001b[0m\n",
      "\u001b[35m[2020-08-21:16:56:31:INFO] Determined delimiter of CSV input is ','\u001b[0m\n",
      "\u001b[34m[2020-08-21:16:56:33:INFO] Sniff delimiter as ','\u001b[0m\n",
      "\u001b[34m[2020-08-21:16:56:33:INFO] Determined delimiter of CSV input is ','\u001b[0m\n",
      "\u001b[34m[2020-08-21:16:56:33:INFO] Sniff delimiter as ','\u001b[0m\n",
      "\u001b[34m[2020-08-21:16:56:33:INFO] Determined delimiter of CSV input is ','\u001b[0m\n",
      "\u001b[34m[2020-08-21:16:56:33:INFO] Sniff delimiter as ','\u001b[0m\n",
      "\u001b[34m[2020-08-21:16:56:33:INFO] Determined delimiter of CSV input is ','\u001b[0m\n",
      "\u001b[35m[2020-08-21:16:56:33:INFO] Sniff delimiter as ','\u001b[0m\n",
      "\u001b[35m[2020-08-21:16:56:33:INFO] Determined delimiter of CSV input is ','\u001b[0m\n",
      "\u001b[35m[2020-08-21:16:56:33:INFO] Sniff delimiter as ','\u001b[0m\n",
      "\u001b[35m[2020-08-21:16:56:33:INFO] Determined delimiter of CSV input is ','\u001b[0m\n",
      "\u001b[35m[2020-08-21:16:56:33:INFO] Sniff delimiter as ','\u001b[0m\n",
      "\u001b[35m[2020-08-21:16:56:33:INFO] Determined delimiter of CSV input is ','\u001b[0m\n",
      "\u001b[34m[2020-08-21:16:56:34:INFO] Sniff delimiter as ','\u001b[0m\n",
      "\u001b[34m[2020-08-21:16:56:34:INFO] Determined delimiter of CSV input is ','\u001b[0m\n",
      "\u001b[35m[2020-08-21:16:56:34:INFO] Sniff delimiter as ','\u001b[0m\n",
      "\u001b[35m[2020-08-21:16:56:34:INFO] Determined delimiter of CSV input is ','\u001b[0m\n",
      "\u001b[34m[2020-08-21:16:56:36:INFO] Sniff delimiter as ','\u001b[0m\n",
      "\u001b[34m[2020-08-21:16:56:36:INFO] Determined delimiter of CSV input is ','\u001b[0m\n",
      "\u001b[34m[2020-08-21:16:56:36:INFO] Sniff delimiter as ','\u001b[0m\n",
      "\u001b[34m[2020-08-21:16:56:36:INFO] Determined delimiter of CSV input is ','\u001b[0m\n",
      "\u001b[34m[2020-08-21:16:56:36:INFO] Sniff delimiter as ','\u001b[0m\n",
      "\u001b[34m[2020-08-21:16:56:36:INFO] Determined delimiter of CSV input is ','\u001b[0m\n",
      "\u001b[34m[2020-08-21:16:56:36:INFO] Sniff delimiter as ','\u001b[0m\n",
      "\u001b[34m[2020-08-21:16:56:36:INFO] Determined delimiter of CSV input is ','\u001b[0m\n",
      "\u001b[35m[2020-08-21:16:56:36:INFO] Sniff delimiter as ','\u001b[0m\n",
      "\u001b[35m[2020-08-21:16:56:36:INFO] Determined delimiter of CSV input is ','\u001b[0m\n",
      "\u001b[35m[2020-08-21:16:56:36:INFO] Sniff delimiter as ','\u001b[0m\n",
      "\u001b[35m[2020-08-21:16:56:36:INFO] Determined delimiter of CSV input is ','\u001b[0m\n",
      "\u001b[35m[2020-08-21:16:56:36:INFO] Sniff delimiter as ','\u001b[0m\n",
      "\u001b[35m[2020-08-21:16:56:36:INFO] Determined delimiter of CSV input is ','\u001b[0m\n",
      "\u001b[35m[2020-08-21:16:56:36:INFO] Sniff delimiter as ','\u001b[0m\n",
      "\u001b[35m[2020-08-21:16:56:36:INFO] Determined delimiter of CSV input is ','\u001b[0m\n",
      "\u001b[34m[2020-08-21:16:56:38:INFO] Sniff delimiter as ','\u001b[0m\n",
      "\u001b[34m[2020-08-21:16:56:38:INFO] Determined delimiter of CSV input is ','\u001b[0m\n",
      "\u001b[34m[2020-08-21:16:56:38:INFO] Sniff delimiter as ','\u001b[0m\n",
      "\u001b[34m[2020-08-21:16:56:38:INFO] Determined delimiter of CSV input is ','\u001b[0m\n",
      "\u001b[34m[2020-08-21:16:56:38:INFO] Sniff delimiter as ','\u001b[0m\n",
      "\u001b[34m[2020-08-21:16:56:38:INFO] Determined delimiter of CSV input is ','\u001b[0m\n",
      "\u001b[35m[2020-08-21:16:56:38:INFO] Sniff delimiter as ','\u001b[0m\n",
      "\u001b[35m[2020-08-21:16:56:38:INFO] Determined delimiter of CSV input is ','\u001b[0m\n",
      "\u001b[35m[2020-08-21:16:56:38:INFO] Sniff delimiter as ','\u001b[0m\n",
      "\u001b[35m[2020-08-21:16:56:38:INFO] Determined delimiter of CSV input is ','\u001b[0m\n",
      "\u001b[35m[2020-08-21:16:56:38:INFO] Sniff delimiter as ','\u001b[0m\n",
      "\u001b[35m[2020-08-21:16:56:38:INFO] Determined delimiter of CSV input is ','\u001b[0m\n",
      "\u001b[34m[2020-08-21:16:56:39:INFO] Sniff delimiter as ','\u001b[0m\n",
      "\u001b[34m[2020-08-21:16:56:39:INFO] Determined delimiter of CSV input is ','\u001b[0m\n",
      "\u001b[35m[2020-08-21:16:56:39:INFO] Sniff delimiter as ','\u001b[0m\n",
      "\u001b[35m[2020-08-21:16:56:39:INFO] Determined delimiter of CSV input is ','\u001b[0m\n",
      "\u001b[34m[2020-08-21:16:56:41:INFO] Sniff delimiter as ','\u001b[0m\n",
      "\u001b[34m[2020-08-21:16:56:41:INFO] Determined delimiter of CSV input is ','\u001b[0m\n",
      "\u001b[34m[2020-08-21:16:56:41:INFO] Sniff delimiter as ','\u001b[0m\n",
      "\u001b[34m[2020-08-21:16:56:41:INFO] Determined delimiter of CSV input is ','\u001b[0m\n",
      "\u001b[34m[2020-08-21:16:56:41:INFO] Sniff delimiter as ','\u001b[0m\n",
      "\u001b[34m[2020-08-21:16:56:41:INFO] Determined delimiter of CSV input is ','\u001b[0m\n",
      "\u001b[35m[2020-08-21:16:56:41:INFO] Sniff delimiter as ','\u001b[0m\n",
      "\u001b[35m[2020-08-21:16:56:41:INFO] Determined delimiter of CSV input is ','\u001b[0m\n",
      "\u001b[35m[2020-08-21:16:56:41:INFO] Sniff delimiter as ','\u001b[0m\n",
      "\u001b[35m[2020-08-21:16:56:41:INFO] Determined delimiter of CSV input is ','\u001b[0m\n",
      "\u001b[35m[2020-08-21:16:56:41:INFO] Sniff delimiter as ','\u001b[0m\n",
      "\u001b[35m[2020-08-21:16:56:41:INFO] Determined delimiter of CSV input is ','\u001b[0m\n",
      "\u001b[34m[2020-08-21:16:56:43:INFO] Sniff delimiter as ','\u001b[0m\n",
      "\u001b[34m[2020-08-21:16:56:43:INFO] Determined delimiter of CSV input is ','\u001b[0m\n",
      "\u001b[34m[2020-08-21:16:56:43:INFO] Sniff delimiter as ','\u001b[0m\n",
      "\u001b[34m[2020-08-21:16:56:43:INFO] Determined delimiter of CSV input is ','\u001b[0m\n",
      "\u001b[34m[2020-08-21:16:56:43:INFO] Sniff delimiter as ','\u001b[0m\n",
      "\u001b[34m[2020-08-21:16:56:43:INFO] Determined delimiter of CSV input is ','\u001b[0m\n",
      "\u001b[34m[2020-08-21:16:56:43:INFO] Sniff delimiter as ','\u001b[0m\n",
      "\u001b[35m[2020-08-21:16:56:43:INFO] Sniff delimiter as ','\u001b[0m\n",
      "\u001b[35m[2020-08-21:16:56:43:INFO] Determined delimiter of CSV input is ','\u001b[0m\n",
      "\u001b[35m[2020-08-21:16:56:43:INFO] Sniff delimiter as ','\u001b[0m\n",
      "\u001b[35m[2020-08-21:16:56:43:INFO] Determined delimiter of CSV input is ','\u001b[0m\n",
      "\u001b[35m[2020-08-21:16:56:43:INFO] Sniff delimiter as ','\u001b[0m\n",
      "\u001b[35m[2020-08-21:16:56:43:INFO] Determined delimiter of CSV input is ','\u001b[0m\n",
      "\u001b[35m[2020-08-21:16:56:43:INFO] Sniff delimiter as ','\u001b[0m\n",
      "\u001b[34m[2020-08-21:16:56:43:INFO] Determined delimiter of CSV input is ','\u001b[0m\n",
      "\u001b[35m[2020-08-21:16:56:43:INFO] Determined delimiter of CSV input is ','\u001b[0m\n",
      "\u001b[34m[2020-08-21:16:56:46:INFO] Sniff delimiter as ','\u001b[0m\n",
      "\u001b[34m[2020-08-21:16:56:46:INFO] Determined delimiter of CSV input is ','\u001b[0m\n",
      "\u001b[34m[2020-08-21:16:56:46:INFO] Sniff delimiter as ','\u001b[0m\n",
      "\u001b[34m[2020-08-21:16:56:46:INFO] Determined delimiter of CSV input is ','\u001b[0m\n",
      "\u001b[34m[2020-08-21:16:56:46:INFO] Sniff delimiter as ','\u001b[0m\n",
      "\u001b[34m[2020-08-21:16:56:46:INFO] Determined delimiter of CSV input is ','\u001b[0m\n",
      "\u001b[34m[2020-08-21:16:56:46:INFO] Sniff delimiter as ','\u001b[0m\n",
      "\u001b[34m[2020-08-21:16:56:46:INFO] Determined delimiter of CSV input is ','\u001b[0m\n",
      "\u001b[35m[2020-08-21:16:56:46:INFO] Sniff delimiter as ','\u001b[0m\n",
      "\u001b[35m[2020-08-21:16:56:46:INFO] Determined delimiter of CSV input is ','\u001b[0m\n",
      "\u001b[35m[2020-08-21:16:56:46:INFO] Sniff delimiter as ','\u001b[0m\n",
      "\u001b[35m[2020-08-21:16:56:46:INFO] Determined delimiter of CSV input is ','\u001b[0m\n",
      "\u001b[35m[2020-08-21:16:56:46:INFO] Sniff delimiter as ','\u001b[0m\n",
      "\u001b[35m[2020-08-21:16:56:46:INFO] Determined delimiter of CSV input is ','\u001b[0m\n",
      "\u001b[35m[2020-08-21:16:56:46:INFO] Sniff delimiter as ','\u001b[0m\n",
      "\u001b[35m[2020-08-21:16:56:46:INFO] Determined delimiter of CSV input is ','\u001b[0m\n",
      "\u001b[34m[2020-08-21:16:56:48:INFO] Sniff delimiter as ','\u001b[0m\n",
      "\u001b[34m[2020-08-21:16:56:48:INFO] Determined delimiter of CSV input is ','\u001b[0m\n",
      "\u001b[34m[2020-08-21:16:56:48:INFO] Sniff delimiter as ','\u001b[0m\n",
      "\u001b[34m[2020-08-21:16:56:48:INFO] Determined delimiter of CSV input is ','\u001b[0m\n",
      "\u001b[34m[2020-08-21:16:56:48:INFO] Sniff delimiter as ','\u001b[0m\n",
      "\u001b[34m[2020-08-21:16:56:48:INFO] Determined delimiter of CSV input is ','\u001b[0m\n",
      "\u001b[34m[2020-08-21:16:56:48:INFO] Sniff delimiter as ','\u001b[0m\n",
      "\u001b[34m[2020-08-21:16:56:48:INFO] Determined delimiter of CSV input is ','\u001b[0m\n",
      "\u001b[35m[2020-08-21:16:56:48:INFO] Sniff delimiter as ','\u001b[0m\n",
      "\u001b[35m[2020-08-21:16:56:48:INFO] Determined delimiter of CSV input is ','\u001b[0m\n",
      "\u001b[35m[2020-08-21:16:56:48:INFO] Sniff delimiter as ','\u001b[0m\n",
      "\u001b[35m[2020-08-21:16:56:48:INFO] Determined delimiter of CSV input is ','\u001b[0m\n",
      "\u001b[35m[2020-08-21:16:56:48:INFO] Sniff delimiter as ','\u001b[0m\n",
      "\u001b[35m[2020-08-21:16:56:48:INFO] Determined delimiter of CSV input is ','\u001b[0m\n",
      "\u001b[35m[2020-08-21:16:56:48:INFO] Sniff delimiter as ','\u001b[0m\n",
      "\u001b[35m[2020-08-21:16:56:48:INFO] Determined delimiter of CSV input is ','\u001b[0m\n",
      "\u001b[34m[2020-08-21:16:56:50:INFO] Sniff delimiter as ','\u001b[0m\n",
      "\u001b[34m[2020-08-21:16:56:50:INFO] Determined delimiter of CSV input is ','\u001b[0m\n",
      "\u001b[34m[2020-08-21:16:56:50:INFO] Sniff delimiter as ','\u001b[0m\n",
      "\u001b[34m[2020-08-21:16:56:50:INFO] Determined delimiter of CSV input is ','\u001b[0m\n",
      "\u001b[35m[2020-08-21:16:56:50:INFO] Sniff delimiter as ','\u001b[0m\n",
      "\u001b[35m[2020-08-21:16:56:50:INFO] Determined delimiter of CSV input is ','\u001b[0m\n",
      "\u001b[35m[2020-08-21:16:56:50:INFO] Sniff delimiter as ','\u001b[0m\n",
      "\u001b[35m[2020-08-21:16:56:50:INFO] Determined delimiter of CSV input is ','\u001b[0m\n"
     ]
    },
    {
     "name": "stdout",
     "output_type": "stream",
     "text": [
      "\u001b[34m[2020-08-21:16:56:53:INFO] Sniff delimiter as ','\u001b[0m\n",
      "\u001b[34m[2020-08-21:16:56:53:INFO] Determined delimiter of CSV input is ','\u001b[0m\n",
      "\u001b[34m[2020-08-21:16:56:53:INFO] Sniff delimiter as ','\u001b[0m\n",
      "\u001b[34m[2020-08-21:16:56:53:INFO] Determined delimiter of CSV input is ','\u001b[0m\n",
      "\u001b[34m[2020-08-21:16:56:53:INFO] Sniff delimiter as ','\u001b[0m\n",
      "\u001b[34m[2020-08-21:16:56:53:INFO] Determined delimiter of CSV input is ','\u001b[0m\n",
      "\u001b[35m[2020-08-21:16:56:53:INFO] Sniff delimiter as ','\u001b[0m\n",
      "\u001b[35m[2020-08-21:16:56:53:INFO] Determined delimiter of CSV input is ','\u001b[0m\n",
      "\u001b[35m[2020-08-21:16:56:53:INFO] Sniff delimiter as ','\u001b[0m\n",
      "\u001b[35m[2020-08-21:16:56:53:INFO] Determined delimiter of CSV input is ','\u001b[0m\n",
      "\u001b[35m[2020-08-21:16:56:53:INFO] Sniff delimiter as ','\u001b[0m\n",
      "\u001b[35m[2020-08-21:16:56:53:INFO] Determined delimiter of CSV input is ','\u001b[0m\n",
      "\u001b[34m[2020-08-21:16:56:53:INFO] Sniff delimiter as ','\u001b[0m\n",
      "\u001b[34m[2020-08-21:16:56:53:INFO] Determined delimiter of CSV input is ','\u001b[0m\n",
      "\u001b[35m[2020-08-21:16:56:53:INFO] Sniff delimiter as ','\u001b[0m\n",
      "\u001b[35m[2020-08-21:16:56:53:INFO] Determined delimiter of CSV input is ','\u001b[0m\n",
      "\n"
     ]
    }
   ],
   "source": [
    "xgb_transformer.wait()"
   ]
  },
  {
   "cell_type": "markdown",
   "metadata": {},
   "source": [
    "Now the transform job has executed and the result, the estimated sentiment of each review, has been saved on S3. Since we would rather work on this file locally we can perform a bit of notebook magic to copy the file to the `data_dir`."
   ]
  },
  {
   "cell_type": "code",
   "execution_count": 29,
   "metadata": {},
   "outputs": [
    {
     "name": "stdout",
     "output_type": "stream",
     "text": [
      "Completed 256.0 KiB/368.8 KiB (5.0 MiB/s) with 1 file(s) remaining\r",
      "Completed 368.8 KiB/368.8 KiB (7.1 MiB/s) with 1 file(s) remaining\r",
      "download: s3://sagemaker-ap-south-1-678552336062/xgboost-2020-08-21-16-52-14-532/test.csv.out to ../data/sentiment_web_app/test.csv.out\r\n"
     ]
    }
   ],
   "source": [
    "!aws s3 cp --recursive $xgb_transformer.output_path $data_dir"
   ]
  },
  {
   "cell_type": "markdown",
   "metadata": {},
   "source": [
    "The last step is now to read in the output from our model, convert the output to something a little more usable, in this case we want the sentiment to be either `1` (positive) or `0` (negative), and then compare to the ground truth labels."
   ]
  },
  {
   "cell_type": "code",
   "execution_count": 30,
   "metadata": {},
   "outputs": [],
   "source": [
    "predictions = pd.read_csv(os.path.join(data_dir, 'test.csv.out'), header=None)\n",
    "predictions = [round(num) for num in predictions.squeeze().values]"
   ]
  },
  {
   "cell_type": "code",
   "execution_count": 31,
   "metadata": {},
   "outputs": [
    {
     "data": {
      "text/plain": [
       "0.85356"
      ]
     },
     "execution_count": 31,
     "metadata": {},
     "output_type": "execute_result"
    }
   ],
   "source": [
    "from sklearn.metrics import accuracy_score\n",
    "accuracy_score(test_y, predictions)"
   ]
  },
  {
   "cell_type": "markdown",
   "metadata": {},
   "source": [
    "## Step 6: Deploying the model\n",
    "\n",
    "Once we construct and fit our model, SageMaker stores the resulting model artifacts and we can use those to deploy an endpoint (inference code). To see this, look in the SageMaker console and you should see that a model has been created along with a link to the S3 location where the model artifacts have been stored.\n",
    "\n",
    "Deploying an endpoint is a lot like training the model with a few important differences. The first is that a deployed model doesn't change the model artifacts, so as you send it various testing instances the model won't change. Another difference is that since we aren't performing a fixed computation, as we were in the training step or while performing a batch transform, the compute instance that gets started stays running until we tell it to stop. This is important to note as if we forget and leave it running we will be charged the entire time.\n",
    "\n",
    "In other words **If you are no longer using a deployed endpoint, shut it down!**"
   ]
  },
  {
   "cell_type": "code",
   "execution_count": 32,
   "metadata": {},
   "outputs": [
    {
     "name": "stderr",
     "output_type": "stream",
     "text": [
      "Parameter image will be renamed to image_uri in SageMaker Python SDK v2.\n",
      "Using already existing model: xgboost-2020-08-21-16-46-00-467\n"
     ]
    },
    {
     "name": "stdout",
     "output_type": "stream",
     "text": [
      "-------------!"
     ]
    }
   ],
   "source": [
    "xgb_predictor = xgb.deploy(initial_instance_count = 1, instance_type = 'ml.m4.xlarge')"
   ]
  },
  {
   "cell_type": "markdown",
   "metadata": {},
   "source": [
    "### Testing the model (again)\n",
    "\n",
    "Now that we have deployed our endpoint, we can send the testing data to it and get back the inference results. We already did this earlier using the batch transform functionality of SageMaker, however, we will test our model again using the newly deployed endpoint so that we can make sure that it works properly and to get a bit of a feel for how the endpoint works.\n",
    "\n",
    "When using the created endpoint it is important to know that we are limited in the amount of information we can send in each call so we need to break the testing data up into chunks and then send each chunk. Also, we need to serialize our data before we send it to the endpoint to ensure that our data is transmitted properly. Fortunately, SageMaker can do the serialization part for us provided we tell it the format of our data."
   ]
  },
  {
   "cell_type": "code",
   "execution_count": 33,
   "metadata": {},
   "outputs": [],
   "source": [
    "from sagemaker.predictor import csv_serializer\n",
    "\n",
    "# We need to tell the endpoint what format the data we are sending is in so that SageMaker can perform the serialization.\n",
    "xgb_predictor.content_type = 'text/csv'\n",
    "xgb_predictor.serializer = csv_serializer"
   ]
  },
  {
   "cell_type": "code",
   "execution_count": 34,
   "metadata": {},
   "outputs": [],
   "source": [
    "# We split the data into chunks and send each chunk seperately, accumulating the results.\n",
    "\n",
    "def predict(data, rows=512):\n",
    "    split_array = np.array_split(data, int(data.shape[0] / float(rows) + 1))\n",
    "    predictions = ''\n",
    "    for array in split_array:\n",
    "        predictions = ','.join([predictions, xgb_predictor.predict(array).decode('utf-8')])\n",
    "    \n",
    "    return np.fromstring(predictions[1:], sep=',')"
   ]
  },
  {
   "cell_type": "code",
   "execution_count": 35,
   "metadata": {},
   "outputs": [],
   "source": [
    "test_X = pd.read_csv(os.path.join(data_dir, 'test.csv'), header=None).values\n",
    "\n",
    "predictions = predict(test_X)\n",
    "predictions = [round(num) for num in predictions]"
   ]
  },
  {
   "cell_type": "markdown",
   "metadata": {},
   "source": [
    "Lastly, we check to see what the accuracy of our model is."
   ]
  },
  {
   "cell_type": "code",
   "execution_count": 36,
   "metadata": {},
   "outputs": [
    {
     "data": {
      "text/plain": [
       "0.85356"
      ]
     },
     "execution_count": 36,
     "metadata": {},
     "output_type": "execute_result"
    }
   ],
   "source": [
    "from sklearn.metrics import accuracy_score\n",
    "accuracy_score(test_y, predictions)"
   ]
  },
  {
   "cell_type": "markdown",
   "metadata": {},
   "source": [
    "And the results here should agree with the model testing that we did earlier using the batch transform job.\n",
    "\n",
    "### Cleaning up\n",
    "\n",
    "Now that we've determined that deploying our model works as expected, we are going to shut it down. Remember that the longer the endpoint is left running, the greater the cost and since we have a bit more work to do before we are able to use our endpoint with our simple web app, we should shut everything down."
   ]
  },
  {
   "cell_type": "code",
   "execution_count": 37,
   "metadata": {},
   "outputs": [],
   "source": [
    "xgb_predictor.delete_endpoint()"
   ]
  },
  {
   "cell_type": "markdown",
   "metadata": {},
   "source": [
    "## Step 7: Putting our model to work\n",
    "\n",
    "As we've mentioned a few times now, our goal is to have our model deployed and then access it using a very simple web app. The intent is for this web app to take some user submitted data (a review), send it off to our endpoint (the model) and then display the result.\n",
    "\n",
    "However, there is a small catch. Currently the only way we can access the endpoint to send it data is using the SageMaker API. We can, if we wish, expose the actual URL that our model's endpoint is receiving data from, however, if we just send it data ourselves we will not get anything in return. This is because the endpoint created by SageMaker requires the entity accessing it have the correct permissions. So, we would need to somehow authenticate our web app with AWS.\n",
    "\n",
    "Having a website that authenticates to AWS seems a bit beyond the scope of this lesson so we will opt for an alternative approach. Namely, we will create a new endpoint which does not require authentication and which acts as a proxy for the SageMaker endpoint.\n",
    "\n",
    "As an additional constraint, we will try to avoid doing any data processing in the web app itself. Remember that when we constructed and tested our model we started with a movie review, then we simplified it by removing any html formatting and punctuation, then we constructed a bag of words embedding and the resulting vector is what we sent to our model. All of this needs to be done to our user input as well.\n",
    "\n",
    "Fortunately we can do all of this data processing in the backend, using Amazon's Lambda service.\n",
    "\n",
    "<img src=\"Web App Diagram.svg\">\n",
    "\n",
    "The diagram above gives an overview of how the various services will work together. On the far right is the model which we trained above and which will be deployed using SageMaker. On the far left is our web app that collects a user's movie review, sends it off and expects a positive or negative sentiment in return.\n",
    "\n",
    "In the middle is where some of the magic happens. We will construct a Lambda function, which you can think of as a straightforward Python function that can be executed whenever a specified event occurs. This Python function will do the data processing we need to perform on a user submitted review. In addition, we will give this function permission to send and recieve data from a SageMaker endpoint.\n",
    "\n",
    "Lastly, the method we will use to execute the Lambda function is a new endpoint that we will create using API Gateway. This endpoint will be a url that listens for data to be sent to it. Once it gets some data it will pass that data on to the Lambda function and then return whatever the Lambda function returns. Essentially it will act as an interface that lets our web app communicate with the Lambda function.\n",
    "\n",
    "### Processing a single review\n",
    "\n",
    "For now, suppose we are given a movie review by our user in the form of a string, like so:"
   ]
  },
  {
   "cell_type": "code",
   "execution_count": 38,
   "metadata": {},
   "outputs": [],
   "source": [
    "test_review = \"Nothing but a disgusting materialistic pageant of glistening abed remote control greed zombies, totally devoid of any heart or heat. A romantic comedy that has zero romantic chemestry and zero laughs!\""
   ]
  },
  {
   "cell_type": "markdown",
   "metadata": {},
   "source": [
    "How do we go from this string to the bag of words feature vector that is expected by our model?\n",
    "\n",
    "If we recall at the beginning of this notebook, the first step is to remove any unnecessary characters using the `review_to_words` method. Remember that we intentionally did this in a very simplistic way. This is because we are going to have to copy this method to our (eventual) Lambda function (we will go into more detail later) and this means it needs to be rather simplistic."
   ]
  },
  {
   "cell_type": "code",
   "execution_count": 39,
   "metadata": {},
   "outputs": [
    {
     "name": "stdout",
     "output_type": "stream",
     "text": [
      "nothing but a disgusting materialistic pageant of glistening abed remote control greed zombies totally devoid of any heart or heat a romantic comedy that has zero romantic chemestry and zero laughs\n"
     ]
    }
   ],
   "source": [
    "test_words = review_to_words(test_review)\n",
    "print(test_words)"
   ]
  },
  {
   "cell_type": "markdown",
   "metadata": {},
   "source": [
    "Next, we need to construct a bag of words embedding of the `test_words` string. To do this, remember that a bag of words embedding uses a `vocabulary` consisting of the most frequently appearing words in a set of documents. Then, for each word in the vocabulary we record the number of times that word appears in `test_words`. We constructed the `vocabulary` earlier using the training set for our problem so encoding `test_words` is relatively straightforward."
   ]
  },
  {
   "cell_type": "code",
   "execution_count": 40,
   "metadata": {},
   "outputs": [],
   "source": [
    "def bow_encoding(words, vocabulary):\n",
    "    bow = [0] * len(vocabulary) # Start by setting the count for each word in the vocabulary to zero.\n",
    "    for word in words.split():  # For each word in the string\n",
    "        if word in vocabulary:  # If the word is one that occurs in the vocabulary, increase its count.\n",
    "            bow[vocabulary[word]] += 1\n",
    "    return bow"
   ]
  },
  {
   "cell_type": "code",
   "execution_count": 41,
   "metadata": {},
   "outputs": [
    {
     "name": "stdout",
     "output_type": "stream",
     "text": [
      "[0, 0, 0, 0, 0, 0, 0, 0, 0, 0, 0, 0, 0, 0, 0, 0, 0, 0, 0, 0, 0, 0, 0, 0, 0, 0, 0, 0, 0, 0, 0, 0, 0, 0, 0, 0, 0, 0, 0, 0, 0, 0, 0, 0, 0, 0, 0, 0, 0, 0, 0, 0, 0, 0, 0, 0, 0, 0, 0, 0, 0, 0, 0, 0, 0, 0, 0, 0, 0, 0, 0, 0, 0, 0, 0, 0, 0, 0, 0, 0, 0, 0, 0, 0, 0, 0, 0, 0, 0, 0, 0, 0, 0, 0, 0, 0, 0, 0, 0, 0, 0, 0, 0, 0, 0, 0, 0, 0, 0, 0, 0, 0, 0, 0, 0, 0, 0, 0, 0, 0, 0, 0, 0, 0, 0, 0, 0, 0, 0, 0, 0, 0, 0, 0, 0, 0, 0, 0, 0, 0, 0, 0, 0, 0, 0, 0, 0, 0, 0, 0, 0, 0, 0, 0, 0, 0, 0, 0, 0, 0, 0, 0, 0, 0, 0, 0, 0, 0, 0, 0, 0, 0, 0, 0, 0, 0, 0, 0, 0, 0, 0, 0, 0, 0, 0, 0, 0, 0, 0, 0, 0, 0, 0, 0, 0, 0, 0, 0, 0, 0, 0, 0, 0, 0, 0, 0, 0, 0, 0, 0, 0, 0, 0, 0, 0, 0, 0, 0, 0, 0, 0, 0, 0, 0, 0, 0, 1, 0, 0, 0, 0, 0, 0, 0, 0, 0, 0, 0, 0, 0, 0, 0, 0, 0, 0, 0, 0, 0, 0, 0, 0, 0, 0, 0, 0, 0, 1, 0, 0, 0, 0, 0, 0, 0, 0, 0, 0, 0, 0, 0, 0, 0, 0, 0, 0, 0, 0, 0, 0, 0, 0, 0, 0, 0, 0, 0, 0, 0, 0, 0, 0, 0, 0, 0, 0, 0, 0, 0, 0, 0, 0, 0, 0, 0, 0, 0, 0, 0, 0, 0, 0, 0, 0, 0, 0, 0, 0, 0, 0, 0, 0, 0, 0, 0, 0, 0, 0, 0, 0, 0, 0, 0, 0, 0, 0, 0, 0, 0, 0, 0, 0, 0, 0, 0, 0, 0, 0, 0, 0, 0, 0, 0, 0, 0, 0, 0, 0, 0, 0, 0, 0, 0, 0, 0, 0, 0, 0, 0, 0, 0, 0, 0, 0, 0, 0, 0, 0, 0, 0, 0, 0, 0, 0, 0, 0, 0, 0, 0, 0, 0, 0, 0, 0, 0, 0, 0, 0, 0, 0, 0, 0, 0, 0, 0, 0, 0, 0, 0, 0, 0, 0, 0, 0, 0, 0, 0, 0, 0, 0, 0, 0, 0, 0, 0, 0, 0, 0, 0, 0, 0, 0, 0, 0, 0, 0, 0, 0, 0, 0, 0, 0, 0, 0, 0, 0, 0, 0, 0, 0, 0, 0, 0, 0, 0, 0, 0, 0, 0, 0, 0, 0, 0, 0, 0, 0, 0, 0, 0, 0, 0, 0, 0, 0, 0, 0, 0, 0, 0, 0, 0, 0, 0, 0, 0, 0, 0, 0, 0, 0, 0, 0, 0, 0, 0, 0, 0, 0, 0, 0, 0, 0, 0, 0, 0, 0, 0, 0, 0, 0, 0, 0, 0, 0, 0, 0, 0, 0, 0, 0, 0, 0, 0, 0, 0, 0, 0, 0, 0, 0, 0, 0, 0, 0, 0, 0, 0, 0, 0, 0, 0, 0, 0, 0, 0, 0, 0, 0, 0, 0, 0, 0, 0, 0, 0, 0, 0, 0, 0, 0, 0, 0, 0, 0, 0, 0, 0, 0, 0, 0, 0, 0, 0, 0, 0, 0, 0, 0, 0, 0, 0, 0, 0, 0, 0, 0, 0, 0, 0, 0, 0, 0, 0, 0, 0, 0, 0, 0, 0, 0, 0, 0, 0, 0, 0, 0, 0, 0, 0, 0, 0, 0, 0, 0, 0, 0, 0, 0, 0, 0, 0, 0, 0, 0, 0, 0, 0, 0, 0, 0, 0, 0, 0, 0, 0, 0, 0, 1, 0, 0, 0, 0, 0, 0, 0, 0, 0, 0, 0, 0, 0, 0, 0, 0, 0, 0, 0, 0, 0, 0, 0, 0, 0, 0, 0, 0, 0, 0, 0, 0, 0, 0, 0, 0, 0, 0, 0, 0, 0, 0, 0, 0, 0, 0, 0, 0, 0, 0, 0, 0, 0, 0, 0, 0, 0, 0, 0, 0, 0, 0, 0, 0, 0, 0, 0, 0, 0, 0, 0, 0, 0, 0, 0, 0, 0, 0, 0, 0, 0, 0, 0, 0, 0, 0, 0, 0, 0, 0, 0, 0, 0, 0, 0, 0, 0, 0, 0, 0, 0, 0, 0, 0, 0, 0, 0, 0, 0, 0, 0, 0, 0, 0, 0, 0, 0, 0, 0, 0, 0, 0, 0, 0, 0, 0, 0, 0, 0, 0, 0, 0, 0, 0, 0, 0, 0, 0, 0, 0, 0, 0, 0, 0, 0, 0, 0, 0, 0, 0, 0, 0, 0, 0, 0, 0, 0, 0, 0, 0, 0, 0, 0, 0, 0, 0, 0, 0, 0, 0, 0, 0, 0, 0, 0, 0, 0, 0, 0, 0, 0, 0, 0, 0, 0, 0, 0, 0, 0, 0, 0, 0, 0, 0, 0, 0, 0, 0, 0, 0, 0, 0, 0, 0, 0, 0, 0, 0, 0, 0, 0, 0, 0, 0, 0, 0, 0, 0, 0, 0, 0, 0, 0, 0, 0, 0, 0, 0, 0, 0, 0, 0, 0, 0, 0, 0, 0, 0, 0, 0, 0, 0, 0, 0, 0, 0, 0, 0, 0, 0, 0, 0, 0, 1, 0, 0, 0, 0, 0, 0, 0, 0, 0, 0, 0, 0, 0, 0, 0, 0, 0, 0, 0, 0, 0, 0, 0, 0, 0, 0, 0, 0, 0, 0, 0, 0, 0, 0, 0, 0, 0, 0, 0, 0, 0, 0, 0, 0, 0, 0, 0, 0, 0, 0, 0, 0, 0, 0, 0, 0, 0, 0, 0, 0, 0, 0, 0, 0, 0, 0, 0, 0, 0, 0, 0, 0, 0, 0, 0, 0, 0, 0, 0, 0, 0, 0, 0, 0, 0, 0, 1, 0, 0, 0, 0, 0, 0, 0, 0, 0, 0, 0, 0, 0, 0, 0, 0, 0, 0, 0, 0, 0, 0, 0, 0, 0, 0, 0, 0, 0, 0, 0, 0, 0, 0, 0, 0, 0, 0, 0, 0, 0, 0, 0, 0, 0, 0, 0, 0, 0, 0, 0, 0, 0, 0, 0, 0, 0, 0, 0, 0, 0, 0, 0, 0, 0, 0, 0, 0, 0, 0, 0, 0, 0, 0, 0, 0, 0, 0, 0, 0, 0, 0, 0, 0, 0, 0, 0, 0, 0, 0, 0, 0, 0, 0, 0, 0, 0, 0, 0, 0, 0, 0, 0, 0, 0, 0, 0, 0, 0, 0, 0, 0, 0, 0, 0, 0, 0, 0, 0, 0, 0, 0, 0, 0, 0, 0, 0, 0, 0, 0, 0, 0, 0, 0, 0, 0, 0, 0, 0, 0, 0, 0, 0, 0, 0, 0, 0, 0, 0, 0, 0, 0, 0, 0, 0, 0, 0, 0, 0, 0, 0, 0, 0, 0, 0, 0, 0, 0, 0, 0, 0, 0, 0, 0, 0, 0, 0, 0, 0, 0, 0, 0, 0, 0, 0, 0, 0, 0, 0, 0, 0, 0, 0, 0, 0, 0, 0, 0, 0, 0, 0, 0, 0, 0, 0, 0, 0, 0, 0, 0, 0, 0, 0, 0, 0, 0, 0, 0, 0, 0, 0, 0, 0, 0, 0, 0, 0, 0, 0, 0, 0, 0, 0, 0, 0, 0, 0, 0, 0, 0, 0, 0, 0, 0, 0, 0, 0, 0, 0, 0, 0, 0, 1, 0, 0, 0, 0, 0, 0, 0, 0, 0, 0, 0, 0, 0, 0, 0, 0, 0, 0, 0, 0, 0, 0, 0, 0, 0, 0, 0, 0, 0, 0, 0, 0, 0, 0, 0, 0, 0, 0, 0, 0, 0, 0, 0, 0, 0, 0, 0, 0, 0, 0, 0, 0, 0, 0, 0, 1, 0, 0, 0, 0, 0, 0, 0, 0, 0, 0, 0, 0, 0, 0, 0, 0, 0, 0, 0, 0, 0, 0, 0, 0, 0, 0, 0, 0, 0, 0, 0, 0, 0, 0, 0, 0, 0, 0, 0, 0, 0, 0, 0, 0, 0, 0, 0, 0, 0, 0, 0, 0, 0, 0, 0, 0, 0, 0, 0, 0, 0, 0, 0, 0, 0, 0, 0, 0, 0, 0, 0, 0, 0, 0, 0, 0, 0, 0, 0, 0, 0, 0, 0, 0, 0, 0, 0, 0, 0, 0, 0, 0, 0, 0, 0, 0, 0, 0, 0, 0, 0, 0, 0, 0, 0, 0, 0, 0, 0, 0, 0, 0, 0, 0, 0, 0, 0, 0, 0, 0, 0, 0, 0, 0, 0, 0, 0, 0, 0, 0, 0, 0, 0, 0, 0, 0, 0, 0, 0, 0, 0, 0, 0, 0, 0, 0, 0, 0, 0, 0, 0, 0, 0, 0, 0, 0, 0, 0, 0, 0, 0, 0, 0, 0, 0, 0, 0, 0, 0, 0, 0, 0, 0, 0, 0, 0, 0, 0, 0, 0, 0, 0, 0, 0, 0, 0, 0, 0, 0, 0, 0, 0, 0, 0, 0, 0, 0, 0, 0, 0, 0, 0, 0, 0, 0, 0, 0, 0, 0, 0, 0, 0, 0, 0, 0, 0, 0, 0, 0, 0, 0, 0, 0, 0, 0, 0, 0, 0, 0, 0, 0, 0, 0, 0, 0, 0, 0, 0, 0, 0, 0, 0, 0, 0, 0, 0, 0, 0, 0, 0, 0, 0, 0, 0, 0, 0, 0, 0, 0, 0, 0, 0, 0, 0, 0, 0, 0, 0, 0, 0, 0, 0, 0, 0, 0, 0, 0, 0, 0, 0, 0, 0, 0, 0, 0, 0, 0, 0, 0, 0, 0, 0, 0, 0, 0, 0, 0, 0, 0, 0, 0, 0, 0, 0, 0, 0, 0, 0, 0, 0, 0, 0, 0, 0, 0, 0, 0, 0, 0, 0, 0, 0, 0, 0, 0, 0, 0, 0, 0, 0, 0, 0, 0, 0, 0, 0, 0, 0, 0, 0, 0, 0, 0, 0, 0, 0, 0, 0, 0, 0, 0, 0, 0, 0, 0, 0, 0, 0, 0, 0, 0, 0, 0, 0, 0, 0, 0, 0, 0, 0, 0, 0, 0, 0, 0, 0, 0, 0, 0, 0, 0, 0, 0, 0, 0, 0, 0, 0, 0, 0, 0, 0, 0, 0, 0, 0, 0, 0, 0, 0, 0, 0, 0, 0, 0, 0, 0, 0, 0, 0, 0, 0, 0, 0, 0, 0, 0, 0, 0, 0, 0, 0, 0, 0, 0, 0, 0, 0, 0, 0, 0, 0, 0, 0, 0, 0, 0, 0, 0, 0, 0, 0, 0, 0, 0, 0, 0, 0, 0, 0, 0, 0, 0, 0, 0, 0, 0, 0, 0, 0, 0, 0, 0, 0, 0, 0, 0, 0, 0, 0, 0, 0, 0, 0, 0, 0, 0, 0, 0, 0, 0, 0, 0, 0, 0, 0, 0, 0, 0, 0, 0, 0, 0, 0, 0, 0, 0, 0, 0, 0, 0, 0, 0, 0, 0, 0, 0, 0, 0, 0, 0, 0, 0, 0, 0, 0, 0, 0, 0, 0, 0, 0, 0, 0, 0, 0, 0, 0, 0, 0, 0, 0, 0, 0, 0, 0, 0, 0, 0, 0, 0, 0, 0, 0, 0, 0, 0, 0, 0, 0, 0, 0, 0, 0, 0, 0, 0, 0, 0, 0, 0, 0, 0, 0, 0, 0, 0, 0, 0, 0, 0, 0, 0, 0, 0, 0, 0, 0, 0, 0, 0, 0, 0, 0, 0, 0, 0, 0, 0, 0, 0, 0, 0, 0, 0, 0, 0, 0, 0, 0, 0, 0, 0, 0, 0, 0, 0, 0, 0, 0, 0, 0, 0, 0, 0, 0, 0, 0, 0, 0, 0, 0, 0, 0, 0, 0, 0, 0, 0, 0, 0, 0, 0, 0, 0, 0, 0, 0, 0, 0, 0, 0, 0, 0, 0, 0, 0, 0, 0, 0, 0, 0, 0, 0, 0, 0, 0, 0, 0, 0, 0, 0, 0, 0, 0, 0, 0, 0, 0, 0, 0, 0, 0, 0, 0, 0, 0, 0, 0, 0, 0, 1, 0, 0, 0, 0, 0, 0, 0, 0, 0, 0, 0, 0, 0, 0, 0, 0, 0, 0, 0, 0, 0, 0, 0, 0, 0, 0, 0, 0, 0, 0, 0, 0, 0, 0, 0, 0, 0, 0, 0, 0, 0, 0, 0, 0, 0, 0, 0, 0, 0, 0, 0, 0, 0, 0, 0, 0, 0, 0, 0, 0, 0, 0, 0, 0, 0, 0, 0, 0, 0, 0, 0, 0, 0, 0, 1, 0, 0, 0, 0, 0, 0, 0, 0, 0, 0, 0, 0, 0, 0, 0, 0, 0, 0, 0, 0, 1, 0, 0, 1, 0, 0, 0, 0, 0, 0, 0, 0, 0, 0, 0, 0, 0, 0, 0, 0, 0, 0, 0, 0, 0, 0, 0, 0, 0, 0, 0, 0, 0, 0, 0, 0, 0, 0, 0, 0, 0, 0, 0, 0, 0, 0, 0, 0, 0, 0, 0, 0, 0, 0, 0, 0, 0, 0, 0, 0, 0, 0, 0, 0, 0, 0, 0, 0, 0, 0, 0, 0, 0, 0, 0, 0, 0, 0, 0, 0, 0, 0, 0, 0, 0, 0, 0, 0, 0, 0, 0, 0, 0, 0, 0, 0, 0, 0, 0, 0, 0, 0, 0, 0, 0, 0, 0, 0, 0, 0, 0, 0, 0, 0, 0, 0, 0, 0, 0, 0, 0, 0, 0, 0, 0, 0, 0, 0, 0, 0, 0, 0, 0, 0, 0, 0, 0, 0, 0, 0, 0, 0, 0, 0, 0, 0, 0, 0, 0, 0, 0, 0, 0, 0, 0, 0, 0, 0, 0, 0, 0, 0, 0, 0, 0, 0, 0, 0, 0, 0, 0, 0, 0, 0, 0, 0, 0, 0, 0, 0, 0, 0, 0, 0, 0, 0, 0, 0, 0, 0, 0, 0, 0, 0, 0, 0, 0, 0, 0, 0, 0, 0, 0, 0, 0, 0, 0, 0, 0, 0, 0, 0, 0, 0, 0, 0, 0, 0, 0, 0, 0, 0, 0, 0, 0, 0, 0, 0, 0, 0, 0, 0, 0, 0, 0, 0, 0, 0, 0, 0, 0, 0, 0, 0, 0, 0, 0, 0, 0, 0, 0, 0, 0, 0, 0, 0, 0, 0, 0, 0, 0, 0, 0, 0, 0, 0, 0, 0, 0, 0, 0, 0, 0, 0, 0, 0, 0, 0, 0, 0, 0, 0, 0, 0, 0, 0, 0, 0, 0, 0, 0, 0, 0, 0, 0, 0, 0, 0, 0, 0, 0, 0, 0, 0, 0, 0, 0, 0, 0, 0, 0, 0, 0, 0, 0, 0, 0, 0, 0, 0, 0, 0, 0, 0, 0, 0, 0, 0, 0, 0, 0, 0, 0, 0, 0, 0, 0, 0, 0, 0, 0, 0, 0, 0, 0, 0, 0, 0, 0, 0, 0, 0, 0, 0, 0, 0, 0, 0, 0, 0, 0, 0, 0, 0, 0, 0, 0, 0, 0, 0, 0, 0, 0, 0, 0, 0, 0, 0, 0, 0, 0, 0, 0, 0, 0, 0, 0, 0, 0, 0, 0, 0, 0, 0, 0, 0, 0, 0, 0, 0, 0, 0, 0, 0, 0, 0, 0, 0, 0, 0, 0, 0, 0, 0, 0, 0, 0, 0, 0, 0, 0, 0, 0, 0, 0, 0, 0, 0, 0, 0, 0, 0, 0, 0, 0, 0, 0, 0, 0, 0, 0, 0, 0, 0, 0, 0, 0, 0, 0, 0, 0, 0, 0, 0, 0, 0, 0, 0, 0, 0, 0, 0, 0, 0, 0, 0, 0, 0, 0, 0, 1, 0, 0, 0, 0, 0, 0, 0, 0, 0, 0, 0, 0, 0, 0, 0, 0, 0, 0, 0, 0, 0, 0, 0, 0, 0, 0, 0, 0, 0, 0, 0, 0, 0, 0, 0, 0, 0, 0, 0, 0, 0, 0, 0, 0, 0, 0, 0, 0, 0, 0, 0, 0, 0, 0, 0, 0, 0, 0, 0, 0, 0, 0, 0, 0, 0, 0, 0, 0, 0, 0, 0, 0, 0, 0, 0, 0, 0, 0, 0, 0, 0, 0, 0, 0, 0, 0, 0, 0, 0, 0, 0, 0, 0, 0, 0, 0, 0, 0, 0, 0, 0, 0, 0, 0, 0, 0, 0, 0, 0, 0, 0, 0, 0, 0, 0, 0, 0, 0, 0, 0, 0, 0, 0, 0, 0, 0, 0, 0, 0, 0, 0, 0, 0, 0, 0, 0, 0, 0, 0, 0, 0, 0, 0, 0, 0, 0, 0, 0, 0, 0, 0, 0, 0, 0, 0, 0, 0, 0, 0, 0, 0, 0, 0, 0, 0, 0, 0, 0, 0, 0, 0, 0, 0, 0, 0, 0, 0, 0, 0, 0, 0, 0, 0, 0, 0, 0, 0, 0, 0, 0, 0, 0, 0, 0, 0, 0, 0, 0, 0, 0, 0, 0, 0, 0, 0, 0, 0, 0, 0, 0, 0, 0, 0, 0, 0, 0, 0, 0, 0, 0, 0, 0, 0, 0, 0, 0, 0, 0, 0, 0, 0, 0, 0, 0, 0, 0, 0, 0, 0, 0, 0, 0, 0, 0, 0, 0, 0, 0, 0, 0, 0, 0, 0, 0, 0, 0, 0, 0, 0, 0, 0, 0, 0, 0, 0, 0, 0, 0, 0, 0, 0, 0, 0, 0, 0, 0, 0, 0, 0, 0, 0, 0, 0, 0, 0, 0, 0, 0, 0, 0, 0, 0, 0, 0, 0, 0, 0, 0, 0, 0, 0, 0, 0, 0, 0, 0, 0, 0, 0, 0, 0, 0, 0, 0, 0, 0, 0, 0, 0, 0, 0, 0, 0, 0, 0, 0, 0, 0, 0, 0, 0, 0, 0, 0, 0, 0, 0, 0, 0, 0, 0, 0, 0, 0, 0, 0, 0, 0, 0, 0, 0, 0, 0, 0, 0, 0, 0, 0, 0, 0, 0, 0, 0, 0, 0, 0, 0, 0, 0, 0, 0, 0, 0, 0, 0, 0, 0, 0, 0, 0, 0, 0, 0, 0, 0, 0, 0, 0, 0, 0, 0, 0, 0, 0, 0, 0, 0, 0, 0, 0, 0, 0, 0, 0, 0, 0, 0, 0, 0, 0, 0, 0, 0, 0, 0, 0, 0, 0, 0, 0, 0, 0, 0, 0, 0, 0, 0, 0, 0, 0, 0, 0, 0, 0, 0, 0, 0, 0, 0, 0, 0, 0, 0, 0, 0, 0, 0, 0, 0, 0, 0, 0, 0, 0, 0, 0, 0, 0, 0, 0, 0, 0, 0, 0, 0, 0, 0, 0, 0, 0, 0, 0, 0, 0, 0, 0, 0, 0, 0, 0, 0, 0, 0, 0, 0, 0, 0, 0, 0, 0, 0, 0, 0, 0, 0, 0, 0, 0, 0, 0, 0, 0, 0, 0, 0, 0, 0, 0, 0, 0, 0, 0, 1, 0, 0, 0, 0, 0, 0, 0, 0, 0, 0, 0, 0, 0, 0, 0, 0, 0, 0, 0, 0, 0, 0, 0, 0, 0, 0, 0, 0, 0, 0, 0, 0, 0, 0, 0, 2, 0, 0, 0, 0, 0, 0, 0, 0, 0, 0, 0, 0, 0, 0, 0, 0, 0, 0, 0, 0, 0, 0, 0, 0, 0, 0, 0, 0, 0, 0, 0, 0, 0, 0, 0, 0, 0, 0, 0, 0, 1, 0, 0, 0, 0, 0, 0, 0, 0, 0, 0, 0, 0, 0, 0, 0, 0, 0, 0, 0, 0, 0, 0, 0, 0, 0, 0, 0, 0, 0, 0, 0, 0, 0, 0, 0, 0, 0, 0, 0, 0, 0, 0, 0, 0, 0, 0, 0, 0, 0, 0, 0, 0, 0, 0, 0, 0, 0, 0, 0, 0, 0, 0, 0, 0, 0, 0, 0, 0, 0, 0, 0, 0, 0, 0, 0, 0, 0, 0, 0, 0, 0, 0, 0, 0, 0, 0, 0, 0, 0, 0, 0, 0, 0, 0, 0, 0, 0, 0, 0, 0, 0, 0, 0, 0, 0, 0, 0, 0, 0, 0, 0, 0, 0, 0, 0, 0, 0, 0, 0, 0, 0, 0, 0, 0, 0, 0, 0, 0, 0, 0, 0, 0, 0, 0, 0, 0, 0, 0, 0, 0, 0, 0, 0, 0, 0, 0, 0, 0, 0, 0, 0, 0, 0, 0, 0, 0, 0, 0, 0, 0, 0, 0, 0, 0, 0, 0, 0, 0, 0, 0, 0, 0, 0, 0, 0, 0, 0, 0, 0, 0, 0, 0, 0, 0, 0, 0, 0, 0, 0, 0, 0, 0, 0, 0, 0, 0, 0, 0, 0, 0, 0, 0, 0, 0, 0, 0, 0, 0, 0, 0, 0, 0, 0, 0, 0, 0, 0, 0, 0, 0, 0, 0, 0, 0, 0, 0, 0, 0, 0, 0, 0, 0, 0, 0, 0, 0, 0, 0, 0, 0, 0, 0, 0, 0, 0, 0, 0, 0, 0, 0, 0, 0, 0, 0, 0, 0, 0, 0, 0, 0, 0, 0, 0, 0, 0, 0, 0, 0, 0, 0, 0, 0, 0, 0, 0, 0, 0, 0, 0, 0, 0, 0, 0, 0, 0, 0, 0, 0, 0, 0, 0, 0, 0, 0, 0, 0, 0, 0, 0, 0, 0, 0, 0, 0, 0, 0, 0, 0, 0, 0, 0, 0, 0, 0, 0, 0, 0, 0, 0, 0, 0, 0, 0, 0, 0, 0, 0, 0, 0, 0, 0, 0, 0, 0, 0, 0, 0, 0, 0, 0, 0, 0, 0, 0, 0, 0, 0, 0, 0, 0, 0, 0, 0, 0, 0, 0, 0, 0, 0, 0, 0, 0, 0, 0, 0, 0, 0, 0, 0, 0, 0, 0, 0, 0, 0, 0, 0, 0, 0, 0, 0, 0, 0, 0, 0, 0, 0, 0, 0, 0, 0, 0, 0, 0, 0, 0, 0, 0, 0, 0, 0, 0, 0, 0, 0, 0, 0, 0, 0, 0, 0, 0, 0, 0, 0, 0, 0, 0, 0, 0, 0, 0, 0, 0, 0, 0, 0, 0, 0, 0, 0, 0, 0, 0, 0, 0, 0, 0, 0, 0, 0, 0, 0, 0, 0, 0, 0, 0, 0, 0, 0, 0, 0, 0, 0, 0, 0, 0, 0, 0, 0, 0, 0, 0, 0, 0, 0, 0, 0, 0, 0, 0, 0, 0, 0, 0, 0, 0, 0, 0, 0, 0, 0, 0, 0, 0, 0, 0, 0, 0, 0, 0, 0, 0, 0, 0, 0, 1, 0, 0, 0, 0, 0, 0, 0, 0, 0, 0, 0, 0, 0, 0, 0, 0, 0, 0, 0, 0, 0, 0, 0, 0, 0, 0, 0, 0, 0, 0, 0, 0, 0, 0, 0, 0, 0, 0, 0, 0, 0, 0, 0, 0, 0, 0, 0, 0, 0, 0, 0, 0, 0, 0, 0, 0, 0, 0, 0, 0, 0, 0, 0, 0, 0, 0, 0, 0, 0, 0, 0, 0, 0, 0, 0, 0, 0, 0, 0, 0, 0, 0, 0, 0, 0, 0, 0, 0, 0, 0, 0, 0, 0, 0, 0, 0, 0, 0, 0, 0, 0, 0, 0, 0, 0, 0, 0, 0, 0, 0, 2, 0, 0, 0, 0, 0, 0, 0, 0, 0, 0, 0, 0, 0, 0, 0, 0, 0, 0, 0, 0, 0, 0, 0, 0, 0, 0, 0, 0, 0, 0, 0, 0, 0, 0, 0, 0, 0, 0, 0, 0, 0, 0, 0, 0, 0, 0, 0, 0, 0, 0, 0, 0, 0, 0, 0, 0, 0, 0, 0, 0, 0, 0, 0, 0, 0, 0, 0, 0, 0, 0, 0, 0, 0, 0, 0, 0, 0, 0, 0, 0, 0, 0, 0, 0, 0, 0, 0, 0, 0, 0, 0, 0, 0, 0, 0, 0, 0, 0, 0, 0, 0, 0, 0, 0, 0, 0, 0, 0, 0, 0, 0, 0, 0, 0, 0, 0, 0, 0, 0, 0, 0, 0, 0, 0, 0, 0, 0, 0, 0, 0, 0, 0, 0, 0, 0, 0, 0, 0, 0, 0, 0, 0, 0, 0, 0, 0, 0, 0, 0, 0, 0, 0, 0, 0, 0, 0, 0, 0, 0, 0, 0, 0, 0, 0, 0, 0, 0, 0, 0, 0, 0, 0, 0, 0, 0, 0, 0, 0, 0, 0, 0, 0, 0, 0, 0, 0, 0, 0, 0, 0, 0, 0, 0, 0, 0, 0, 0, 0, 0, 0, 0, 0, 0, 0, 0, 0, 0, 0, 0, 0, 0, 0, 0, 0, 0, 0, 0, 0, 0, 0, 0, 0, 0, 0, 0, 0, 0, 0, 0, 0, 0, 0, 0, 0, 0, 0, 0, 0, 0, 0, 0, 0, 0, 0, 0, 0, 0, 0, 0, 0, 0, 0, 0, 0, 0, 0, 0, 0, 0, 0, 0, 0, 0, 0, 0, 0, 0, 0, 0, 0, 0, 0, 0, 0, 0, 0, 0, 0, 0, 0, 0, 0, 0, 0, 0, 0, 0, 0, 0, 0, 0, 0, 0, 0, 0, 0, 0, 0, 0, 0, 0, 0, 0, 0, 0, 0, 0, 0, 0, 0, 0, 0, 0, 0, 0, 0, 0, 0, 0, 0, 0, 0, 0, 0, 0, 0, 0, 0, 0, 0, 0, 0, 0, 0, 0, 0, 0, 0, 0, 0, 0, 0, 0, 0, 0, 0, 0, 0, 0, 0, 0, 0, 0, 0, 0, 0, 0, 0, 0, 0, 0, 0, 0, 0, 0, 0, 0, 0, 0, 0, 0, 0, 0, 0, 0, 0, 0, 0, 0, 0, 0, 0, 0, 0, 0, 0, 0, 0, 0, 0, 0, 0, 0, 0, 0, 0, 0, 0, 0, 0, 0, 0, 0, 0, 0, 0, 0, 0, 0, 0, 0, 0, 0, 0, 0, 0, 0, 0, 0, 0, 0, 0, 0, 0, 0, 0, 0, 0, 0, 0, 0, 0, 0, 0, 0, 0, 0, 0, 0, 0, 0, 0, 0, 0, 0, 0, 0, 0, 0, 0, 0, 0, 0, 0, 0, 0, 0, 0, 0, 0, 0, 0, 0, 0, 0, 0, 0, 0, 0, 0, 0, 0, 0, 0, 0, 0, 0, 0, 0, 0, 0, 0, 0, 0, 0, 0, 0, 0, 0, 0, 0, 0, 0, 0, 0, 0, 0, 0, 0, 0, 0, 0, 0, 0, 0, 0, 0, 0, 0, 0, 0, 0, 0, 0, 0, 0, 0, 0, 0, 0, 0, 0, 0, 0, 0, 0, 0, 0, 0, 0, 0, 0, 0, 0, 0, 0, 0, 0, 0, 0, 0, 0, 0, 0, 0, 0, 0, 0, 0, 0, 0, 0, 0, 0, 0, 0, 0, 0, 0, 0, 0, 0, 0, 0, 0, 0, 0, 0, 0, 0, 0, 0, 0, 0, 0, 0, 0, 0, 0, 0, 0, 0, 0, 0, 0, 0, 0, 0, 0, 0, 0, 0, 0, 0, 0, 0, 0, 0, 0, 0, 0, 0, 0, 0, 0, 0, 0, 0, 0, 0, 0, 0, 0, 0, 0, 0, 0, 0, 0, 0, 0, 0, 0, 0, 0, 0, 0, 0, 0, 0, 0, 0, 0, 0, 0, 0, 0, 0, 0, 0, 0, 0, 0, 0, 0, 0, 0, 0, 0, 0, 0, 0, 0, 0, 0, 0, 0, 0, 0, 0, 0, 0, 0, 0, 0, 0, 0, 0, 0, 0, 0, 0, 0, 0, 0, 0, 0, 0, 0, 0, 0, 0, 0, 0, 0, 0, 0, 0, 0, 0, 1, 0, 0, 0, 0, 0, 0, 0, 0, 0, 0, 0, 0, 0, 0, 0, 0, 0, 0, 0, 0, 0, 0, 0, 0, 0, 0, 0, 0, 0, 0, 0, 0, 0, 0, 0, 0, 0, 0, 0, 0, 0, 0, 0, 0, 0, 0, 0, 0, 0, 0, 0, 0, 0, 0, 0, 0, 0, 0, 0, 0, 0, 0, 0, 0, 0, 0, 0, 0, 0, 0, 0, 0, 0, 0, 0, 0, 0, 0, 0, 0, 0, 0, 0, 0, 0, 0, 0, 0, 0, 0, 0, 0, 0, 0, 0, 0, 0, 0, 0, 0, 0, 0, 0, 0, 0, 0, 0, 1, 0, 0, 0, 0, 0, 0, 0, 0, 0, 0, 0, 0, 0, 0, 0, 0, 0, 0, 0, 0, 0, 0, 0, 0, 0, 0, 0, 0, 0, 0, 0, 0, 0, 0, 0, 0, 0, 0, 0, 0, 0, 0, 0, 0, 0, 0, 0, 0, 0, 0, 0, 0, 0, 0, 0, 0, 0, 0, 0, 0, 0, 0, 0, 0, 0, 0, 0, 0, 0, 0, 0, 0, 0, 0, 0, 0, 0, 0, 0, 0, 0, 0, 0, 0, 0, 0, 0, 0, 0, 0, 0, 0, 0, 0, 0, 0, 0, 0, 0, 0, 0, 0, 0, 0, 0, 0, 0, 0, 0, 0, 0, 0, 0, 0, 0, 0, 0, 0, 0, 0, 0, 0, 0, 0, 0, 0, 0, 0, 0, 0, 0, 0, 0, 0, 0, 0, 0, 0, 0, 0, 0, 0, 0, 0, 0, 0, 0, 0, 0, 0, 0, 0, 0, 0, 0, 0, 0, 0, 0, 0, 0, 0, 0, 0, 0, 0, 0, 0, 0, 0, 0, 0, 0, 0, 0, 0, 0, 0, 0, 0, 0, 0, 0, 0, 0, 0, 0, 0, 0, 0, 0, 0, 0, 0, 0, 0, 0, 0, 0, 0, 0, 0, 0, 0, 0, 0, 0, 0, 0, 0, 0, 0, 0, 0, 0, 0, 0, 0, 0, 0, 0, 0, 0, 0, 0, 0, 0, 0, 0, 0, 0, 0, 0, 0, 0, 0, 0, 0, 0, 0, 0, 0, 0, 0, 0, 0, 0, 0, 0, 0, 0, 0, 0, 0, 0, 0, 0, 0, 0, 0, 0, 0, 0, 0, 0, 0, 0, 0, 0, 0, 0, 0, 0, 0, 0, 0, 0, 0, 0, 0, 0, 0, 0, 0, 0, 0, 0, 0, 0, 0, 0, 0, 0, 0, 0, 0, 0, 0, 0, 0, 0, 0, 0, 0, 0, 0, 0, 0, 0, 0, 0, 0, 0, 0, 0, 0, 0, 0, 0, 0, 0, 0, 0, 0, 0, 0, 0, 0, 0, 0, 0, 0, 0, 0, 0, 0, 0, 0, 0, 0, 0, 0, 0, 0, 0, 0, 0, 0, 0, 0, 0, 0, 0, 0, 0, 0, 0, 0, 0, 0, 0, 0, 0, 0, 0, 0, 0, 0, 0, 0, 0, 0, 0, 0, 0, 0, 0, 0, 0, 0, 0, 0, 0, 0, 0, 0, 0, 0, 0, 0, 0, 0, 0, 0, 0, 0, 0, 0, 0, 0, 0, 0, 0, 0, 0, 0, 0, 0, 0, 0, 0, 0, 0, 0, 0, 0, 0, 0, 0, 0, 0, 0, 0, 0, 0, 0, 0, 0, 0, 0, 0, 0, 0, 0, 0, 0, 0, 0, 0, 0, 0, 0, 0, 0, 0, 0, 0, 0, 0, 0, 0, 0, 0, 0, 0, 0, 0, 0, 0, 0, 0, 0, 0, 2, 0, 1, 0]\n"
     ]
    }
   ],
   "source": [
    "test_bow = bow_encoding(test_words, vocabulary)\n",
    "print(test_bow)"
   ]
  },
  {
   "cell_type": "code",
   "execution_count": 42,
   "metadata": {},
   "outputs": [
    {
     "data": {
      "text/plain": [
       "5000"
      ]
     },
     "execution_count": 42,
     "metadata": {},
     "output_type": "execute_result"
    }
   ],
   "source": [
    "len(test_bow)"
   ]
  },
  {
   "cell_type": "markdown",
   "metadata": {},
   "source": [
    "So now we know how to construct a bag of words encoding of a user provided review, how to we send it to our endpoint? First, we need to start the endpoint back up."
   ]
  },
  {
   "cell_type": "code",
   "execution_count": 43,
   "metadata": {},
   "outputs": [
    {
     "name": "stderr",
     "output_type": "stream",
     "text": [
      "Parameter image will be renamed to image_uri in SageMaker Python SDK v2.\n",
      "Using already existing model: xgboost-2020-08-21-16-46-00-467\n"
     ]
    },
    {
     "name": "stdout",
     "output_type": "stream",
     "text": [
      "-------------!"
     ]
    }
   ],
   "source": [
    "xgb_predictor = xgb.deploy(initial_instance_count = 1, instance_type = 'ml.m4.xlarge')"
   ]
  },
  {
   "cell_type": "markdown",
   "metadata": {},
   "source": [
    "At this point we could just do the same thing that we did earlier when we tested our deployed model and send `test_bow` to our endpoint using the `xgb_predictor` object. However, when we eventually construct our Lambda function we won't have access to this object, so how do we call a SageMaker endpoint?\n",
    "\n",
    "It turns out that Python functions that are used in Lambda have access to another Amazon library called `boto3`. This library provides an API for working with Amazon services, including SageMaker. To start with, we need to get a handle to the SageMaker runtime."
   ]
  },
  {
   "cell_type": "code",
   "execution_count": 44,
   "metadata": {},
   "outputs": [],
   "source": [
    "import boto3\n",
    "\n",
    "runtime = boto3.Session().client('sagemaker-runtime')"
   ]
  },
  {
   "cell_type": "markdown",
   "metadata": {},
   "source": [
    "And now that we have access to the SageMaker runtime, we can ask it to make use of (invoke) an endpoint that has already been created. However, we need to provide SageMaker with the name of the deployed endpoint. To find this out we can print it out using the `xgb_predictor` object."
   ]
  },
  {
   "cell_type": "code",
   "execution_count": 45,
   "metadata": {},
   "outputs": [
    {
     "data": {
      "text/plain": [
       "'xgboost-2020-08-21-16-46-00-467'"
      ]
     },
     "execution_count": 45,
     "metadata": {},
     "output_type": "execute_result"
    }
   ],
   "source": [
    "xgb_predictor.endpoint"
   ]
  },
  {
   "cell_type": "markdown",
   "metadata": {},
   "source": [
    "Using the SageMaker runtime and the name of our endpoint, we can invoke the endpoint and send it the `test_bow` data."
   ]
  },
  {
   "cell_type": "code",
   "execution_count": 46,
   "metadata": {},
   "outputs": [
    {
     "ename": "ParamValidationError",
     "evalue": "Parameter validation failed:\nInvalid type for parameter Body, value: [0, 0, 0, 0, 0, 0, 0, 0, 0, 0, 0, 0, 0, 0, 0, 0, 0, 0, 0, 0, 0, 0, 0, 0, 0, 0, 0, 0, 0, 0, 0, 0, 0, 0, 0, 0, 0, 0, 0, 0, 0, 0, 0, 0, 0, 0, 0, 0, 0, 0, 0, 0, 0, 0, 0, 0, 0, 0, 0, 0, 0, 0, 0, 0, 0, 0, 0, 0, 0, 0, 0, 0, 0, 0, 0, 0, 0, 0, 0, 0, 0, 0, 0, 0, 0, 0, 0, 0, 0, 0, 0, 0, 0, 0, 0, 0, 0, 0, 0, 0, 0, 0, 0, 0, 0, 0, 0, 0, 0, 0, 0, 0, 0, 0, 0, 0, 0, 0, 0, 0, 0, 0, 0, 0, 0, 0, 0, 0, 0, 0, 0, 0, 0, 0, 0, 0, 0, 0, 0, 0, 0, 0, 0, 0, 0, 0, 0, 0, 0, 0, 0, 0, 0, 0, 0, 0, 0, 0, 0, 0, 0, 0, 0, 0, 0, 0, 0, 0, 0, 0, 0, 0, 0, 0, 0, 0, 0, 0, 0, 0, 0, 0, 0, 0, 0, 0, 0, 0, 0, 0, 0, 0, 0, 0, 0, 0, 0, 0, 0, 0, 0, 0, 0, 0, 0, 0, 0, 0, 0, 0, 0, 0, 0, 0, 0, 0, 0, 0, 0, 0, 0, 0, 0, 0, 0, 0, 1, 0, 0, 0, 0, 0, 0, 0, 0, 0, 0, 0, 0, 0, 0, 0, 0, 0, 0, 0, 0, 0, 0, 0, 0, 0, 0, 0, 0, 0, 1, 0, 0, 0, 0, 0, 0, 0, 0, 0, 0, 0, 0, 0, 0, 0, 0, 0, 0, 0, 0, 0, 0, 0, 0, 0, 0, 0, 0, 0, 0, 0, 0, 0, 0, 0, 0, 0, 0, 0, 0, 0, 0, 0, 0, 0, 0, 0, 0, 0, 0, 0, 0, 0, 0, 0, 0, 0, 0, 0, 0, 0, 0, 0, 0, 0, 0, 0, 0, 0, 0, 0, 0, 0, 0, 0, 0, 0, 0, 0, 0, 0, 0, 0, 0, 0, 0, 0, 0, 0, 0, 0, 0, 0, 0, 0, 0, 0, 0, 0, 0, 0, 0, 0, 0, 0, 0, 0, 0, 0, 0, 0, 0, 0, 0, 0, 0, 0, 0, 0, 0, 0, 0, 0, 0, 0, 0, 0, 0, 0, 0, 0, 0, 0, 0, 0, 0, 0, 0, 0, 0, 0, 0, 0, 0, 0, 0, 0, 0, 0, 0, 0, 0, 0, 0, 0, 0, 0, 0, 0, 0, 0, 0, 0, 0, 0, 0, 0, 0, 0, 0, 0, 0, 0, 0, 0, 0, 0, 0, 0, 0, 0, 0, 0, 0, 0, 0, 0, 0, 0, 0, 0, 0, 0, 0, 0, 0, 0, 0, 0, 0, 0, 0, 0, 0, 0, 0, 0, 0, 0, 0, 0, 0, 0, 0, 0, 0, 0, 0, 0, 0, 0, 0, 0, 0, 0, 0, 0, 0, 0, 0, 0, 0, 0, 0, 0, 0, 0, 0, 0, 0, 0, 0, 0, 0, 0, 0, 0, 0, 0, 0, 0, 0, 0, 0, 0, 0, 0, 0, 0, 0, 0, 0, 0, 0, 0, 0, 0, 0, 0, 0, 0, 0, 0, 0, 0, 0, 0, 0, 0, 0, 0, 0, 0, 0, 0, 0, 0, 0, 0, 0, 0, 0, 0, 0, 0, 0, 0, 0, 0, 0, 0, 0, 0, 0, 0, 0, 0, 0, 0, 0, 0, 0, 0, 0, 0, 0, 0, 0, 0, 0, 0, 0, 0, 0, 0, 0, 0, 0, 0, 0, 0, 0, 0, 0, 0, 0, 0, 0, 0, 0, 0, 0, 0, 0, 0, 0, 0, 0, 0, 0, 0, 0, 0, 0, 0, 0, 0, 0, 0, 0, 0, 0, 0, 0, 0, 0, 0, 0, 0, 0, 0, 0, 0, 0, 0, 0, 0, 0, 0, 1, 0, 0, 0, 0, 0, 0, 0, 0, 0, 0, 0, 0, 0, 0, 0, 0, 0, 0, 0, 0, 0, 0, 0, 0, 0, 0, 0, 0, 0, 0, 0, 0, 0, 0, 0, 0, 0, 0, 0, 0, 0, 0, 0, 0, 0, 0, 0, 0, 0, 0, 0, 0, 0, 0, 0, 0, 0, 0, 0, 0, 0, 0, 0, 0, 0, 0, 0, 0, 0, 0, 0, 0, 0, 0, 0, 0, 0, 0, 0, 0, 0, 0, 0, 0, 0, 0, 0, 0, 0, 0, 0, 0, 0, 0, 0, 0, 0, 0, 0, 0, 0, 0, 0, 0, 0, 0, 0, 0, 0, 0, 0, 0, 0, 0, 0, 0, 0, 0, 0, 0, 0, 0, 0, 0, 0, 0, 0, 0, 0, 0, 0, 0, 0, 0, 0, 0, 0, 0, 0, 0, 0, 0, 0, 0, 0, 0, 0, 0, 0, 0, 0, 0, 0, 0, 0, 0, 0, 0, 0, 0, 0, 0, 0, 0, 0, 0, 0, 0, 0, 0, 0, 0, 0, 0, 0, 0, 0, 0, 0, 0, 0, 0, 0, 0, 0, 0, 0, 0, 0, 0, 0, 0, 0, 0, 0, 0, 0, 0, 0, 0, 0, 0, 0, 0, 0, 0, 0, 0, 0, 0, 0, 0, 0, 0, 0, 0, 0, 0, 0, 0, 0, 0, 0, 0, 0, 0, 0, 0, 0, 0, 0, 0, 0, 0, 0, 0, 0, 0, 0, 0, 0, 0, 0, 0, 0, 0, 0, 0, 0, 0, 0, 0, 0, 1, 0, 0, 0, 0, 0, 0, 0, 0, 0, 0, 0, 0, 0, 0, 0, 0, 0, 0, 0, 0, 0, 0, 0, 0, 0, 0, 0, 0, 0, 0, 0, 0, 0, 0, 0, 0, 0, 0, 0, 0, 0, 0, 0, 0, 0, 0, 0, 0, 0, 0, 0, 0, 0, 0, 0, 0, 0, 0, 0, 0, 0, 0, 0, 0, 0, 0, 0, 0, 0, 0, 0, 0, 0, 0, 0, 0, 0, 0, 0, 0, 0, 0, 0, 0, 0, 0, 1, 0, 0, 0, 0, 0, 0, 0, 0, 0, 0, 0, 0, 0, 0, 0, 0, 0, 0, 0, 0, 0, 0, 0, 0, 0, 0, 0, 0, 0, 0, 0, 0, 0, 0, 0, 0, 0, 0, 0, 0, 0, 0, 0, 0, 0, 0, 0, 0, 0, 0, 0, 0, 0, 0, 0, 0, 0, 0, 0, 0, 0, 0, 0, 0, 0, 0, 0, 0, 0, 0, 0, 0, 0, 0, 0, 0, 0, 0, 0, 0, 0, 0, 0, 0, 0, 0, 0, 0, 0, 0, 0, 0, 0, 0, 0, 0, 0, 0, 0, 0, 0, 0, 0, 0, 0, 0, 0, 0, 0, 0, 0, 0, 0, 0, 0, 0, 0, 0, 0, 0, 0, 0, 0, 0, 0, 0, 0, 0, 0, 0, 0, 0, 0, 0, 0, 0, 0, 0, 0, 0, 0, 0, 0, 0, 0, 0, 0, 0, 0, 0, 0, 0, 0, 0, 0, 0, 0, 0, 0, 0, 0, 0, 0, 0, 0, 0, 0, 0, 0, 0, 0, 0, 0, 0, 0, 0, 0, 0, 0, 0, 0, 0, 0, 0, 0, 0, 0, 0, 0, 0, 0, 0, 0, 0, 0, 0, 0, 0, 0, 0, 0, 0, 0, 0, 0, 0, 0, 0, 0, 0, 0, 0, 0, 0, 0, 0, 0, 0, 0, 0, 0, 0, 0, 0, 0, 0, 0, 0, 0, 0, 0, 0, 0, 0, 0, 0, 0, 0, 0, 0, 0, 0, 0, 0, 0, 0, 0, 0, 0, 0, 0, 0, 1, 0, 0, 0, 0, 0, 0, 0, 0, 0, 0, 0, 0, 0, 0, 0, 0, 0, 0, 0, 0, 0, 0, 0, 0, 0, 0, 0, 0, 0, 0, 0, 0, 0, 0, 0, 0, 0, 0, 0, 0, 0, 0, 0, 0, 0, 0, 0, 0, 0, 0, 0, 0, 0, 0, 0, 1, 0, 0, 0, 0, 0, 0, 0, 0, 0, 0, 0, 0, 0, 0, 0, 0, 0, 0, 0, 0, 0, 0, 0, 0, 0, 0, 0, 0, 0, 0, 0, 0, 0, 0, 0, 0, 0, 0, 0, 0, 0, 0, 0, 0, 0, 0, 0, 0, 0, 0, 0, 0, 0, 0, 0, 0, 0, 0, 0, 0, 0, 0, 0, 0, 0, 0, 0, 0, 0, 0, 0, 0, 0, 0, 0, 0, 0, 0, 0, 0, 0, 0, 0, 0, 0, 0, 0, 0, 0, 0, 0, 0, 0, 0, 0, 0, 0, 0, 0, 0, 0, 0, 0, 0, 0, 0, 0, 0, 0, 0, 0, 0, 0, 0, 0, 0, 0, 0, 0, 0, 0, 0, 0, 0, 0, 0, 0, 0, 0, 0, 0, 0, 0, 0, 0, 0, 0, 0, 0, 0, 0, 0, 0, 0, 0, 0, 0, 0, 0, 0, 0, 0, 0, 0, 0, 0, 0, 0, 0, 0, 0, 0, 0, 0, 0, 0, 0, 0, 0, 0, 0, 0, 0, 0, 0, 0, 0, 0, 0, 0, 0, 0, 0, 0, 0, 0, 0, 0, 0, 0, 0, 0, 0, 0, 0, 0, 0, 0, 0, 0, 0, 0, 0, 0, 0, 0, 0, 0, 0, 0, 0, 0, 0, 0, 0, 0, 0, 0, 0, 0, 0, 0, 0, 0, 0, 0, 0, 0, 0, 0, 0, 0, 0, 0, 0, 0, 0, 0, 0, 0, 0, 0, 0, 0, 0, 0, 0, 0, 0, 0, 0, 0, 0, 0, 0, 0, 0, 0, 0, 0, 0, 0, 0, 0, 0, 0, 0, 0, 0, 0, 0, 0, 0, 0, 0, 0, 0, 0, 0, 0, 0, 0, 0, 0, 0, 0, 0, 0, 0, 0, 0, 0, 0, 0, 0, 0, 0, 0, 0, 0, 0, 0, 0, 0, 0, 0, 0, 0, 0, 0, 0, 0, 0, 0, 0, 0, 0, 0, 0, 0, 0, 0, 0, 0, 0, 0, 0, 0, 0, 0, 0, 0, 0, 0, 0, 0, 0, 0, 0, 0, 0, 0, 0, 0, 0, 0, 0, 0, 0, 0, 0, 0, 0, 0, 0, 0, 0, 0, 0, 0, 0, 0, 0, 0, 0, 0, 0, 0, 0, 0, 0, 0, 0, 0, 0, 0, 0, 0, 0, 0, 0, 0, 0, 0, 0, 0, 0, 0, 0, 0, 0, 0, 0, 0, 0, 0, 0, 0, 0, 0, 0, 0, 0, 0, 0, 0, 0, 0, 0, 0, 0, 0, 0, 0, 0, 0, 0, 0, 0, 0, 0, 0, 0, 0, 0, 0, 0, 0, 0, 0, 0, 0, 0, 0, 0, 0, 0, 0, 0, 0, 0, 0, 0, 0, 0, 0, 0, 0, 0, 0, 0, 0, 0, 0, 0, 0, 0, 0, 0, 0, 0, 0, 0, 0, 0, 0, 0, 0, 0, 0, 0, 0, 0, 0, 0, 0, 0, 0, 0, 0, 0, 0, 0, 0, 0, 0, 0, 0, 0, 0, 0, 0, 0, 0, 0, 0, 0, 0, 0, 0, 0, 0, 0, 0, 0, 0, 0, 0, 0, 0, 0, 0, 0, 0, 0, 0, 0, 0, 0, 0, 0, 0, 0, 0, 0, 0, 0, 0, 0, 0, 0, 0, 0, 0, 0, 0, 0, 0, 0, 0, 0, 0, 0, 0, 0, 0, 0, 0, 0, 0, 0, 0, 0, 0, 0, 0, 0, 0, 0, 0, 0, 0, 0, 0, 0, 0, 0, 0, 0, 0, 0, 0, 0, 0, 0, 0, 0, 0, 0, 0, 0, 0, 0, 0, 0, 0, 0, 0, 0, 0, 0, 0, 0, 0, 0, 0, 0, 0, 0, 0, 0, 0, 0, 0, 0, 0, 0, 0, 0, 0, 0, 0, 0, 0, 0, 0, 0, 0, 0, 0, 0, 0, 0, 0, 0, 0, 0, 0, 0, 0, 0, 0, 0, 0, 0, 0, 0, 0, 0, 0, 0, 0, 0, 0, 0, 0, 0, 0, 0, 0, 0, 0, 0, 0, 0, 0, 0, 0, 0, 0, 0, 0, 0, 0, 0, 0, 0, 0, 0, 0, 0, 0, 0, 0, 0, 0, 0, 0, 0, 0, 0, 1, 0, 0, 0, 0, 0, 0, 0, 0, 0, 0, 0, 0, 0, 0, 0, 0, 0, 0, 0, 0, 0, 0, 0, 0, 0, 0, 0, 0, 0, 0, 0, 0, 0, 0, 0, 0, 0, 0, 0, 0, 0, 0, 0, 0, 0, 0, 0, 0, 0, 0, 0, 0, 0, 0, 0, 0, 0, 0, 0, 0, 0, 0, 0, 0, 0, 0, 0, 0, 0, 0, 0, 0, 0, 0, 1, 0, 0, 0, 0, 0, 0, 0, 0, 0, 0, 0, 0, 0, 0, 0, 0, 0, 0, 0, 0, 1, 0, 0, 1, 0, 0, 0, 0, 0, 0, 0, 0, 0, 0, 0, 0, 0, 0, 0, 0, 0, 0, 0, 0, 0, 0, 0, 0, 0, 0, 0, 0, 0, 0, 0, 0, 0, 0, 0, 0, 0, 0, 0, 0, 0, 0, 0, 0, 0, 0, 0, 0, 0, 0, 0, 0, 0, 0, 0, 0, 0, 0, 0, 0, 0, 0, 0, 0, 0, 0, 0, 0, 0, 0, 0, 0, 0, 0, 0, 0, 0, 0, 0, 0, 0, 0, 0, 0, 0, 0, 0, 0, 0, 0, 0, 0, 0, 0, 0, 0, 0, 0, 0, 0, 0, 0, 0, 0, 0, 0, 0, 0, 0, 0, 0, 0, 0, 0, 0, 0, 0, 0, 0, 0, 0, 0, 0, 0, 0, 0, 0, 0, 0, 0, 0, 0, 0, 0, 0, 0, 0, 0, 0, 0, 0, 0, 0, 0, 0, 0, 0, 0, 0, 0, 0, 0, 0, 0, 0, 0, 0, 0, 0, 0, 0, 0, 0, 0, 0, 0, 0, 0, 0, 0, 0, 0, 0, 0, 0, 0, 0, 0, 0, 0, 0, 0, 0, 0, 0, 0, 0, 0, 0, 0, 0, 0, 0, 0, 0, 0, 0, 0, 0, 0, 0, 0, 0, 0, 0, 0, 0, 0, 0, 0, 0, 0, 0, 0, 0, 0, 0, 0, 0, 0, 0, 0, 0, 0, 0, 0, 0, 0, 0, 0, 0, 0, 0, 0, 0, 0, 0, 0, 0, 0, 0, 0, 0, 0, 0, 0, 0, 0, 0, 0, 0, 0, 0, 0, 0, 0, 0, 0, 0, 0, 0, 0, 0, 0, 0, 0, 0, 0, 0, 0, 0, 0, 0, 0, 0, 0, 0, 0, 0, 0, 0, 0, 0, 0, 0, 0, 0, 0, 0, 0, 0, 0, 0, 0, 0, 0, 0, 0, 0, 0, 0, 0, 0, 0, 0, 0, 0, 0, 0, 0, 0, 0, 0, 0, 0, 0, 0, 0, 0, 0, 0, 0, 0, 0, 0, 0, 0, 0, 0, 0, 0, 0, 0, 0, 0, 0, 0, 0, 0, 0, 0, 0, 0, 0, 0, 0, 0, 0, 0, 0, 0, 0, 0, 0, 0, 0, 0, 0, 0, 0, 0, 0, 0, 0, 0, 0, 0, 0, 0, 0, 0, 0, 0, 0, 0, 0, 0, 0, 0, 0, 0, 0, 0, 0, 0, 0, 0, 0, 0, 0, 0, 0, 0, 0, 0, 0, 0, 0, 0, 0, 0, 0, 0, 0, 0, 0, 0, 0, 0, 0, 0, 0, 0, 0, 0, 0, 0, 0, 0, 0, 0, 0, 0, 0, 0, 0, 0, 0, 0, 0, 0, 0, 0, 0, 0, 0, 0, 0, 0, 0, 0, 0, 0, 0, 0, 0, 0, 0, 0, 0, 0, 0, 0, 0, 0, 0, 0, 0, 0, 0, 0, 0, 0, 0, 0, 0, 1, 0, 0, 0, 0, 0, 0, 0, 0, 0, 0, 0, 0, 0, 0, 0, 0, 0, 0, 0, 0, 0, 0, 0, 0, 0, 0, 0, 0, 0, 0, 0, 0, 0, 0, 0, 0, 0, 0, 0, 0, 0, 0, 0, 0, 0, 0, 0, 0, 0, 0, 0, 0, 0, 0, 0, 0, 0, 0, 0, 0, 0, 0, 0, 0, 0, 0, 0, 0, 0, 0, 0, 0, 0, 0, 0, 0, 0, 0, 0, 0, 0, 0, 0, 0, 0, 0, 0, 0, 0, 0, 0, 0, 0, 0, 0, 0, 0, 0, 0, 0, 0, 0, 0, 0, 0, 0, 0, 0, 0, 0, 0, 0, 0, 0, 0, 0, 0, 0, 0, 0, 0, 0, 0, 0, 0, 0, 0, 0, 0, 0, 0, 0, 0, 0, 0, 0, 0, 0, 0, 0, 0, 0, 0, 0, 0, 0, 0, 0, 0, 0, 0, 0, 0, 0, 0, 0, 0, 0, 0, 0, 0, 0, 0, 0, 0, 0, 0, 0, 0, 0, 0, 0, 0, 0, 0, 0, 0, 0, 0, 0, 0, 0, 0, 0, 0, 0, 0, 0, 0, 0, 0, 0, 0, 0, 0, 0, 0, 0, 0, 0, 0, 0, 0, 0, 0, 0, 0, 0, 0, 0, 0, 0, 0, 0, 0, 0, 0, 0, 0, 0, 0, 0, 0, 0, 0, 0, 0, 0, 0, 0, 0, 0, 0, 0, 0, 0, 0, 0, 0, 0, 0, 0, 0, 0, 0, 0, 0, 0, 0, 0, 0, 0, 0, 0, 0, 0, 0, 0, 0, 0, 0, 0, 0, 0, 0, 0, 0, 0, 0, 0, 0, 0, 0, 0, 0, 0, 0, 0, 0, 0, 0, 0, 0, 0, 0, 0, 0, 0, 0, 0, 0, 0, 0, 0, 0, 0, 0, 0, 0, 0, 0, 0, 0, 0, 0, 0, 0, 0, 0, 0, 0, 0, 0, 0, 0, 0, 0, 0, 0, 0, 0, 0, 0, 0, 0, 0, 0, 0, 0, 0, 0, 0, 0, 0, 0, 0, 0, 0, 0, 0, 0, 0, 0, 0, 0, 0, 0, 0, 0, 0, 0, 0, 0, 0, 0, 0, 0, 0, 0, 0, 0, 0, 0, 0, 0, 0, 0, 0, 0, 0, 0, 0, 0, 0, 0, 0, 0, 0, 0, 0, 0, 0, 0, 0, 0, 0, 0, 0, 0, 0, 0, 0, 0, 0, 0, 0, 0, 0, 0, 0, 0, 0, 0, 0, 0, 0, 0, 0, 0, 0, 0, 0, 0, 0, 0, 0, 0, 0, 0, 0, 0, 0, 0, 0, 0, 0, 0, 0, 0, 0, 0, 0, 0, 0, 0, 0, 0, 0, 0, 0, 0, 0, 0, 0, 0, 0, 0, 0, 0, 0, 0, 0, 0, 0, 0, 0, 0, 0, 0, 0, 0, 0, 0, 0, 0, 0, 0, 0, 0, 0, 0, 0, 0, 0, 0, 0, 0, 0, 0, 0, 0, 0, 0, 0, 0, 0, 0, 0, 0, 0, 0, 0, 0, 0, 0, 0, 0, 0, 0, 0, 0, 0, 0, 0, 0, 0, 0, 0, 0, 0, 0, 0, 1, 0, 0, 0, 0, 0, 0, 0, 0, 0, 0, 0, 0, 0, 0, 0, 0, 0, 0, 0, 0, 0, 0, 0, 0, 0, 0, 0, 0, 0, 0, 0, 0, 0, 0, 0, 2, 0, 0, 0, 0, 0, 0, 0, 0, 0, 0, 0, 0, 0, 0, 0, 0, 0, 0, 0, 0, 0, 0, 0, 0, 0, 0, 0, 0, 0, 0, 0, 0, 0, 0, 0, 0, 0, 0, 0, 0, 1, 0, 0, 0, 0, 0, 0, 0, 0, 0, 0, 0, 0, 0, 0, 0, 0, 0, 0, 0, 0, 0, 0, 0, 0, 0, 0, 0, 0, 0, 0, 0, 0, 0, 0, 0, 0, 0, 0, 0, 0, 0, 0, 0, 0, 0, 0, 0, 0, 0, 0, 0, 0, 0, 0, 0, 0, 0, 0, 0, 0, 0, 0, 0, 0, 0, 0, 0, 0, 0, 0, 0, 0, 0, 0, 0, 0, 0, 0, 0, 0, 0, 0, 0, 0, 0, 0, 0, 0, 0, 0, 0, 0, 0, 0, 0, 0, 0, 0, 0, 0, 0, 0, 0, 0, 0, 0, 0, 0, 0, 0, 0, 0, 0, 0, 0, 0, 0, 0, 0, 0, 0, 0, 0, 0, 0, 0, 0, 0, 0, 0, 0, 0, 0, 0, 0, 0, 0, 0, 0, 0, 0, 0, 0, 0, 0, 0, 0, 0, 0, 0, 0, 0, 0, 0, 0, 0, 0, 0, 0, 0, 0, 0, 0, 0, 0, 0, 0, 0, 0, 0, 0, 0, 0, 0, 0, 0, 0, 0, 0, 0, 0, 0, 0, 0, 0, 0, 0, 0, 0, 0, 0, 0, 0, 0, 0, 0, 0, 0, 0, 0, 0, 0, 0, 0, 0, 0, 0, 0, 0, 0, 0, 0, 0, 0, 0, 0, 0, 0, 0, 0, 0, 0, 0, 0, 0, 0, 0, 0, 0, 0, 0, 0, 0, 0, 0, 0, 0, 0, 0, 0, 0, 0, 0, 0, 0, 0, 0, 0, 0, 0, 0, 0, 0, 0, 0, 0, 0, 0, 0, 0, 0, 0, 0, 0, 0, 0, 0, 0, 0, 0, 0, 0, 0, 0, 0, 0, 0, 0, 0, 0, 0, 0, 0, 0, 0, 0, 0, 0, 0, 0, 0, 0, 0, 0, 0, 0, 0, 0, 0, 0, 0, 0, 0, 0, 0, 0, 0, 0, 0, 0, 0, 0, 0, 0, 0, 0, 0, 0, 0, 0, 0, 0, 0, 0, 0, 0, 0, 0, 0, 0, 0, 0, 0, 0, 0, 0, 0, 0, 0, 0, 0, 0, 0, 0, 0, 0, 0, 0, 0, 0, 0, 0, 0, 0, 0, 0, 0, 0, 0, 0, 0, 0, 0, 0, 0, 0, 0, 0, 0, 0, 0, 0, 0, 0, 0, 0, 0, 0, 0, 0, 0, 0, 0, 0, 0, 0, 0, 0, 0, 0, 0, 0, 0, 0, 0, 0, 0, 0, 0, 0, 0, 0, 0, 0, 0, 0, 0, 0, 0, 0, 0, 0, 0, 0, 0, 0, 0, 0, 0, 0, 0, 0, 0, 0, 0, 0, 0, 0, 0, 0, 0, 0, 0, 0, 0, 0, 0, 0, 0, 0, 0, 0, 0, 0, 0, 0, 0, 0, 0, 0, 0, 0, 0, 0, 0, 0, 0, 0, 0, 0, 0, 0, 0, 0, 0, 0, 0, 0, 0, 0, 0, 0, 0, 0, 0, 0, 0, 0, 0, 0, 0, 0, 0, 0, 0, 0, 0, 0, 0, 0, 0, 0, 0, 0, 0, 0, 0, 1, 0, 0, 0, 0, 0, 0, 0, 0, 0, 0, 0, 0, 0, 0, 0, 0, 0, 0, 0, 0, 0, 0, 0, 0, 0, 0, 0, 0, 0, 0, 0, 0, 0, 0, 0, 0, 0, 0, 0, 0, 0, 0, 0, 0, 0, 0, 0, 0, 0, 0, 0, 0, 0, 0, 0, 0, 0, 0, 0, 0, 0, 0, 0, 0, 0, 0, 0, 0, 0, 0, 0, 0, 0, 0, 0, 0, 0, 0, 0, 0, 0, 0, 0, 0, 0, 0, 0, 0, 0, 0, 0, 0, 0, 0, 0, 0, 0, 0, 0, 0, 0, 0, 0, 0, 0, 0, 0, 0, 0, 0, 2, 0, 0, 0, 0, 0, 0, 0, 0, 0, 0, 0, 0, 0, 0, 0, 0, 0, 0, 0, 0, 0, 0, 0, 0, 0, 0, 0, 0, 0, 0, 0, 0, 0, 0, 0, 0, 0, 0, 0, 0, 0, 0, 0, 0, 0, 0, 0, 0, 0, 0, 0, 0, 0, 0, 0, 0, 0, 0, 0, 0, 0, 0, 0, 0, 0, 0, 0, 0, 0, 0, 0, 0, 0, 0, 0, 0, 0, 0, 0, 0, 0, 0, 0, 0, 0, 0, 0, 0, 0, 0, 0, 0, 0, 0, 0, 0, 0, 0, 0, 0, 0, 0, 0, 0, 0, 0, 0, 0, 0, 0, 0, 0, 0, 0, 0, 0, 0, 0, 0, 0, 0, 0, 0, 0, 0, 0, 0, 0, 0, 0, 0, 0, 0, 0, 0, 0, 0, 0, 0, 0, 0, 0, 0, 0, 0, 0, 0, 0, 0, 0, 0, 0, 0, 0, 0, 0, 0, 0, 0, 0, 0, 0, 0, 0, 0, 0, 0, 0, 0, 0, 0, 0, 0, 0, 0, 0, 0, 0, 0, 0, 0, 0, 0, 0, 0, 0, 0, 0, 0, 0, 0, 0, 0, 0, 0, 0, 0, 0, 0, 0, 0, 0, 0, 0, 0, 0, 0, 0, 0, 0, 0, 0, 0, 0, 0, 0, 0, 0, 0, 0, 0, 0, 0, 0, 0, 0, 0, 0, 0, 0, 0, 0, 0, 0, 0, 0, 0, 0, 0, 0, 0, 0, 0, 0, 0, 0, 0, 0, 0, 0, 0, 0, 0, 0, 0, 0, 0, 0, 0, 0, 0, 0, 0, 0, 0, 0, 0, 0, 0, 0, 0, 0, 0, 0, 0, 0, 0, 0, 0, 0, 0, 0, 0, 0, 0, 0, 0, 0, 0, 0, 0, 0, 0, 0, 0, 0, 0, 0, 0, 0, 0, 0, 0, 0, 0, 0, 0, 0, 0, 0, 0, 0, 0, 0, 0, 0, 0, 0, 0, 0, 0, 0, 0, 0, 0, 0, 0, 0, 0, 0, 0, 0, 0, 0, 0, 0, 0, 0, 0, 0, 0, 0, 0, 0, 0, 0, 0, 0, 0, 0, 0, 0, 0, 0, 0, 0, 0, 0, 0, 0, 0, 0, 0, 0, 0, 0, 0, 0, 0, 0, 0, 0, 0, 0, 0, 0, 0, 0, 0, 0, 0, 0, 0, 0, 0, 0, 0, 0, 0, 0, 0, 0, 0, 0, 0, 0, 0, 0, 0, 0, 0, 0, 0, 0, 0, 0, 0, 0, 0, 0, 0, 0, 0, 0, 0, 0, 0, 0, 0, 0, 0, 0, 0, 0, 0, 0, 0, 0, 0, 0, 0, 0, 0, 0, 0, 0, 0, 0, 0, 0, 0, 0, 0, 0, 0, 0, 0, 0, 0, 0, 0, 0, 0, 0, 0, 0, 0, 0, 0, 0, 0, 0, 0, 0, 0, 0, 0, 0, 0, 0, 0, 0, 0, 0, 0, 0, 0, 0, 0, 0, 0, 0, 0, 0, 0, 0, 0, 0, 0, 0, 0, 0, 0, 0, 0, 0, 0, 0, 0, 0, 0, 0, 0, 0, 0, 0, 0, 0, 0, 0, 0, 0, 0, 0, 0, 0, 0, 0, 0, 0, 0, 0, 0, 0, 0, 0, 0, 0, 0, 0, 0, 0, 0, 0, 0, 0, 0, 0, 0, 0, 0, 0, 0, 0, 0, 0, 0, 0, 0, 0, 0, 0, 0, 0, 0, 0, 0, 0, 0, 0, 0, 0, 0, 0, 0, 0, 0, 0, 0, 0, 0, 0, 0, 0, 0, 0, 0, 0, 0, 0, 0, 0, 0, 0, 0, 0, 0, 0, 0, 0, 0, 0, 0, 0, 0, 0, 0, 0, 0, 0, 0, 0, 0, 0, 0, 0, 0, 0, 0, 0, 0, 0, 0, 0, 0, 0, 0, 0, 0, 0, 0, 0, 0, 0, 0, 0, 0, 0, 0, 0, 0, 0, 0, 0, 0, 0, 0, 0, 0, 0, 0, 0, 0, 0, 0, 0, 0, 0, 0, 0, 0, 0, 0, 0, 0, 0, 0, 0, 0, 0, 0, 0, 0, 0, 0, 0, 0, 0, 0, 0, 0, 0, 0, 0, 0, 0, 0, 0, 0, 0, 0, 0, 0, 0, 0, 0, 0, 0, 0, 0, 1, 0, 0, 0, 0, 0, 0, 0, 0, 0, 0, 0, 0, 0, 0, 0, 0, 0, 0, 0, 0, 0, 0, 0, 0, 0, 0, 0, 0, 0, 0, 0, 0, 0, 0, 0, 0, 0, 0, 0, 0, 0, 0, 0, 0, 0, 0, 0, 0, 0, 0, 0, 0, 0, 0, 0, 0, 0, 0, 0, 0, 0, 0, 0, 0, 0, 0, 0, 0, 0, 0, 0, 0, 0, 0, 0, 0, 0, 0, 0, 0, 0, 0, 0, 0, 0, 0, 0, 0, 0, 0, 0, 0, 0, 0, 0, 0, 0, 0, 0, 0, 0, 0, 0, 0, 0, 0, 0, 1, 0, 0, 0, 0, 0, 0, 0, 0, 0, 0, 0, 0, 0, 0, 0, 0, 0, 0, 0, 0, 0, 0, 0, 0, 0, 0, 0, 0, 0, 0, 0, 0, 0, 0, 0, 0, 0, 0, 0, 0, 0, 0, 0, 0, 0, 0, 0, 0, 0, 0, 0, 0, 0, 0, 0, 0, 0, 0, 0, 0, 0, 0, 0, 0, 0, 0, 0, 0, 0, 0, 0, 0, 0, 0, 0, 0, 0, 0, 0, 0, 0, 0, 0, 0, 0, 0, 0, 0, 0, 0, 0, 0, 0, 0, 0, 0, 0, 0, 0, 0, 0, 0, 0, 0, 0, 0, 0, 0, 0, 0, 0, 0, 0, 0, 0, 0, 0, 0, 0, 0, 0, 0, 0, 0, 0, 0, 0, 0, 0, 0, 0, 0, 0, 0, 0, 0, 0, 0, 0, 0, 0, 0, 0, 0, 0, 0, 0, 0, 0, 0, 0, 0, 0, 0, 0, 0, 0, 0, 0, 0, 0, 0, 0, 0, 0, 0, 0, 0, 0, 0, 0, 0, 0, 0, 0, 0, 0, 0, 0, 0, 0, 0, 0, 0, 0, 0, 0, 0, 0, 0, 0, 0, 0, 0, 0, 0, 0, 0, 0, 0, 0, 0, 0, 0, 0, 0, 0, 0, 0, 0, 0, 0, 0, 0, 0, 0, 0, 0, 0, 0, 0, 0, 0, 0, 0, 0, 0, 0, 0, 0, 0, 0, 0, 0, 0, 0, 0, 0, 0, 0, 0, 0, 0, 0, 0, 0, 0, 0, 0, 0, 0, 0, 0, 0, 0, 0, 0, 0, 0, 0, 0, 0, 0, 0, 0, 0, 0, 0, 0, 0, 0, 0, 0, 0, 0, 0, 0, 0, 0, 0, 0, 0, 0, 0, 0, 0, 0, 0, 0, 0, 0, 0, 0, 0, 0, 0, 0, 0, 0, 0, 0, 0, 0, 0, 0, 0, 0, 0, 0, 0, 0, 0, 0, 0, 0, 0, 0, 0, 0, 0, 0, 0, 0, 0, 0, 0, 0, 0, 0, 0, 0, 0, 0, 0, 0, 0, 0, 0, 0, 0, 0, 0, 0, 0, 0, 0, 0, 0, 0, 0, 0, 0, 0, 0, 0, 0, 0, 0, 0, 0, 0, 0, 0, 0, 0, 0, 0, 0, 0, 0, 0, 0, 0, 0, 0, 0, 0, 0, 0, 0, 0, 0, 0, 0, 0, 0, 0, 0, 0, 0, 0, 0, 0, 0, 0, 0, 0, 0, 0, 0, 0, 0, 0, 0, 0, 0, 0, 0, 0, 0, 0, 0, 0, 0, 0, 0, 0, 0, 0, 0, 0, 0, 0, 0, 0, 0, 0, 0, 0, 0, 0, 0, 0, 0, 0, 0, 0, 0, 0, 0, 0, 0, 0, 0, 0, 0, 0, 0, 0, 0, 0, 0, 0, 0, 0, 0, 0, 0, 0, 0, 0, 0, 0, 2, 0, 1, 0], type: <class 'list'>, valid types: <class 'bytes'>, <class 'bytearray'>, file-like object",
     "output_type": "error",
     "traceback": [
      "\u001b[0;31m---------------------------------------------------------------------------\u001b[0m",
      "\u001b[0;31mParamValidationError\u001b[0m                      Traceback (most recent call last)",
      "\u001b[0;32m<ipython-input-46-c9ab54ae3a48>\u001b[0m in \u001b[0;36m<module>\u001b[0;34m\u001b[0m\n\u001b[1;32m      1\u001b[0m response = runtime.invoke_endpoint(EndpointName = xgb_predictor.endpoint, # The name of the endpoint we created\n\u001b[1;32m      2\u001b[0m                                        \u001b[0mContentType\u001b[0m \u001b[0;34m=\u001b[0m \u001b[0;34m'text/csv'\u001b[0m\u001b[0;34m,\u001b[0m                     \u001b[0;31m# The data format that is expected\u001b[0m\u001b[0;34m\u001b[0m\u001b[0;34m\u001b[0m\u001b[0m\n\u001b[0;32m----> 3\u001b[0;31m                                        Body = test_bow)\n\u001b[0m",
      "\u001b[0;32m~/anaconda3/envs/python3/lib/python3.6/site-packages/botocore/client.py\u001b[0m in \u001b[0;36m_api_call\u001b[0;34m(self, *args, **kwargs)\u001b[0m\n\u001b[1;32m    314\u001b[0m                     \"%s() only accepts keyword arguments.\" % py_operation_name)\n\u001b[1;32m    315\u001b[0m             \u001b[0;31m# The \"self\" in this scope is referring to the BaseClient.\u001b[0m\u001b[0;34m\u001b[0m\u001b[0;34m\u001b[0m\u001b[0;34m\u001b[0m\u001b[0m\n\u001b[0;32m--> 316\u001b[0;31m             \u001b[0;32mreturn\u001b[0m \u001b[0mself\u001b[0m\u001b[0;34m.\u001b[0m\u001b[0m_make_api_call\u001b[0m\u001b[0;34m(\u001b[0m\u001b[0moperation_name\u001b[0m\u001b[0;34m,\u001b[0m \u001b[0mkwargs\u001b[0m\u001b[0;34m)\u001b[0m\u001b[0;34m\u001b[0m\u001b[0;34m\u001b[0m\u001b[0m\n\u001b[0m\u001b[1;32m    317\u001b[0m \u001b[0;34m\u001b[0m\u001b[0m\n\u001b[1;32m    318\u001b[0m         \u001b[0m_api_call\u001b[0m\u001b[0;34m.\u001b[0m\u001b[0m__name__\u001b[0m \u001b[0;34m=\u001b[0m \u001b[0mstr\u001b[0m\u001b[0;34m(\u001b[0m\u001b[0mpy_operation_name\u001b[0m\u001b[0;34m)\u001b[0m\u001b[0;34m\u001b[0m\u001b[0;34m\u001b[0m\u001b[0m\n",
      "\u001b[0;32m~/anaconda3/envs/python3/lib/python3.6/site-packages/botocore/client.py\u001b[0m in \u001b[0;36m_make_api_call\u001b[0;34m(self, operation_name, api_params)\u001b[0m\n\u001b[1;32m    606\u001b[0m         }\n\u001b[1;32m    607\u001b[0m         request_dict = self._convert_to_request_dict(\n\u001b[0;32m--> 608\u001b[0;31m             api_params, operation_model, context=request_context)\n\u001b[0m\u001b[1;32m    609\u001b[0m \u001b[0;34m\u001b[0m\u001b[0m\n\u001b[1;32m    610\u001b[0m         \u001b[0mservice_id\u001b[0m \u001b[0;34m=\u001b[0m \u001b[0mself\u001b[0m\u001b[0;34m.\u001b[0m\u001b[0m_service_model\u001b[0m\u001b[0;34m.\u001b[0m\u001b[0mservice_id\u001b[0m\u001b[0;34m.\u001b[0m\u001b[0mhyphenize\u001b[0m\u001b[0;34m(\u001b[0m\u001b[0;34m)\u001b[0m\u001b[0;34m\u001b[0m\u001b[0;34m\u001b[0m\u001b[0m\n",
      "\u001b[0;32m~/anaconda3/envs/python3/lib/python3.6/site-packages/botocore/client.py\u001b[0m in \u001b[0;36m_convert_to_request_dict\u001b[0;34m(self, api_params, operation_model, context)\u001b[0m\n\u001b[1;32m    654\u001b[0m             api_params, operation_model, context)\n\u001b[1;32m    655\u001b[0m         request_dict = self._serializer.serialize_to_request(\n\u001b[0;32m--> 656\u001b[0;31m             api_params, operation_model)\n\u001b[0m\u001b[1;32m    657\u001b[0m         \u001b[0;32mif\u001b[0m \u001b[0;32mnot\u001b[0m \u001b[0mself\u001b[0m\u001b[0;34m.\u001b[0m\u001b[0m_client_config\u001b[0m\u001b[0;34m.\u001b[0m\u001b[0minject_host_prefix\u001b[0m\u001b[0;34m:\u001b[0m\u001b[0;34m\u001b[0m\u001b[0;34m\u001b[0m\u001b[0m\n\u001b[1;32m    658\u001b[0m             \u001b[0mrequest_dict\u001b[0m\u001b[0;34m.\u001b[0m\u001b[0mpop\u001b[0m\u001b[0;34m(\u001b[0m\u001b[0;34m'host_prefix'\u001b[0m\u001b[0;34m,\u001b[0m \u001b[0;32mNone\u001b[0m\u001b[0;34m)\u001b[0m\u001b[0;34m\u001b[0m\u001b[0;34m\u001b[0m\u001b[0m\n",
      "\u001b[0;32m~/anaconda3/envs/python3/lib/python3.6/site-packages/botocore/validate.py\u001b[0m in \u001b[0;36mserialize_to_request\u001b[0;34m(self, parameters, operation_model)\u001b[0m\n\u001b[1;32m    295\u001b[0m                                                     operation_model.input_shape)\n\u001b[1;32m    296\u001b[0m             \u001b[0;32mif\u001b[0m \u001b[0mreport\u001b[0m\u001b[0;34m.\u001b[0m\u001b[0mhas_errors\u001b[0m\u001b[0;34m(\u001b[0m\u001b[0;34m)\u001b[0m\u001b[0;34m:\u001b[0m\u001b[0;34m\u001b[0m\u001b[0;34m\u001b[0m\u001b[0m\n\u001b[0;32m--> 297\u001b[0;31m                 \u001b[0;32mraise\u001b[0m \u001b[0mParamValidationError\u001b[0m\u001b[0;34m(\u001b[0m\u001b[0mreport\u001b[0m\u001b[0;34m=\u001b[0m\u001b[0mreport\u001b[0m\u001b[0;34m.\u001b[0m\u001b[0mgenerate_report\u001b[0m\u001b[0;34m(\u001b[0m\u001b[0;34m)\u001b[0m\u001b[0;34m)\u001b[0m\u001b[0;34m\u001b[0m\u001b[0;34m\u001b[0m\u001b[0m\n\u001b[0m\u001b[1;32m    298\u001b[0m         return self._serializer.serialize_to_request(parameters,\n\u001b[1;32m    299\u001b[0m                                                      operation_model)\n",
      "\u001b[0;31mParamValidationError\u001b[0m: Parameter validation failed:\nInvalid type for parameter Body, value: [0, 0, 0, 0, 0, 0, 0, 0, 0, 0, 0, 0, 0, 0, 0, 0, 0, 0, 0, 0, 0, 0, 0, 0, 0, 0, 0, 0, 0, 0, 0, 0, 0, 0, 0, 0, 0, 0, 0, 0, 0, 0, 0, 0, 0, 0, 0, 0, 0, 0, 0, 0, 0, 0, 0, 0, 0, 0, 0, 0, 0, 0, 0, 0, 0, 0, 0, 0, 0, 0, 0, 0, 0, 0, 0, 0, 0, 0, 0, 0, 0, 0, 0, 0, 0, 0, 0, 0, 0, 0, 0, 0, 0, 0, 0, 0, 0, 0, 0, 0, 0, 0, 0, 0, 0, 0, 0, 0, 0, 0, 0, 0, 0, 0, 0, 0, 0, 0, 0, 0, 0, 0, 0, 0, 0, 0, 0, 0, 0, 0, 0, 0, 0, 0, 0, 0, 0, 0, 0, 0, 0, 0, 0, 0, 0, 0, 0, 0, 0, 0, 0, 0, 0, 0, 0, 0, 0, 0, 0, 0, 0, 0, 0, 0, 0, 0, 0, 0, 0, 0, 0, 0, 0, 0, 0, 0, 0, 0, 0, 0, 0, 0, 0, 0, 0, 0, 0, 0, 0, 0, 0, 0, 0, 0, 0, 0, 0, 0, 0, 0, 0, 0, 0, 0, 0, 0, 0, 0, 0, 0, 0, 0, 0, 0, 0, 0, 0, 0, 0, 0, 0, 0, 0, 0, 0, 0, 1, 0, 0, 0, 0, 0, 0, 0, 0, 0, 0, 0, 0, 0, 0, 0, 0, 0, 0, 0, 0, 0, 0, 0, 0, 0, 0, 0, 0, 0, 1, 0, 0, 0, 0, 0, 0, 0, 0, 0, 0, 0, 0, 0, 0, 0, 0, 0, 0, 0, 0, 0, 0, 0, 0, 0, 0, 0, 0, 0, 0, 0, 0, 0, 0, 0, 0, 0, 0, 0, 0, 0, 0, 0, 0, 0, 0, 0, 0, 0, 0, 0, 0, 0, 0, 0, 0, 0, 0, 0, 0, 0, 0, 0, 0, 0, 0, 0, 0, 0, 0, 0, 0, 0, 0, 0, 0, 0, 0, 0, 0, 0, 0, 0, 0, 0, 0, 0, 0, 0, 0, 0, 0, 0, 0, 0, 0, 0, 0, 0, 0, 0, 0, 0, 0, 0, 0, 0, 0, 0, 0, 0, 0, 0, 0, 0, 0, 0, 0, 0, 0, 0, 0, 0, 0, 0, 0, 0, 0, 0, 0, 0, 0, 0, 0, 0, 0, 0, 0, 0, 0, 0, 0, 0, 0, 0, 0, 0, 0, 0, 0, 0, 0, 0, 0, 0, 0, 0, 0, 0, 0, 0, 0, 0, 0, 0, 0, 0, 0, 0, 0, 0, 0, 0, 0, 0, 0, 0, 0, 0, 0, 0, 0, 0, 0, 0, 0, 0, 0, 0, 0, 0, 0, 0, 0, 0, 0, 0, 0, 0, 0, 0, 0, 0, 0, 0, 0, 0, 0, 0, 0, 0, 0, 0, 0, 0, 0, 0, 0, 0, 0, 0, 0, 0, 0, 0, 0, 0, 0, 0, 0, 0, 0, 0, 0, 0, 0, 0, 0, 0, 0, 0, 0, 0, 0, 0, 0, 0, 0, 0, 0, 0, 0, 0, 0, 0, 0, 0, 0, 0, 0, 0, 0, 0, 0, 0, 0, 0, 0, 0, 0, 0, 0, 0, 0, 0, 0, 0, 0, 0, 0, 0, 0, 0, 0, 0, 0, 0, 0, 0, 0, 0, 0, 0, 0, 0, 0, 0, 0, 0, 0, 0, 0, 0, 0, 0, 0, 0, 0, 0, 0, 0, 0, 0, 0, 0, 0, 0, 0, 0, 0, 0, 0, 0, 0, 0, 0, 0, 0, 0, 0, 0, 0, 0, 0, 0, 0, 0, 0, 0, 0, 0, 0, 0, 0, 0, 0, 0, 0, 0, 0, 0, 0, 0, 0, 0, 0, 0, 0, 0, 0, 0, 0, 0, 0, 0, 0, 0, 0, 0, 0, 0, 0, 0, 0, 0, 0, 0, 0, 0, 1, 0, 0, 0, 0, 0, 0, 0, 0, 0, 0, 0, 0, 0, 0, 0, 0, 0, 0, 0, 0, 0, 0, 0, 0, 0, 0, 0, 0, 0, 0, 0, 0, 0, 0, 0, 0, 0, 0, 0, 0, 0, 0, 0, 0, 0, 0, 0, 0, 0, 0, 0, 0, 0, 0, 0, 0, 0, 0, 0, 0, 0, 0, 0, 0, 0, 0, 0, 0, 0, 0, 0, 0, 0, 0, 0, 0, 0, 0, 0, 0, 0, 0, 0, 0, 0, 0, 0, 0, 0, 0, 0, 0, 0, 0, 0, 0, 0, 0, 0, 0, 0, 0, 0, 0, 0, 0, 0, 0, 0, 0, 0, 0, 0, 0, 0, 0, 0, 0, 0, 0, 0, 0, 0, 0, 0, 0, 0, 0, 0, 0, 0, 0, 0, 0, 0, 0, 0, 0, 0, 0, 0, 0, 0, 0, 0, 0, 0, 0, 0, 0, 0, 0, 0, 0, 0, 0, 0, 0, 0, 0, 0, 0, 0, 0, 0, 0, 0, 0, 0, 0, 0, 0, 0, 0, 0, 0, 0, 0, 0, 0, 0, 0, 0, 0, 0, 0, 0, 0, 0, 0, 0, 0, 0, 0, 0, 0, 0, 0, 0, 0, 0, 0, 0, 0, 0, 0, 0, 0, 0, 0, 0, 0, 0, 0, 0, 0, 0, 0, 0, 0, 0, 0, 0, 0, 0, 0, 0, 0, 0, 0, 0, 0, 0, 0, 0, 0, 0, 0, 0, 0, 0, 0, 0, 0, 0, 0, 0, 0, 0, 0, 0, 0, 0, 1, 0, 0, 0, 0, 0, 0, 0, 0, 0, 0, 0, 0, 0, 0, 0, 0, 0, 0, 0, 0, 0, 0, 0, 0, 0, 0, 0, 0, 0, 0, 0, 0, 0, 0, 0, 0, 0, 0, 0, 0, 0, 0, 0, 0, 0, 0, 0, 0, 0, 0, 0, 0, 0, 0, 0, 0, 0, 0, 0, 0, 0, 0, 0, 0, 0, 0, 0, 0, 0, 0, 0, 0, 0, 0, 0, 0, 0, 0, 0, 0, 0, 0, 0, 0, 0, 0, 1, 0, 0, 0, 0, 0, 0, 0, 0, 0, 0, 0, 0, 0, 0, 0, 0, 0, 0, 0, 0, 0, 0, 0, 0, 0, 0, 0, 0, 0, 0, 0, 0, 0, 0, 0, 0, 0, 0, 0, 0, 0, 0, 0, 0, 0, 0, 0, 0, 0, 0, 0, 0, 0, 0, 0, 0, 0, 0, 0, 0, 0, 0, 0, 0, 0, 0, 0, 0, 0, 0, 0, 0, 0, 0, 0, 0, 0, 0, 0, 0, 0, 0, 0, 0, 0, 0, 0, 0, 0, 0, 0, 0, 0, 0, 0, 0, 0, 0, 0, 0, 0, 0, 0, 0, 0, 0, 0, 0, 0, 0, 0, 0, 0, 0, 0, 0, 0, 0, 0, 0, 0, 0, 0, 0, 0, 0, 0, 0, 0, 0, 0, 0, 0, 0, 0, 0, 0, 0, 0, 0, 0, 0, 0, 0, 0, 0, 0, 0, 0, 0, 0, 0, 0, 0, 0, 0, 0, 0, 0, 0, 0, 0, 0, 0, 0, 0, 0, 0, 0, 0, 0, 0, 0, 0, 0, 0, 0, 0, 0, 0, 0, 0, 0, 0, 0, 0, 0, 0, 0, 0, 0, 0, 0, 0, 0, 0, 0, 0, 0, 0, 0, 0, 0, 0, 0, 0, 0, 0, 0, 0, 0, 0, 0, 0, 0, 0, 0, 0, 0, 0, 0, 0, 0, 0, 0, 0, 0, 0, 0, 0, 0, 0, 0, 0, 0, 0, 0, 0, 0, 0, 0, 0, 0, 0, 0, 0, 0, 0, 0, 0, 0, 0, 1, 0, 0, 0, 0, 0, 0, 0, 0, 0, 0, 0, 0, 0, 0, 0, 0, 0, 0, 0, 0, 0, 0, 0, 0, 0, 0, 0, 0, 0, 0, 0, 0, 0, 0, 0, 0, 0, 0, 0, 0, 0, 0, 0, 0, 0, 0, 0, 0, 0, 0, 0, 0, 0, 0, 0, 1, 0, 0, 0, 0, 0, 0, 0, 0, 0, 0, 0, 0, 0, 0, 0, 0, 0, 0, 0, 0, 0, 0, 0, 0, 0, 0, 0, 0, 0, 0, 0, 0, 0, 0, 0, 0, 0, 0, 0, 0, 0, 0, 0, 0, 0, 0, 0, 0, 0, 0, 0, 0, 0, 0, 0, 0, 0, 0, 0, 0, 0, 0, 0, 0, 0, 0, 0, 0, 0, 0, 0, 0, 0, 0, 0, 0, 0, 0, 0, 0, 0, 0, 0, 0, 0, 0, 0, 0, 0, 0, 0, 0, 0, 0, 0, 0, 0, 0, 0, 0, 0, 0, 0, 0, 0, 0, 0, 0, 0, 0, 0, 0, 0, 0, 0, 0, 0, 0, 0, 0, 0, 0, 0, 0, 0, 0, 0, 0, 0, 0, 0, 0, 0, 0, 0, 0, 0, 0, 0, 0, 0, 0, 0, 0, 0, 0, 0, 0, 0, 0, 0, 0, 0, 0, 0, 0, 0, 0, 0, 0, 0, 0, 0, 0, 0, 0, 0, 0, 0, 0, 0, 0, 0, 0, 0, 0, 0, 0, 0, 0, 0, 0, 0, 0, 0, 0, 0, 0, 0, 0, 0, 0, 0, 0, 0, 0, 0, 0, 0, 0, 0, 0, 0, 0, 0, 0, 0, 0, 0, 0, 0, 0, 0, 0, 0, 0, 0, 0, 0, 0, 0, 0, 0, 0, 0, 0, 0, 0, 0, 0, 0, 0, 0, 0, 0, 0, 0, 0, 0, 0, 0, 0, 0, 0, 0, 0, 0, 0, 0, 0, 0, 0, 0, 0, 0, 0, 0, 0, 0, 0, 0, 0, 0, 0, 0, 0, 0, 0, 0, 0, 0, 0, 0, 0, 0, 0, 0, 0, 0, 0, 0, 0, 0, 0, 0, 0, 0, 0, 0, 0, 0, 0, 0, 0, 0, 0, 0, 0, 0, 0, 0, 0, 0, 0, 0, 0, 0, 0, 0, 0, 0, 0, 0, 0, 0, 0, 0, 0, 0, 0, 0, 0, 0, 0, 0, 0, 0, 0, 0, 0, 0, 0, 0, 0, 0, 0, 0, 0, 0, 0, 0, 0, 0, 0, 0, 0, 0, 0, 0, 0, 0, 0, 0, 0, 0, 0, 0, 0, 0, 0, 0, 0, 0, 0, 0, 0, 0, 0, 0, 0, 0, 0, 0, 0, 0, 0, 0, 0, 0, 0, 0, 0, 0, 0, 0, 0, 0, 0, 0, 0, 0, 0, 0, 0, 0, 0, 0, 0, 0, 0, 0, 0, 0, 0, 0, 0, 0, 0, 0, 0, 0, 0, 0, 0, 0, 0, 0, 0, 0, 0, 0, 0, 0, 0, 0, 0, 0, 0, 0, 0, 0, 0, 0, 0, 0, 0, 0, 0, 0, 0, 0, 0, 0, 0, 0, 0, 0, 0, 0, 0, 0, 0, 0, 0, 0, 0, 0, 0, 0, 0, 0, 0, 0, 0, 0, 0, 0, 0, 0, 0, 0, 0, 0, 0, 0, 0, 0, 0, 0, 0, 0, 0, 0, 0, 0, 0, 0, 0, 0, 0, 0, 0, 0, 0, 0, 0, 0, 0, 0, 0, 0, 0, 0, 0, 0, 0, 0, 0, 0, 0, 0, 0, 0, 0, 0, 0, 0, 0, 0, 0, 0, 0, 0, 0, 0, 0, 0, 0, 0, 0, 0, 0, 0, 0, 0, 0, 0, 0, 0, 0, 0, 0, 0, 0, 0, 0, 0, 0, 0, 0, 0, 0, 0, 0, 0, 0, 0, 0, 0, 0, 0, 0, 0, 0, 0, 0, 0, 0, 0, 0, 0, 0, 0, 0, 0, 0, 0, 0, 0, 0, 0, 0, 0, 0, 0, 0, 0, 0, 0, 0, 0, 0, 0, 0, 0, 0, 0, 0, 0, 0, 0, 0, 0, 0, 0, 0, 0, 0, 0, 0, 0, 0, 0, 0, 0, 0, 0, 0, 0, 0, 0, 0, 0, 0, 0, 0, 0, 0, 0, 0, 0, 0, 0, 0, 0, 0, 0, 0, 0, 0, 0, 0, 0, 0, 0, 0, 0, 0, 0, 0, 0, 0, 0, 0, 0, 0, 0, 0, 0, 0, 0, 0, 0, 0, 0, 0, 0, 0, 0, 0, 0, 0, 0, 0, 0, 0, 0, 0, 0, 0, 0, 1, 0, 0, 0, 0, 0, 0, 0, 0, 0, 0, 0, 0, 0, 0, 0, 0, 0, 0, 0, 0, 0, 0, 0, 0, 0, 0, 0, 0, 0, 0, 0, 0, 0, 0, 0, 0, 0, 0, 0, 0, 0, 0, 0, 0, 0, 0, 0, 0, 0, 0, 0, 0, 0, 0, 0, 0, 0, 0, 0, 0, 0, 0, 0, 0, 0, 0, 0, 0, 0, 0, 0, 0, 0, 0, 1, 0, 0, 0, 0, 0, 0, 0, 0, 0, 0, 0, 0, 0, 0, 0, 0, 0, 0, 0, 0, 1, 0, 0, 1, 0, 0, 0, 0, 0, 0, 0, 0, 0, 0, 0, 0, 0, 0, 0, 0, 0, 0, 0, 0, 0, 0, 0, 0, 0, 0, 0, 0, 0, 0, 0, 0, 0, 0, 0, 0, 0, 0, 0, 0, 0, 0, 0, 0, 0, 0, 0, 0, 0, 0, 0, 0, 0, 0, 0, 0, 0, 0, 0, 0, 0, 0, 0, 0, 0, 0, 0, 0, 0, 0, 0, 0, 0, 0, 0, 0, 0, 0, 0, 0, 0, 0, 0, 0, 0, 0, 0, 0, 0, 0, 0, 0, 0, 0, 0, 0, 0, 0, 0, 0, 0, 0, 0, 0, 0, 0, 0, 0, 0, 0, 0, 0, 0, 0, 0, 0, 0, 0, 0, 0, 0, 0, 0, 0, 0, 0, 0, 0, 0, 0, 0, 0, 0, 0, 0, 0, 0, 0, 0, 0, 0, 0, 0, 0, 0, 0, 0, 0, 0, 0, 0, 0, 0, 0, 0, 0, 0, 0, 0, 0, 0, 0, 0, 0, 0, 0, 0, 0, 0, 0, 0, 0, 0, 0, 0, 0, 0, 0, 0, 0, 0, 0, 0, 0, 0, 0, 0, 0, 0, 0, 0, 0, 0, 0, 0, 0, 0, 0, 0, 0, 0, 0, 0, 0, 0, 0, 0, 0, 0, 0, 0, 0, 0, 0, 0, 0, 0, 0, 0, 0, 0, 0, 0, 0, 0, 0, 0, 0, 0, 0, 0, 0, 0, 0, 0, 0, 0, 0, 0, 0, 0, 0, 0, 0, 0, 0, 0, 0, 0, 0, 0, 0, 0, 0, 0, 0, 0, 0, 0, 0, 0, 0, 0, 0, 0, 0, 0, 0, 0, 0, 0, 0, 0, 0, 0, 0, 0, 0, 0, 0, 0, 0, 0, 0, 0, 0, 0, 0, 0, 0, 0, 0, 0, 0, 0, 0, 0, 0, 0, 0, 0, 0, 0, 0, 0, 0, 0, 0, 0, 0, 0, 0, 0, 0, 0, 0, 0, 0, 0, 0, 0, 0, 0, 0, 0, 0, 0, 0, 0, 0, 0, 0, 0, 0, 0, 0, 0, 0, 0, 0, 0, 0, 0, 0, 0, 0, 0, 0, 0, 0, 0, 0, 0, 0, 0, 0, 0, 0, 0, 0, 0, 0, 0, 0, 0, 0, 0, 0, 0, 0, 0, 0, 0, 0, 0, 0, 0, 0, 0, 0, 0, 0, 0, 0, 0, 0, 0, 0, 0, 0, 0, 0, 0, 0, 0, 0, 0, 0, 0, 0, 0, 0, 0, 0, 0, 0, 0, 0, 0, 0, 0, 0, 0, 0, 0, 0, 0, 0, 0, 0, 0, 0, 0, 0, 0, 0, 0, 0, 0, 0, 0, 0, 0, 0, 0, 0, 0, 0, 0, 0, 0, 0, 0, 0, 0, 0, 0, 0, 0, 0, 0, 0, 0, 0, 0, 0, 0, 0, 0, 0, 0, 0, 0, 0, 0, 0, 1, 0, 0, 0, 0, 0, 0, 0, 0, 0, 0, 0, 0, 0, 0, 0, 0, 0, 0, 0, 0, 0, 0, 0, 0, 0, 0, 0, 0, 0, 0, 0, 0, 0, 0, 0, 0, 0, 0, 0, 0, 0, 0, 0, 0, 0, 0, 0, 0, 0, 0, 0, 0, 0, 0, 0, 0, 0, 0, 0, 0, 0, 0, 0, 0, 0, 0, 0, 0, 0, 0, 0, 0, 0, 0, 0, 0, 0, 0, 0, 0, 0, 0, 0, 0, 0, 0, 0, 0, 0, 0, 0, 0, 0, 0, 0, 0, 0, 0, 0, 0, 0, 0, 0, 0, 0, 0, 0, 0, 0, 0, 0, 0, 0, 0, 0, 0, 0, 0, 0, 0, 0, 0, 0, 0, 0, 0, 0, 0, 0, 0, 0, 0, 0, 0, 0, 0, 0, 0, 0, 0, 0, 0, 0, 0, 0, 0, 0, 0, 0, 0, 0, 0, 0, 0, 0, 0, 0, 0, 0, 0, 0, 0, 0, 0, 0, 0, 0, 0, 0, 0, 0, 0, 0, 0, 0, 0, 0, 0, 0, 0, 0, 0, 0, 0, 0, 0, 0, 0, 0, 0, 0, 0, 0, 0, 0, 0, 0, 0, 0, 0, 0, 0, 0, 0, 0, 0, 0, 0, 0, 0, 0, 0, 0, 0, 0, 0, 0, 0, 0, 0, 0, 0, 0, 0, 0, 0, 0, 0, 0, 0, 0, 0, 0, 0, 0, 0, 0, 0, 0, 0, 0, 0, 0, 0, 0, 0, 0, 0, 0, 0, 0, 0, 0, 0, 0, 0, 0, 0, 0, 0, 0, 0, 0, 0, 0, 0, 0, 0, 0, 0, 0, 0, 0, 0, 0, 0, 0, 0, 0, 0, 0, 0, 0, 0, 0, 0, 0, 0, 0, 0, 0, 0, 0, 0, 0, 0, 0, 0, 0, 0, 0, 0, 0, 0, 0, 0, 0, 0, 0, 0, 0, 0, 0, 0, 0, 0, 0, 0, 0, 0, 0, 0, 0, 0, 0, 0, 0, 0, 0, 0, 0, 0, 0, 0, 0, 0, 0, 0, 0, 0, 0, 0, 0, 0, 0, 0, 0, 0, 0, 0, 0, 0, 0, 0, 0, 0, 0, 0, 0, 0, 0, 0, 0, 0, 0, 0, 0, 0, 0, 0, 0, 0, 0, 0, 0, 0, 0, 0, 0, 0, 0, 0, 0, 0, 0, 0, 0, 0, 0, 0, 0, 0, 0, 0, 0, 0, 0, 0, 0, 0, 0, 0, 0, 0, 0, 0, 0, 0, 0, 0, 0, 0, 0, 0, 0, 0, 0, 0, 0, 0, 0, 0, 0, 0, 0, 0, 0, 0, 0, 0, 0, 0, 0, 0, 0, 0, 0, 0, 0, 0, 0, 0, 0, 0, 0, 0, 0, 0, 0, 0, 0, 0, 0, 0, 0, 0, 0, 0, 0, 0, 0, 0, 0, 0, 0, 0, 0, 0, 0, 0, 0, 0, 0, 0, 0, 0, 0, 0, 0, 0, 0, 0, 0, 0, 0, 0, 0, 0, 0, 0, 0, 0, 0, 0, 0, 0, 0, 0, 0, 0, 0, 0, 0, 0, 0, 0, 0, 0, 0, 0, 0, 0, 1, 0, 0, 0, 0, 0, 0, 0, 0, 0, 0, 0, 0, 0, 0, 0, 0, 0, 0, 0, 0, 0, 0, 0, 0, 0, 0, 0, 0, 0, 0, 0, 0, 0, 0, 0, 2, 0, 0, 0, 0, 0, 0, 0, 0, 0, 0, 0, 0, 0, 0, 0, 0, 0, 0, 0, 0, 0, 0, 0, 0, 0, 0, 0, 0, 0, 0, 0, 0, 0, 0, 0, 0, 0, 0, 0, 0, 1, 0, 0, 0, 0, 0, 0, 0, 0, 0, 0, 0, 0, 0, 0, 0, 0, 0, 0, 0, 0, 0, 0, 0, 0, 0, 0, 0, 0, 0, 0, 0, 0, 0, 0, 0, 0, 0, 0, 0, 0, 0, 0, 0, 0, 0, 0, 0, 0, 0, 0, 0, 0, 0, 0, 0, 0, 0, 0, 0, 0, 0, 0, 0, 0, 0, 0, 0, 0, 0, 0, 0, 0, 0, 0, 0, 0, 0, 0, 0, 0, 0, 0, 0, 0, 0, 0, 0, 0, 0, 0, 0, 0, 0, 0, 0, 0, 0, 0, 0, 0, 0, 0, 0, 0, 0, 0, 0, 0, 0, 0, 0, 0, 0, 0, 0, 0, 0, 0, 0, 0, 0, 0, 0, 0, 0, 0, 0, 0, 0, 0, 0, 0, 0, 0, 0, 0, 0, 0, 0, 0, 0, 0, 0, 0, 0, 0, 0, 0, 0, 0, 0, 0, 0, 0, 0, 0, 0, 0, 0, 0, 0, 0, 0, 0, 0, 0, 0, 0, 0, 0, 0, 0, 0, 0, 0, 0, 0, 0, 0, 0, 0, 0, 0, 0, 0, 0, 0, 0, 0, 0, 0, 0, 0, 0, 0, 0, 0, 0, 0, 0, 0, 0, 0, 0, 0, 0, 0, 0, 0, 0, 0, 0, 0, 0, 0, 0, 0, 0, 0, 0, 0, 0, 0, 0, 0, 0, 0, 0, 0, 0, 0, 0, 0, 0, 0, 0, 0, 0, 0, 0, 0, 0, 0, 0, 0, 0, 0, 0, 0, 0, 0, 0, 0, 0, 0, 0, 0, 0, 0, 0, 0, 0, 0, 0, 0, 0, 0, 0, 0, 0, 0, 0, 0, 0, 0, 0, 0, 0, 0, 0, 0, 0, 0, 0, 0, 0, 0, 0, 0, 0, 0, 0, 0, 0, 0, 0, 0, 0, 0, 0, 0, 0, 0, 0, 0, 0, 0, 0, 0, 0, 0, 0, 0, 0, 0, 0, 0, 0, 0, 0, 0, 0, 0, 0, 0, 0, 0, 0, 0, 0, 0, 0, 0, 0, 0, 0, 0, 0, 0, 0, 0, 0, 0, 0, 0, 0, 0, 0, 0, 0, 0, 0, 0, 0, 0, 0, 0, 0, 0, 0, 0, 0, 0, 0, 0, 0, 0, 0, 0, 0, 0, 0, 0, 0, 0, 0, 0, 0, 0, 0, 0, 0, 0, 0, 0, 0, 0, 0, 0, 0, 0, 0, 0, 0, 0, 0, 0, 0, 0, 0, 0, 0, 0, 0, 0, 0, 0, 0, 0, 0, 0, 0, 0, 0, 0, 0, 0, 0, 0, 0, 0, 0, 0, 0, 0, 0, 0, 0, 0, 0, 0, 0, 0, 0, 0, 0, 0, 0, 0, 0, 0, 0, 0, 0, 0, 0, 0, 0, 0, 0, 0, 0, 0, 0, 0, 0, 0, 0, 0, 0, 0, 0, 0, 0, 0, 0, 0, 0, 0, 0, 0, 0, 0, 0, 0, 0, 0, 0, 0, 0, 0, 0, 0, 0, 0, 0, 0, 0, 0, 0, 0, 0, 0, 0, 0, 0, 0, 1, 0, 0, 0, 0, 0, 0, 0, 0, 0, 0, 0, 0, 0, 0, 0, 0, 0, 0, 0, 0, 0, 0, 0, 0, 0, 0, 0, 0, 0, 0, 0, 0, 0, 0, 0, 0, 0, 0, 0, 0, 0, 0, 0, 0, 0, 0, 0, 0, 0, 0, 0, 0, 0, 0, 0, 0, 0, 0, 0, 0, 0, 0, 0, 0, 0, 0, 0, 0, 0, 0, 0, 0, 0, 0, 0, 0, 0, 0, 0, 0, 0, 0, 0, 0, 0, 0, 0, 0, 0, 0, 0, 0, 0, 0, 0, 0, 0, 0, 0, 0, 0, 0, 0, 0, 0, 0, 0, 0, 0, 0, 2, 0, 0, 0, 0, 0, 0, 0, 0, 0, 0, 0, 0, 0, 0, 0, 0, 0, 0, 0, 0, 0, 0, 0, 0, 0, 0, 0, 0, 0, 0, 0, 0, 0, 0, 0, 0, 0, 0, 0, 0, 0, 0, 0, 0, 0, 0, 0, 0, 0, 0, 0, 0, 0, 0, 0, 0, 0, 0, 0, 0, 0, 0, 0, 0, 0, 0, 0, 0, 0, 0, 0, 0, 0, 0, 0, 0, 0, 0, 0, 0, 0, 0, 0, 0, 0, 0, 0, 0, 0, 0, 0, 0, 0, 0, 0, 0, 0, 0, 0, 0, 0, 0, 0, 0, 0, 0, 0, 0, 0, 0, 0, 0, 0, 0, 0, 0, 0, 0, 0, 0, 0, 0, 0, 0, 0, 0, 0, 0, 0, 0, 0, 0, 0, 0, 0, 0, 0, 0, 0, 0, 0, 0, 0, 0, 0, 0, 0, 0, 0, 0, 0, 0, 0, 0, 0, 0, 0, 0, 0, 0, 0, 0, 0, 0, 0, 0, 0, 0, 0, 0, 0, 0, 0, 0, 0, 0, 0, 0, 0, 0, 0, 0, 0, 0, 0, 0, 0, 0, 0, 0, 0, 0, 0, 0, 0, 0, 0, 0, 0, 0, 0, 0, 0, 0, 0, 0, 0, 0, 0, 0, 0, 0, 0, 0, 0, 0, 0, 0, 0, 0, 0, 0, 0, 0, 0, 0, 0, 0, 0, 0, 0, 0, 0, 0, 0, 0, 0, 0, 0, 0, 0, 0, 0, 0, 0, 0, 0, 0, 0, 0, 0, 0, 0, 0, 0, 0, 0, 0, 0, 0, 0, 0, 0, 0, 0, 0, 0, 0, 0, 0, 0, 0, 0, 0, 0, 0, 0, 0, 0, 0, 0, 0, 0, 0, 0, 0, 0, 0, 0, 0, 0, 0, 0, 0, 0, 0, 0, 0, 0, 0, 0, 0, 0, 0, 0, 0, 0, 0, 0, 0, 0, 0, 0, 0, 0, 0, 0, 0, 0, 0, 0, 0, 0, 0, 0, 0, 0, 0, 0, 0, 0, 0, 0, 0, 0, 0, 0, 0, 0, 0, 0, 0, 0, 0, 0, 0, 0, 0, 0, 0, 0, 0, 0, 0, 0, 0, 0, 0, 0, 0, 0, 0, 0, 0, 0, 0, 0, 0, 0, 0, 0, 0, 0, 0, 0, 0, 0, 0, 0, 0, 0, 0, 0, 0, 0, 0, 0, 0, 0, 0, 0, 0, 0, 0, 0, 0, 0, 0, 0, 0, 0, 0, 0, 0, 0, 0, 0, 0, 0, 0, 0, 0, 0, 0, 0, 0, 0, 0, 0, 0, 0, 0, 0, 0, 0, 0, 0, 0, 0, 0, 0, 0, 0, 0, 0, 0, 0, 0, 0, 0, 0, 0, 0, 0, 0, 0, 0, 0, 0, 0, 0, 0, 0, 0, 0, 0, 0, 0, 0, 0, 0, 0, 0, 0, 0, 0, 0, 0, 0, 0, 0, 0, 0, 0, 0, 0, 0, 0, 0, 0, 0, 0, 0, 0, 0, 0, 0, 0, 0, 0, 0, 0, 0, 0, 0, 0, 0, 0, 0, 0, 0, 0, 0, 0, 0, 0, 0, 0, 0, 0, 0, 0, 0, 0, 0, 0, 0, 0, 0, 0, 0, 0, 0, 0, 0, 0, 0, 0, 0, 0, 0, 0, 0, 0, 0, 0, 0, 0, 0, 0, 0, 0, 0, 0, 0, 0, 0, 0, 0, 0, 0, 0, 0, 0, 0, 0, 0, 0, 0, 0, 0, 0, 0, 0, 0, 0, 0, 0, 0, 0, 0, 0, 0, 0, 0, 0, 0, 0, 0, 0, 0, 0, 0, 0, 0, 0, 0, 0, 0, 0, 0, 0, 0, 0, 0, 0, 0, 0, 0, 0, 0, 0, 0, 0, 0, 0, 0, 0, 0, 0, 0, 0, 0, 0, 0, 0, 0, 0, 0, 0, 0, 0, 0, 0, 0, 0, 0, 0, 0, 0, 0, 0, 0, 0, 0, 0, 0, 0, 0, 0, 0, 0, 0, 0, 0, 0, 0, 0, 0, 0, 0, 0, 0, 0, 0, 0, 0, 0, 0, 0, 0, 0, 0, 0, 0, 0, 0, 0, 0, 0, 0, 0, 0, 0, 0, 0, 0, 0, 0, 0, 0, 0, 0, 0, 0, 0, 0, 0, 0, 0, 1, 0, 0, 0, 0, 0, 0, 0, 0, 0, 0, 0, 0, 0, 0, 0, 0, 0, 0, 0, 0, 0, 0, 0, 0, 0, 0, 0, 0, 0, 0, 0, 0, 0, 0, 0, 0, 0, 0, 0, 0, 0, 0, 0, 0, 0, 0, 0, 0, 0, 0, 0, 0, 0, 0, 0, 0, 0, 0, 0, 0, 0, 0, 0, 0, 0, 0, 0, 0, 0, 0, 0, 0, 0, 0, 0, 0, 0, 0, 0, 0, 0, 0, 0, 0, 0, 0, 0, 0, 0, 0, 0, 0, 0, 0, 0, 0, 0, 0, 0, 0, 0, 0, 0, 0, 0, 0, 0, 1, 0, 0, 0, 0, 0, 0, 0, 0, 0, 0, 0, 0, 0, 0, 0, 0, 0, 0, 0, 0, 0, 0, 0, 0, 0, 0, 0, 0, 0, 0, 0, 0, 0, 0, 0, 0, 0, 0, 0, 0, 0, 0, 0, 0, 0, 0, 0, 0, 0, 0, 0, 0, 0, 0, 0, 0, 0, 0, 0, 0, 0, 0, 0, 0, 0, 0, 0, 0, 0, 0, 0, 0, 0, 0, 0, 0, 0, 0, 0, 0, 0, 0, 0, 0, 0, 0, 0, 0, 0, 0, 0, 0, 0, 0, 0, 0, 0, 0, 0, 0, 0, 0, 0, 0, 0, 0, 0, 0, 0, 0, 0, 0, 0, 0, 0, 0, 0, 0, 0, 0, 0, 0, 0, 0, 0, 0, 0, 0, 0, 0, 0, 0, 0, 0, 0, 0, 0, 0, 0, 0, 0, 0, 0, 0, 0, 0, 0, 0, 0, 0, 0, 0, 0, 0, 0, 0, 0, 0, 0, 0, 0, 0, 0, 0, 0, 0, 0, 0, 0, 0, 0, 0, 0, 0, 0, 0, 0, 0, 0, 0, 0, 0, 0, 0, 0, 0, 0, 0, 0, 0, 0, 0, 0, 0, 0, 0, 0, 0, 0, 0, 0, 0, 0, 0, 0, 0, 0, 0, 0, 0, 0, 0, 0, 0, 0, 0, 0, 0, 0, 0, 0, 0, 0, 0, 0, 0, 0, 0, 0, 0, 0, 0, 0, 0, 0, 0, 0, 0, 0, 0, 0, 0, 0, 0, 0, 0, 0, 0, 0, 0, 0, 0, 0, 0, 0, 0, 0, 0, 0, 0, 0, 0, 0, 0, 0, 0, 0, 0, 0, 0, 0, 0, 0, 0, 0, 0, 0, 0, 0, 0, 0, 0, 0, 0, 0, 0, 0, 0, 0, 0, 0, 0, 0, 0, 0, 0, 0, 0, 0, 0, 0, 0, 0, 0, 0, 0, 0, 0, 0, 0, 0, 0, 0, 0, 0, 0, 0, 0, 0, 0, 0, 0, 0, 0, 0, 0, 0, 0, 0, 0, 0, 0, 0, 0, 0, 0, 0, 0, 0, 0, 0, 0, 0, 0, 0, 0, 0, 0, 0, 0, 0, 0, 0, 0, 0, 0, 0, 0, 0, 0, 0, 0, 0, 0, 0, 0, 0, 0, 0, 0, 0, 0, 0, 0, 0, 0, 0, 0, 0, 0, 0, 0, 0, 0, 0, 0, 0, 0, 0, 0, 0, 0, 0, 0, 0, 0, 0, 0, 0, 0, 0, 0, 0, 0, 0, 0, 0, 0, 0, 0, 0, 0, 0, 0, 0, 0, 0, 0, 0, 0, 0, 0, 0, 0, 0, 0, 0, 0, 0, 0, 0, 0, 0, 0, 0, 0, 0, 0, 0, 0, 0, 0, 0, 0, 0, 0, 0, 0, 0, 0, 0, 0, 0, 0, 0, 0, 0, 0, 0, 0, 0, 0, 0, 2, 0, 1, 0], type: <class 'list'>, valid types: <class 'bytes'>, <class 'bytearray'>, file-like object"
     ]
    }
   ],
   "source": [
    "response = runtime.invoke_endpoint(EndpointName = xgb_predictor.endpoint, # The name of the endpoint we created\n",
    "                                       ContentType = 'text/csv',                     # The data format that is expected\n",
    "                                       Body = test_bow)"
   ]
  },
  {
   "cell_type": "markdown",
   "metadata": {},
   "source": [
    "So why did we get an error?\n",
    "\n",
    "Because we tried to send the endpoint a list of integers but it expected us to send data of type `text/csv`. So, we need to convert it."
   ]
  },
  {
   "cell_type": "code",
   "execution_count": 47,
   "metadata": {},
   "outputs": [],
   "source": [
    "response = runtime.invoke_endpoint(EndpointName = xgb_predictor.endpoint, # The name of the endpoint we created\n",
    "                                       ContentType = 'text/csv',                     # The data format that is expected\n",
    "                                       Body = ','.join([str(val) for val in test_bow]).encode('utf-8'))"
   ]
  },
  {
   "cell_type": "code",
   "execution_count": 48,
   "metadata": {},
   "outputs": [
    {
     "name": "stdout",
     "output_type": "stream",
     "text": [
      "{'ResponseMetadata': {'RequestId': '69dbd8eb-c528-463b-8658-e26e45d9c09d', 'HTTPStatusCode': 200, 'HTTPHeaders': {'x-amzn-requestid': '69dbd8eb-c528-463b-8658-e26e45d9c09d', 'x-amzn-invoked-production-variant': 'AllTraffic', 'date': 'Fri, 21 Aug 2020 17:14:36 GMT', 'content-type': 'text/csv; charset=utf-8', 'content-length': '14'}, 'RetryAttempts': 0}, 'ContentType': 'text/csv; charset=utf-8', 'InvokedProductionVariant': 'AllTraffic', 'Body': <botocore.response.StreamingBody object at 0x7fef59eb79b0>}\n"
     ]
    }
   ],
   "source": [
    "print(response)"
   ]
  },
  {
   "cell_type": "markdown",
   "metadata": {},
   "source": [
    "As we can see, the response from our model is a somewhat complicated looking dict that contains a bunch of information. The bit that we are most interested in is `'Body'` object which is a streaming object that we need to `read` in order to make use of."
   ]
  },
  {
   "cell_type": "code",
   "execution_count": 49,
   "metadata": {},
   "outputs": [
    {
     "name": "stdout",
     "output_type": "stream",
     "text": [
      "0.437364161015\n"
     ]
    }
   ],
   "source": [
    "response = response['Body'].read().decode('utf-8')\n",
    "print(response)"
   ]
  },
  {
   "cell_type": "markdown",
   "metadata": {},
   "source": [
    "Now that we know how to process the incoming user data we can start setting up the infrastructure to make our simple web app work. To do this we will make use of two different services. Amazon's Lambda and API Gateway services.\n",
    "\n",
    "Lambda is a service which allows someone to write some relatively simple code and have it executed whenever a chosen trigger occurs. For example, you may want to update a database whenever new data is uploaded to a folder stored on S3.\n",
    "\n",
    "API Gateway is a service that allows you to create HTTP endpoints (url addresses) which are connected to other AWS services. One of the benefits to this is that you get to decide what credentials, if any, are required to access these endpoints.\n",
    "\n",
    "In our case we are going to set up an HTTP endpoint through API Gateway which is open to the public. Then, whenever anyone sends data to our public endpoint we will trigger a Lambda function which will send the input (in our case a review) to our model's endpoint and then return the result."
   ]
  },
  {
   "cell_type": "markdown",
   "metadata": {},
   "source": [
    "### Setting up a Lambda function\n",
    "\n",
    "The first thing we are going to do is set up a Lambda function. This Lambda function will be executed whenever our public API has data sent to it. When it is executed it will receive the data, perform any sort of processing that is required, send the data (the review) to the SageMaker endpoint we've created and then return the result.\n",
    "\n",
    "#### Part A: Create an IAM Role for the Lambda function\n",
    "\n",
    "Since we want the Lambda function to call a SageMaker endpoint, we need to make sure that it has permission to do so. To do this, we will construct a role that we can later give the Lambda function.\n",
    "\n",
    "Using the AWS Console, navigate to the **IAM** page and click on **Roles**. Then, click on **Create role**. Make sure that the **AWS service** is the type of trusted entity selected and choose **Lambda** as the service that will use this role, then click **Next: Permissions**.\n",
    "\n",
    "In the search box type `sagemaker` and select the check box next to the **AmazonSageMakerFullAccess** policy. Then, click on **Next: Review**.\n",
    "\n",
    "Lastly, give this role a name. Make sure you use a name that you will remember later on, for example `LambdaSageMakerRole`. Then, click on **Create role**."
   ]
  },
  {
   "cell_type": "markdown",
   "metadata": {},
   "source": [
    "#### Part B: Create a Lambda function\n",
    "\n",
    "Now it is time to actually create the Lambda function. Remember from earlier that in order to process the user provided input and send it to our endpoint we need to gather two pieces of information:\n",
    "\n",
    " - The name of the endpoint, and\n",
    " - the vocabulary object.\n",
    "\n",
    "We will copy these pieces of information to our Lambda function after we create it.\n",
    "\n",
    "To start, using the AWS Console, navigate to the AWS Lambda page and click on **Create a function**. When you get to the next page, make sure that **Author from scratch** is selected. Now, name your Lambda function, using a name that you will remember later on, for example `sentiment_analysis_xgboost_func`. Make sure that the **Python 3.6** runtime is selected and then choose the role that you created in the previous part. Then, click on **Create Function**.\n",
    "\n",
    "On the next page you will see some information about the Lambda function you've just created. If you scroll down you should see an editor in which you can write the code that will be executed when your Lambda function is triggered. Collecting the code we wrote above to process a single review and adding it to the provided example `lambda_handler` we arrive at the following.\n",
    "\n",
    "```python\n",
    "# We need to use the low-level library to interact with SageMaker since the SageMaker API\n",
    "# is not available natively through Lambda.\n",
    "import boto3\n",
    "\n",
    "# And we need the regular expression library to do some of the data processing\n",
    "import re\n",
    "\n",
    "REPLACE_NO_SPACE = re.compile(\"(\\.)|(\\;)|(\\:)|(\\!)|(\\')|(\\?)|(\\,)|(\\\")|(\\()|(\\))|(\\[)|(\\])\")\n",
    "REPLACE_WITH_SPACE = re.compile(\"(<br\\s*/><br\\s*/>)|(\\-)|(\\/)\")\n",
    "\n",
    "def review_to_words(review):\n",
    "    words = REPLACE_NO_SPACE.sub(\"\", review.lower())\n",
    "    words = REPLACE_WITH_SPACE.sub(\" \", words)\n",
    "    return words\n",
    "    \n",
    "def bow_encoding(words, vocabulary):\n",
    "    bow = [0] * len(vocabulary) # Start by setting the count for each word in the vocabulary to zero.\n",
    "    for word in words.split():  # For each word in the string\n",
    "        if word in vocabulary:  # If the word is one that occurs in the vocabulary, increase its count.\n",
    "            bow[vocabulary[word]] += 1\n",
    "    return bow\n",
    "\n",
    "\n",
    "def lambda_handler(event, context):\n",
    "    \n",
    "    vocab = \"*** ACTUAL VOCABULARY GOES HERE ***\"\n",
    "    \n",
    "    words = review_to_words(event['body'])\n",
    "    bow = bow_encoding(words, vocab)\n",
    "\n",
    "    # The SageMaker runtime is what allows us to invoke the endpoint that we've created.\n",
    "    runtime = boto3.Session().client('sagemaker-runtime')\n",
    "\n",
    "    # Now we use the SageMaker runtime to invoke our endpoint, sending the review we were given\n",
    "    response = runtime.invoke_endpoint(EndpointName = '***ENDPOINT NAME HERE***',# The name of the endpoint we created\n",
    "                                       ContentType = 'text/csv',                 # The data format that is expected\n",
    "                                       Body = ','.join([str(val) for val in bow]).encode('utf-8')) # The actual review\n",
    "\n",
    "    # The response is an HTTP response whose body contains the result of our inference\n",
    "    result = response['Body'].read().decode('utf-8')\n",
    "    \n",
    "    # Round the result so that our web app only gets '1' or '0' as a response.\n",
    "    result = round(float(result))\n",
    "\n",
    "    return {\n",
    "        'statusCode' : 200,\n",
    "        'headers' : { 'Content-Type' : 'text/plain', 'Access-Control-Allow-Origin' : '*' },\n",
    "        'body' : str(result)\n",
    "    }\n",
    "```"
   ]
  },
  {
   "cell_type": "markdown",
   "metadata": {},
   "source": [
    "Once you have copy and pasted the code above into the Lambda code editor, replace the `**ENDPOINT NAME HERE**` portion with the name of the endpoint that we deployed earlier. You can determine the name of the endpoint using the code cell below."
   ]
  },
  {
   "cell_type": "code",
   "execution_count": 50,
   "metadata": {},
   "outputs": [
    {
     "data": {
      "text/plain": [
       "'xgboost-2020-08-21-16-46-00-467'"
      ]
     },
     "execution_count": 50,
     "metadata": {},
     "output_type": "execute_result"
    }
   ],
   "source": [
    "xgb_predictor.endpoint"
   ]
  },
  {
   "cell_type": "markdown",
   "metadata": {},
   "source": [
    "In addition, you will need to copy the vocabulary dict to the appropriate place in the code at the beginning of the `lambda_handler` method. The cell below prints out the vocabulary dict in a way that is easy to copy and paste."
   ]
  },
  {
   "cell_type": "code",
   "execution_count": 51,
   "metadata": {},
   "outputs": [
    {
     "name": "stdout",
     "output_type": "stream",
     "text": [
      "{'although': 201, 'cameron': 661, 'grant': 1956, 'was': 4805, 'clearly': 840, 'hired': 2117, 'to': 4507, 'andrew': 228, 'blake': 498, 'over': 3148, 'at': 331, 'ultimate': 4627, 'pictures': 3270, 'when': 4862, 'the': 4426, 'latter': 2528, 'started': 4157, 'his': 2118, 'own': 3158, 'company': 910, 'studio': 4240, 'he': 2056, 'practically': 3362, 'master': 2757, 'right': 3696, 'out': 3141, 'of': 3083, 'it': 2366, 'came': 656, 'setting': 3900, 'up': 4683, 'sex': 3907, 'scenes': 3811, 'so': 4046, 'while': 4868, 'all': 187, 'window': 4894, 'dressing': 1359, 'had': 2003, 'in': 2257, 'and': 226, 'sun': 4292, 'made': 2697, 'as': 311, 'if': 2222, 'theyre': 4445, 'about': 67, 'hit': 2122, 'very': 4723, 'much': 2934, 'present': 3374, 'for': 1784, 'added': 116, 'personal': 3240, 'spin': 4112, 'content': 966, 'doing': 1312, 'raised': 3508, 'heat': 2067, 'level': 2584, 'that': 4424, 'big': 478, 'ever': 1538, 'since': 3990, 'first': 1736, 'best': 469, 'film': 1716, 'night': 3013, 'effort': 1432, 'elements': 1443, 'desire': 1205, 'might': 2835, 'still': 4188, 'have': 2052, 'been': 438, 'by': 642, 'an': 223, 'overly': 3155, 'with': 4911, 'girl': 1909, 'on': 3105, 'but': 636, 'subsequent': 4257, 'dinner': 1254, 'party': 3200, 'already': 197, 'shows': 3960, 'him': 2110, 'top': 4525, 'form': 1798, 'what': 4858, 'must': 2950, 'surely': 4309, 'rank': 3518, 'masterpiece': 2759, 'title': 4504, 'premise': 3370, 'group': 1980, 'well': 4843, 'do': 1302, 'friends': 1837, 'sexy': 3911, 'stories': 4205, 'extended': 1604, 'conclusion': 936, 'food': 1778, 'stuff': 4243, 'each': 1395, 'others': 3136, 'flawless': 1751, 'their': 4431, 'kitchen': 2485, 'sequence': 3887, 'is': 2360, 'sure': 4308, 'delight': 1167, 'those': 4460, 'taste': 4369, 'towards': 4540, 'flesh': 1753, 'gold': 1932, 'here': 2086, 'rarely': 3524, 'more': 2904, 'than': 4420, 'second': 3846, 'adding': 117, 'several': 3905, 'bargain': 400, 'basement': 405, 'yet': 4984, 'looks': 2649, 'absolutely': 72, 'stunning': 4244, 'romantic': 3733, 'four': 1812, 'poster': 3353, 'beautiful': 428, 'ireland': 2352, 'making': 2718, 'davis': 1126, 'record': 3573, 'two': 4620, 'were': 4848, 'time': 4495, 'under': 4639, 'complete': 921, 'eye': 1611, 'candy': 668, 'section': 3853, 'movie': 2926, 'get': 1899, 'early': 1400, 'back': 378, 'then': 4436, 'come': 886, 'she': 3923, 'frank': 1821, 'mark': 2739, 'gay': 1876, 'side': 3965, 'industry': 2280, 'albeit': 173, 'little': 2624, 'help': 2079, 'from': 1840, 'effective': 1429, 'contrast': 975, 'stylish': 4251, 'providing': 3451, 'atmospheric': 334, 'backdrop': 379, 'full': 1846, 'taking': 4352, 'place': 3282, 'construction': 960, 'worker': 4942, 'seeks': 3860, 'cool': 989, 'off': 3084, 'summer': 4291, 'day': 1129, 'down': 1335, 'too': 4522, 'proper': 3436, 'business': 633, 'woman': 4921, 'her': 2085, 'most': 2909, 'pretty': 3384, 'pass': 3201, 'show': 3953, 'be': 418, 'imaginative': 2237, 'has': 2043, 'nasty': 2968, 'handsome': 2021, 'sean': 3840, 'pants': 3182, 'other': 3135, 'glass': 1917, 'until': 4680, 'proves': 3447, 'either': 1438, 'or': 3124, 'hot': 2174, 'often': 3095, 'not': 3040, 'both': 547, 'continue': 969, 'films': 1721, 'couples': 1017, 'may': 2775, 'prime': 3395, 'intended': 2315, 'audience': 352, 'between': 475, 'nice': 3008, 'should': 3951, 'include': 2261, 'something': 4066, 'everything': 1544, 'many': 2732, 'adult': 125, 'features': 1680, 'are': 285, 'acting': 99, 'director': 1264, 'great': 1964, 'detail': 1217, 'like': 2599, 'shot': 3949, 'white': 4870, 'shoes': 3941, 'being': 448, 'vision': 4754, 'this': 4457, 'marks': 2742, 'filmmaker': 1719, 'rather': 3528, 'merely': 2815, 'one': 3107, 'case': 707, 'nick': 3012, 'who': 4871, 'take': 4349, 'effectively': 1430, 'packed': 3166, 'could': 1007, 'its': 2370, 'got': 1944, 'somewhat': 4068, 'fascinating': 1658, 'never': 3001, 'above': 68, 'sheer': 3925, 'flawed': 1750, 'there': 4438, 'moments': 2887, 'where': 4864, 'thought': 4462, 'going': 1931, 'fall': 1637, 'my': 2951, 'seat': 3845, 'theater': 4427, 'mean': 2779, 'watch': 4811, 'piece': 3272, 'cinema': 816, 'getting': 1901, 'lot': 2661, 'good': 1937, 'recent': 3566, 'years': 4979, 'border': 539, 'im': 2232, 'afraid': 140, 'nobody': 3022, 'will': 4886, 'want': 4788, 'rent': 3626, 'reason': 3557, 'why': 4878, 'chose': 804, 'really': 3556, 'felt': 1692, 'needed': 2988, 'people': 3221, 'away': 369, 'go': 1924, 'went': 4847, 'before': 440, 'driven': 1365, 'me': 2778, 'write': 4967, 'review': 3676, 'just': 2437, 'stuck': 4237, 'trying': 4601, 'find': 1726, 'pick': 3265, 'serious': 3891, 'role': 3726, 'frankly': 1823, 'poor': 3328, 'book': 535, 'certainly': 738, 'did': 1241, 'work': 4940, 'found': 1811, 'atmosphere': 333, 'musical': 2947, 'actor': 103, 'rose': 3739, 'enough': 1491, 'carry': 700, 'weak': 4824, 'plot': 3309, 'dialogue': 1234, 'perhaps': 3235, 'entirely': 1503, 'missed': 2867, 'point': 3316, 'didnt': 1242, 'fit': 1740, 'into': 2332, 'any': 256, 'empathy': 1462, 'characters': 760, 'nor': 3032, 'create': 1036, 'fact': 1621, 'myself': 2953, 'end': 1468, 'deep': 1154, 'slap': 4018, 'three': 4469, 'main': 2707, 'isnt': 2362, 'classic': 835, 'stretch': 4221, 'entertaining': 1499, 'remember': 3616, 'saw': 3798, '15': 7, 'ago': 154, 'hbo': 2055, 'loved': 2670, 'written': 4972, 'same': 3778, 'guy': 2000, 'wrote': 4974, 'directed': 1259, 'arthur': 305, 'though': 4461, 'funny': 1852, 'does': 1308, 'potential': 3355, 'steve': 4181, 'gordon': 1940, 'reached': 3537, 'based': 404, 'george': 1893, 'set': 3898, 'india': 2273, 'during': 1387, 'century': 736, 'british': 589, 'soldiers': 4054, 'stop': 4201, 'evil': 1548, 'murderous': 2942, 'marvelous': 2750, 'adventure': 130, 'war': 4792, 'comedy': 890, 'plenty': 3307, 'thrilling': 4474, 'leading': 2547, 'men': 2805, 'victor': 4731, 'douglas': 1334, 'son': 4070, 'legendary': 2565, 'you': 4986, 'know': 2489, 'forget': 1793, 'fine': 1729, 'players': 3299, 'sam': 3777, 'playing': 3300, 'himself': 2111, 'brilliant': 583, 'gifted': 1907, 'joan': 2404, 'awfully': 373, 'fun': 1848, 'wedding': 4836, 'can': 665, 'requires': 3642, 'sunday': 4293, '16': 8, 'san': 3780, 'francisco': 1819, 'southern': 4088, 'colonel': 876, 'your': 4991, 'make': 2713, 'hollywood': 2137, 'managed': 2723, 'davies': 1125, 'direction': 1261, 'fame': 1642, 'handed': 2016, 'considering': 952, 'dramas': 1347, 'pushed': 3478, 'criticism': 1063, 'would': 4957, 'seem': 3861, 'some': 4061, 'however': 2183, 'star': 4150, 'left': 2561, 'career': 686, 'light': 2595, 'slapstick': 4019, 'better': 472, 'king': 2479, 'which': 4867, 'known': 2492, 'largely': 2518, 'because': 432, 'mgm': 2828, 'filled': 1715, 'cameos': 658, 'happy': 2032, 'saved': 3795, 'among': 217, 'stars': 4155, 'notorious': 3051, 'joe': 2407, 'college': 875, 'wise': 4903, 'william': 4887, 'loosely': 2651, 'life': 2592, 'began': 441, 'comedies': 889, 'grand': 1953, 'drama': 1346, 'dont': 1324, 'think': 4452, 'spend': 4105, 'rest': 3657, 'everyone': 1542, 'von': 4765, 'studios': 4241, 'used': 4693, 'original': 3129, 'abandoned': 62, 'year': 4978, 'worked': 4941, 'drives': 1367, 'daughter': 1121, 'movies': 2927, 'these': 4441, 'country': 1014, 'billy': 482, 'pie': 3271, 'artist': 307, 'table': 4346, 'bit': 488, 'helps': 2082, 'land': 2511, 'part': 3193, 'next': 3007, 'picture': 3269, 'thinks': 4454, 'high': 2100, 'turns': 4609, 'job': 2405, 'preview': 3386, 'charlie': 765, 'chaplin': 756, 'asks': 319, 'fellow': 1691, 'aside': 315, 'makes': 2716, 'sign': 3970, 'car': 680, 'tells': 4397, 'shes': 3930, 'naturally': 2974, 'character': 758, 'supposed': 4306, 'recognize': 3569, 'soon': 4074, 'moves': 2925, 'art': 304, 'changes': 751, 'name': 2960, 'leaves': 2556, 'behind': 447, 'wonderful': 4928, 'send': 3875, 'actress': 105, 'lips': 2615, 'throws': 4482, 'eating': 1413, 'long': 2644, 'sitting': 4007, 'facing': 1620, 'camera': 659, 'includes': 2263, 'whos': 4876, 'also': 199, 'friendly': 1836, 'vampires': 4712, 'taylor': 4372, 'claire': 831, 'duo': 1386, 'arm': 292, 'pretending': 3382, 'hes': 2093, 'stealing': 4171, 'joy': 2422, 'antics': 255, 'smoking': 4040, 'la': 2500, 'john': 2409, 'appears': 278, 'driving': 1368, 'through': 4477, 'looking': 2648, 'usual': 4699, 'dressed': 1358, 'marie': 2737, 'amusing': 221, 'trick': 4582, 'hart': 2041, 'runs': 3757, 'crew': 1053, 'location': 2635, 'filming': 1718, 'results': 3662, 'even': 1533, 'works': 4945, 'final': 1722, 'scene': 3809, 'current': 1084, 'production': 3419, 'worth': 4953, 'harry': 2039, 'eddie': 1416, 'sidney': 3968, 'dramatic': 1348, 'cant': 671, 'cry': 1073, 'screen': 3829, 'test': 4416, 'once': 3106, 'paul': 3214, 'love': 2669, 'interest': 2323, 'hilarious': 2106, 'phony': 3256, 'tries': 4585, 'act': 97, 'awful': 372, 'shed': 3924, 'forced': 1787, 'true': 4596, 'satire': 3788, 'days': 1130, 'ten': 4399, 'hence': 2083, 'remains': 3611, 'highly': 2105, 'example': 1553, 'quality': 3484, 'tremendous': 4579, 'wealth': 4826, 'talent': 4354, 'shame': 3918, 'lost': 2660, 'far': 1653, 'examples': 1554, 'successful': 4266, 'earlier': 1399, 'they': 4442, 'seen': 3865, 'enjoyed': 1486, 'amazing': 209, 'opening': 3114, 'again': 146, 'bruce': 602, 'unhappy': 4656, 'bring': 585, 'happiness': 2031, 'bitter': 491, 'way': 4820, 'result': 3660, 'state': 4160, 'mind': 2849, 'ends': 1474, 'losing': 2658, 'god': 1926, 'wrong': 4973, 'comes': 891, 'powers': 3361, 'uses': 4697, 'always': 203, 'wanted': 4789, 'finally': 1724, 'exactly': 1551, 'exception': 1557, 'process': 3412, 'loses': 2657, 'person': 3238, 'truly': 4597, 'unfolds': 4651, 'learns': 2553, 'real': 3547, 'change': 749, 'occur': 3076, 'circumstances': 822, 'pay': 3216, 'attention': 345, 'forces': 1788, 'look': 2646, 'deeply': 1156, 'respect': 3652, 'we': 4823, 'wife': 4884, 'says': 3801, 'anybody': 257, 'takes': 4351, 'them': 4432, 'humble': 2191, 'addition': 118, 'lose': 2654, 'ourselves': 3140, 'matter': 2769, 'try': 4600, 'chances': 748, 'song': 4071, 'throughout': 4478, 'robert': 3713, 'jr': 2423, 'excellent': 1555, 'extra': 1606, 'large': 2517, 'eyes': 1613, 'wonderfully': 4929, 'facial': 1619, 'expressions': 1603, 'different': 1248, 'compare': 911, 'enjoy': 1484, 'am': 204, 'months': 2897, 'how': 2181, 'actually': 109, 'almost': 193, 'asleep': 320, 'remembered': 3617, 'paid': 3169, 'laugh': 2529, 'wouldnt': 4958, 'feel': 1684, 'bad': 382, 'destroy': 1213, 'mood': 2898, 'plus': 3311, 'open': 3112, 'expectations': 1576, 'now': 3054, 'wasnt': 4807, 'worst': 4952, 'ive': 2372, 'definitely': 1162, 'waiting': 4772, 'havent': 2053, 'slow': 4031, 'corny': 997, 'fans': 1650, 'id': 2212, 'say': 3799, 'maybe': 2776, 'check': 777, 'kings': 2481, 'told': 4513, 'see': 3855, 'meet': 2793, 'parents': 3188, 'instead': 2307, 'quite': 3495, 'surprise': 4312, 'cute': 1090, 'story': 4207, 'quest': 3486, 'surprising': 4315, 'type': 4621, 'cup': 1080, 'queen': 3485, 'visually': 4758, 'sight': 3969, 'only': 3110, 'actresses': 106, 'costumes': 1006, 'actors': 104, 'unnecessary': 4672, 'ridiculous': 3693, 'castle': 712, 'imitation': 2241, 'explicit': 1591, 'shots': 3950, 'expect': 1575, 'soft': 4051, 'core': 995, 'absolute': 71, 'classics': 837, 'slight': 4027, 'few': 1700, 'odd': 3080, 'minor': 2857, 'shortly': 3947, 'disbelief': 1277, '10': 0, 'including': 2264, 'credit': 1049, 'effect': 1428, 'ok': 3098, 'youre': 4992, 'issues': 2365, 'hate': 2046, 'significant': 3972, 'guys': 2001, 'bag': 384, 'laughs': 2534, 'sad': 3767, 'former': 1800, 'award': 366, 'winning': 4898, 'cut': 1089, 'rate': 3526, 'last': 2521, 'seconds': 3848, 'load': 2631, 'cheese': 780, 'picking': 3267, 'lately': 2524, 'letting': 2583, 'reading': 3544, 'reviews': 3679, 'rental': 3627, 'surface': 4310, 'wind': 4893, 'soap': 4047, 'opera': 3116, 'sexual': 3908, 'texas': 4418, 'oil': 3097, 'family': 1645, 'social': 4049, 'commentary': 899, '1950s': 14, 'scores': 3823, 'another': 250, 'falls': 1640, 'bacall': 377, 'problem': 3408, 'pal': 3177, 'rock': 3720, 'hudson': 2184, 'loves': 2674, 'finds': 1728, 'pregnant': 3369, 'fly': 1763, 'dorothy': 1330, 'won': 4925, 'oscar': 3133, 'biggest': 480, 'epic': 1506, 'magical': 2704, 'novel': 3052, 'generations': 1884, 'south': 4087, 'american': 213, 'due': 1382, 'magnificent': 2705, 'cast': 710, 'completely': 922, 'unable': 4631, 'latin': 2527, 'directorial': 1265, 'hand': 2015, 'uncomfortable': 4637, 'skin': 4015, 'returned': 3666, 'certain': 737, 'opinion': 3118, 'disappointment': 1275, 'thing': 4450, 'none': 3028, 'streep': 4215, 'jeremy': 2394, 'glenn': 1918, 'close': 853, 'free': 1827, 'trap': 4563, 'looked': 2647, 'perfectly': 3226, 'stiff': 4187, 'putting': 3482, 'forth': 1804, 'possible': 3350, 'expected': 1577, 'lovely': 2671, 'period': 3236, 'sets': 3899, 'yes': 4982, 'within': 4912, 'curious': 1083, 'occurs': 3078, 'earth': 1403, 'military': 2844, 'america': 212, 'fast': 1661, '1980s': 21, 'house': 2178, 'spirits': 4115, 'motion': 2913, 'event': 1535, 'club': 863, 'faithful': 1634, 'vague': 4705, 'idea': 2213, 'represented': 3638, 'market': 2740, 'neither': 2996, 'rape': 3521, 'liked': 2600, 'action': 100, 'interesting': 2325, 'tense': 4403, 'done': 1322, 'especially': 1520, 'semi': 3874, 'truck': 4595, 'seemed': 3862, 'filmed': 1717, 'ways': 4822, 'such': 4268, 'photography': 3260, 'unusual': 4681, 'colors': 879, 'angles': 237, 'parts': 3199, 'portrayed': 3342, 'give': 1912, 'notably': 3042, 'sally': 3776, 'anthony': 253, 'charming': 768, 'near': 2979, 'unwatchable': 4682, 'music': 2946, 'sounds': 4084, 'sort': 4077, 'online': 3109, 'site': 4005, 'lyrics': 2692, 'singing': 3995, 'key': 2458, 'put': 3480, 'stupid': 4247, 'trite': 4589, 'talking': 4360, 'estate': 1525, 'unfortunately': 4654, 'sub': 4252, 'plots': 3310, 'checking': 778, 'after': 143, 'twenty': 4612, 'minutes': 2859, '40': 48, 'wondering': 4930, 'women': 4923, 'break': 569, 'system': 4345, 'surprisingly': 4316, 'feminist': 1695, 'themes': 4434, 'touched': 4534, 'manner': 2729, 'clear': 839, 'talked': 4359, 'treats': 4575, 'short': 3946, 'criminal': 1057, 'assault': 324, 'no': 3020, 'doubt': 1332, 'happened': 2027, 'official': 3094, 'debut': 1143, 'plays': 3301, 'secretary': 3850, 'plant': 3293, 'lives': 2628, 'engaged': 1480, 'raise': 3507, '90': 60, 'week': 4837, 'leaving': 2557, 'working': 4944, 'late': 2523, 'herself': 2092, 'escape': 1517, 'buildings': 616, 'fails': 1628, 'returns': 3668, 'home': 2142, 'shock': 3938, 'police': 3322, 'claims': 830, 'outside': 3146, 'factory': 1623, 'pretend': 3381, 'nothing': 3047, 'apart': 264, 'thinking': 4453, 'everybody': 1540, 'staring': 4152, 'judging': 2425, 'goes': 1930, 'running': 3756, 'los': 2653, 'angeles': 233, 'bus': 631, 'strange': 4211, 'andrews': 229, 'young': 4989, 'california': 650, 'town': 4541, 'lies': 2591, 'identity': 2217, 'vaguely': 4706, 'keeping': 2450, 'dire': 1257, 'secrets': 3852, 'jerry': 2396, 'paris': 3189, 'steal': 4170, 'kiss': 2483, 'truth': 4599, 'past': 3207, 'explain': 1586, 'excuse': 1564, 'sentimental': 3882, 'ending': 1471, 'important': 2247, 'information': 2288, 'trust': 4598, 'narrative': 2966, 'speak': 4094, 'itself': 2371, 'pleasant': 3302, 'bland': 500, 'generic': 1885, 'werent': 4849, 'melodramatic': 2798, 'trail': 4553, 'later': 2525, 'crime': 1055, 'means': 2783, 'victims': 4730, 'cliche': 843, 'ridden': 3691, 'every': 1539, 'cringe': 1059, 'worthy': 4956, 'lead': 2545, 'danny': 1112, 'annoying': 249, 'dumb': 1385, 'naive': 2958, 'false': 1641, 'promises': 3432, 'campbell': 663, 'killer': 2470, 'urban': 4688, 'legend': 2564, 'redeeming': 3577, 'qualities': 3483, 'attempt': 340, 'dean': 1139, 'bed': 436, 'australia': 356, 'called': 652, 'smooth': 4041, 'avoid': 363, 'cat': 713, 'hat': 2045, 'face': 1616, 'mike': 2838, 'myers': 2952, 'downright': 1337, 'worse': 4951, 'terrible': 4407, 'beloved': 461, 'dr': 1340, 'couldnt': 1008, 'besides': 468, 'baby': 376, 'describe': 1194, 'badly': 383, 'bo': 521, 'fired': 1735, 'writer': 4968, 'low': 2676, 'budget': 610, 'succeeds': 4264, 'dialog': 1232, 'chase': 769, 'boring': 543, 'money': 2888, 'seems': 3864, 'series': 3890, 'explosions': 1597, 'five': 1743, 'briefly': 580, 'crap': 1031, 'chief': 788, 'villain': 4744, 'without': 4913, 'purpose': 3474, 'whole': 4873, 'reminiscent': 3621, 'occasionally': 3075, 'hed': 2072, 'bucks': 606, 'wow': 4962, 'chance': 747, 'read': 3543, 'famous': 1647, 'martial': 2747, 'man': 2721, 'train': 4556, 'forbidden': 1785, 'spring': 4134, 'dad': 1095, 'old': 3100, 'cold': 872, 'water': 4816, 'turn': 4605, 'titled': 4505, 'crazy': 1035, 'thats': 4425, 'beginning': 443, 'teenagers': 4391, 'exist': 1569, 'female': 1693, 'deal': 1135, 'arts': 310, 'teachers': 4376, 'hundreds': 2196, 'insane': 2296, 'styles': 4250, 'school': 3813, 'score': 3822, 'settle': 3902, 'somehow': 4063, 'ones': 3108, 'speaking': 4095, 'track': 4544, 'times': 4497, 'boy': 557, 'fallen': 1638, 'episodes': 1508, 'across': 96, 'bizarre': 492, 'world': 4946, 'believable': 453, 'easy': 1410, 'humor': 2192, 'laughed': 2532, 'loud': 2664, 'doesnt': 1309, 'stunts': 4246, 'catch': 714, 'comic': 893, 'laughing': 2533, 'strong': 4229, 'survive': 4321, 'half': 2007, 'personality': 3242, 'genius': 1887, 'hates': 2048, 'together': 4511, 'considered': 951, 'live': 2625, 'father': 1666, 'blend': 504, 'background': 380, 'correct': 1000, 'whenever': 4863, 'gives': 1914, 'reasons': 3560, 'anime': 243, 'met': 2822, 'probably': 3407, 'greatest': 1966, 'favorite': 1671, 'stand': 4143, 'likely': 2601, 'faults': 1669, 'curse': 1086, 'pig': 3274, 'fault': 1668, 'lack': 2502, 'sense': 3877, 'hours': 2177, 'computer': 927, 'explaining': 1588, 'positive': 3346, 'pointless': 3318, 'regret': 3591, 'advise': 134, 'trouble': 4592, 'price': 3389, 'small': 4033, 'partly': 3197, 'win': 4892, 'slaughter': 4021, 'enjoyable': 1485, 'slasher': 4020, 'flick': 1754, 'knew': 2486, 'uk': 4626, 'marty': 2749, 'simon': 3982, 'committed': 905, 'suicide': 4283, 'released': 3603, 'guess': 1989, 'notice': 3048, 'watching': 4815, 'americans': 214, 'arent': 288, 'hiding': 2099, 'english': 1483, 'accents': 79, 'tale': 4353, 'class': 833, 'butt': 638, 'jokes': 2415, 'particular': 3194, 'april': 284, 'girls': 1911, 'room': 3735, 'teenager': 4390, 'course': 1019, 'coach': 868, 'catches': 715, 'gang': 1867, 'given': 1913, 'couple': 1016, 'smoke': 4039, 'chemistry': 782, 'lab': 2501, 'sick': 3963, 'puts': 3481, 'fire': 1734, 'bottle': 550, 'acid': 95, 'burned': 626, 'horribly': 2164, 'headed': 2058, 'reunion': 3669, 'oddly': 3081, 'thanks': 4423, 'manage': 2722, 'seemingly': 3863, 'theres': 4440, 'laid': 2508, 'eat': 1411, 'drink': 1361, 'die': 1243, 'figure': 1711, 'mask': 2752, 'bin': 483, 'whoever': 4872, 'quick': 3490, 'particularly': 3195, 'bath': 411, 'blood': 512, 'whose': 4877, 'beer': 439, 'victim': 4729, 'believe': 454, 'originally': 3131, 'tape': 4365, 'version': 4720, 'watched': 4813, 'twist': 4617, 'contains': 964, 'footage': 1782, 'nudity': 3059, 'bits': 490, 'fan': 1648, '80s': 59, 'flicks': 1755, 'new': 3003, 'release': 3602, 'dvd': 1391, 'start': 4156, 'talks': 4361, 'language': 2516, 'heard': 2062, 'normally': 3034, 'usa': 4691, 'audiences': 353, 'planet': 3289, 'jaws': 2385, 'patrick': 3213, 'silly': 3976, 'elizabeth': 1445, 'style': 4249, 'co': 867, 'workers': 4943, 'clue': 864, 'african': 142, 'warm': 4794, 'performance': 3228, 'general': 1880, 'pity': 3281, 'received': 3564, 'required': 3641, 'slave': 4022, 'marriage': 2743, 'fantastic': 1651, 'ancient': 225, 'asian': 314, 'convincing': 985, 'roles': 3727, 'hope': 2155, 'gotten': 1947, 'method': 2824, 'al': 170, 'pacino': 3164, 'played': 3297, 'italian': 2367, 'died': 1244, 'expression': 1602, 'previous': 3387, 'stayed': 4167, 'changed': 750, 'emotion': 1458, 'twice': 4613, 'subtle': 4260, 'suppose': 4305, 'alive': 186, 'sci': 3815, 'fi': 1701, 'japan': 2381, 'noticed': 3049, 'disappointed': 1273, 'versus': 4722, 'directors': 1266, 'third': 4455, 'zombies': 4998, 'kinds': 2478, 'video': 4733, 'store': 4204, 'wall': 4781, 'hour': 2176, 'build': 614, 'personally': 3243, 'subtitles': 4259, 'using': 4698, 'term': 4405, 'foreign': 1790, 'object': 3066, 'replaced': 3634, 'greater': 1965, 'brutal': 603, 'needs': 2990, 'heart': 2064, 'need': 2987, 'kept': 2456, 'underground': 4640, 'cube': 1076, 'suffer': 4275, 'bonus': 534, 'intense': 2316, 'gothic': 1945, 'artistic': 308, 'flashbacks': 1747, 'dream': 1354, 'sequences': 3888, 'painfully': 3172, 'unfunny': 4655, 'sheriff': 3929, 'mel': 2796, 'brooks': 596, 'sitcom': 4004, 'serves': 3895, 'remind': 3618, 'viewer': 4738, 'joke': 2414, 'desperate': 1208, 'louis': 2665, 'embarrassment': 1455, 'funnier': 1850, 'funniest': 1851, 'black': 493, 'horse': 2170, 'friend': 1835, 'gave': 1875, '12': 3, 'horror': 2168, 'gift': 1906, 'common': 906, 'alien': 183, 'ironically': 2356, 'choice': 797, 'bunch': 623, 'things': 4451, 'count': 1010, 'em': 1452, 'familiar': 1643, 'williams': 4888, 'tracy': 4546, 'jeff': 2390, 'wars': 4804, 'turkey': 4604, 'max': 2774, 'veteran': 4724, 'tv': 4610, 'discover': 1279, 'decided': 1149, 'add': 115, 'ugly': 4625, 'mad': 2696, 'killing': 2472, 'cameo': 657, 'highlight': 2103, 'downhill': 1336, 'mission': 2870, 'sent': 3880, 'busy': 635, 'ranks': 3519, 'element': 1442, 'dirty': 1268, 'dozen': 1338, 'unconvincing': 4638, 'shown': 3959, 'cell': 730, 'murderer': 2941, 'run': 3755, 'gun': 1996, 'shop': 3945, 'lame': 2510, 'prison': 3401, 'ask': 316, 'effects': 1431, 'horrible': 2163, 'model': 2880, 'afternoon': 144, 'bored': 541, 'whilst': 4869, 'area': 286, 'ship': 3934, 'reality': 3551, 'male': 2719, 'use': 4692, 'introduction': 2339, 'menace': 2806, 'begins': 444, 'appear': 273, 'drag': 1342, 'presence': 3373, 'fight': 1707, 'against': 147, 'rubbish': 3748, 'hints': 2113, 'sequel': 3885, 'appearance': 274, 'ill': 2228, 'apparently': 270, 'provided': 3449, 'opportunity': 3121, 'worry': 4950, 'body': 527, 'numbers': 3061, 'barely': 399, 'stay': 4166, 'awake': 365, 'let': 2579, 'alone': 194, 'mentioned': 2811, 'gets': 1900, 'trip': 4588, 'allowed': 190, 'members': 2801, 'atrocious': 335, 'honest': 2146, 'offers': 3090, 'named': 2961, 'holly': 2136, 'uninspired': 4657, 'initial': 2290, 'viewing': 4740, 'straight': 4210, 'jobs': 2406, '90s': 61, 'avoided': 364, 'stinker': 4191, 'least': 2554, 'forward': 1808, 'hard': 2033, 'anything': 260, 'beauty': 430, 'grace': 1950, 'predictable': 3367, 'richard': 3686, 'suspense': 4330, 'husband': 2204, 'richards': 3687, 'ex': 1549, 'death': 1141, 'possibly': 3351, 'able': 66, 'standing': 4146, 'fitting': 1742, 'future': 1856, 'projects': 3428, 'obviously': 3072, 'stage': 4139, 'worthwhile': 4955, 'ralph': 3510, 'richardson': 3688, 'olivier': 3103, 'leonard': 2572, 'delightful': 1168, 'romance': 3732, 'superb': 4296, 'confused': 941, 'else': 1448, 'imagine': 2238, 'delivery': 1173, 'line': 2610, 'regarding': 3589, 'sometimes': 4067, 'heavy': 2070, 'carried': 698, 'dull': 1384, 'wooden': 4934, 'dated': 1119, 'storyline': 4208, 'thief': 4448, 'becomes': 434, 'hardly': 2036, 'resist': 3648, 'kind': 2476, 'hollow': 2135, 'historical': 2119, 'treatment': 4574, 'forever': 1792, 'screams': 3828, 'remake': 3612, 'defense': 1159, 'depth': 1190, 'efforts': 1433, 'lacking': 2504, 'touches': 4535, 'feet': 1688, 'wet': 4855, 'number': 3060, 'struck': 4232, 'obsession': 3070, 'us': 4690, 'heaven': 2068, 'allows': 192, 'relatively': 3600, 'affair': 135, 'cheesy': 781, 'shirley': 3936, 'surprised': 4313, 'parent': 3187, 'fox': 1814, 'producer': 3415, 'formula': 1802, 'songs': 4072, 'hearts': 2066, 'play': 3296, 'endings': 1472, 'thus': 4486, 'category': 718, 'vehicle': 4718, 'standard': 4144, 'awkward': 374, 'position': 3345, 'impressive': 2253, 'talented': 4355, 'gary': 1873, 'cooper': 990, 'loving': 2675, 'con': 928, 'artists': 309, 'devoted': 1231, 'suddenly': 4273, 'temple': 4398, 'prove': 3445, 'provide': 3448, 'device': 1227, 'felix': 1689, 'revealed': 3671, 'helping': 2081, 'follow': 1772, 'miss': 2866, 'sunshine': 4294, 'dancing': 1107, 'living': 2629, 'memorable': 2802, 'color': 877, 'bright': 581, 'unrealistic': 4677, 'red': 3576, 'blonde': 511, 'today': 4508, 'solely': 4056, 'underrated': 4642, 'admit': 122, 'crush': 1072, 'heights': 2073, 'deserved': 1200, 'whether': 4866, 'stopped': 4202, 'helped': 2080, 'children': 792, 'said': 3774, 'adults': 126, 'portrayal': 3341, 'caught': 722, 'situation': 4008, 'nazi': 2977, 'presumably': 3380, 'lucas': 2680, 'german': 1896, 'anti': 254, 'repeated': 3631, 'wwii': 4975, 'considerable': 950, 'germans': 1897, 'similar': 3978, 'japanese': 2382, 'signed': 3971, 'soviet': 4089, 'air': 164, 'cities': 823, 'having': 2054, 'innocent': 2294, 'words': 4938, 'west': 4852, 'germany': 1898, 'army': 295, 'nazis': 2978, 'fathers': 1667, 'secret': 3849, 'drawing': 1350, 'along': 195, 'multiple': 2936, 'levels': 2585, 'obvious': 3071, 'homage': 2141, 'medical': 2790, 'kidnapped': 2466, 'sister': 4001, 'tough': 4537, 'captain': 674, 'single': 3996, 'source': 4086, 'lighting': 2596, 'noir': 3023, 'sin': 3988, 'city': 825, 'inevitable': 2282, 'miller': 2846, 'invisible': 2344, 'suits': 4287, 'ruthless': 3764, 'super': 4295, 'landscape': 2513, 'guns': 1998, 'cars': 702, 'doom': 1326, 'types': 4622, 'fear': 1676, 'science': 3816, 'less': 2575, 'taken': 4350, 'darker': 1116, 'individual': 2277, 'beneath': 464, 'image': 2233, 'capture': 676, 'somewhere': 4069, 'books': 536, 'generation': 1883, 'captivating': 675, 'nevertheless': 3002, 'visual': 4757, 'display': 1291, 'tiny': 4500, 'details': 1219, 'giving': 1915, 'unique': 4662, 'screening': 3830, 'glad': 1916, 'par': 3184, 'crowd': 1067, 'mix': 2876, 'kids': 2467, 'stick': 4185, 'juvenile': 2441, 'mostly': 2910, 'thrown': 4481, 'fill': 1714, 'empty': 1465, 'space': 4090, 'relationships': 3598, 'charm': 767, 'average': 362, 'stands': 4147, 'decent': 1147, 'wallace': 4782, 'forgettable': 1794, 'imagery': 2234, 'failure': 1629, 'care': 684, 'mindless': 2851, 'cheap': 774, 'shouldnt': 3952, 'waste': 4808, 'mainly': 2708, 'worlds': 4947, 'walking': 4779, 'deaths': 1142, 'oh': 3096, 'please': 3304, 'kill': 2468, 'child': 789, 'recommend': 3571, 'ho': 2127, 'awesome': 371, 'soundtrack': 4085, 'violence': 4747, 'machines': 2694, 'london': 2641, 'remarkable': 3613, 'virus': 4752, 'loose': 2650, 'human': 2188, 'race': 3499, 'survived': 4322, 'animals': 240, 'rule': 3753, 'everywhere': 1545, 'twelve': 4611, 'monkeys': 2891, 'hide': 2097, 'killed': 2469, 'contract': 973, 'disease': 1285, 'scientist': 3818, 'caused': 724, 'created': 1037, 'nature': 2975, 'mere': 2814, 'around': 297, '1996': 26, 'james': 2378, 'cole': 873, 'willis': 4890, 'asked': 317, 'begin': 442, 'machine': 2693, '1990': 24, 'middle': 2833, 'traveling': 4568, 'starts': 4159, 'mess': 2818, 'head': 2057, 'higher': 2101, 'grade': 1951, 'expecting': 1578, 'happen': 2026, 'acts': 107, 'brad': 560, 'pitt': 3280, '100': 1, 'cared': 685, 'till': 4493, 'overall': 3150, 'fiction': 1702, 'sucked': 4270, 'editing': 1421, 'inept': 2281, 'wish': 4904, 'spent': 4108, 'leads': 2548, 'stereotypes': 4179, 'local': 2634, 'noted': 3045, 'del': 1165, 'drive': 1363, 'idiot': 2218, 'themselves': 4435, 'spiritual': 4116, 'mainstream': 2709, 'beliefs': 452, 'ie': 2221, 'church': 813, 'ball': 388, 'etc': 1527, 'entertained': 1498, 'private': 3404, 'decide': 1148, 'swim': 4337, 'charismatic': 763, 'casting': 711, 'directs': 1267, 'knowing': 2490, 'rise': 3702, 'climax': 849, 'humour': 2194, 'twists': 4619, 'thrills': 4475, 'return': 3665, 'vampire': 4711, 'loads': 2633, 'gore': 1941, 'speed': 4103, 'terrific': 4409, 'seriously': 3892, 'tongue': 4518, 'cheek': 779, 'tony': 4521, 'scott': 3824, 'trashy': 4566, 'suffers': 4278, 'comparison': 914, 'brother': 598, 'denzel': 1181, 'training': 4558, 'revelation': 3674, 'develop': 1222, 'relationship': 3597, 'warmth': 4796, 'involving': 2349, 'journey': 2421, 'mitchell': 2875, 'mother': 2911, 'edge': 1418, 'cop': 991, 'washington': 4806, 'wonder': 4926, 'daniel': 1111, 'lewis': 2586, 'power': 3359, 'huge': 2185, 'status': 4165, 'strength': 4219, 'strictly': 4223, 'contain': 962, 'share': 3920, 'material': 2766, 'problems': 3409, 'racial': 3501, 'wont': 4932, 'sarah': 3785, 'situations': 4009, 'achieve': 92, 'realistic': 3550, 'walk': 4775, 'witty': 4917, 'program': 3424, 'wood': 4933, 'horrific': 2166, 'suggests': 4282, 'channels': 754, 'promise': 3430, 'mst3k': 2932, 'clark': 832, 'wannabe': 4787, 'doctor': 1304, 'peter': 3247, 'gene': 1879, 'experiment': 1583, 'defined': 1160, 'creature': 1045, 'bears': 421, 'passing': 3204, 'resemblance': 3645, 'fx': 1858, 'fairly': 1631, 'suspect': 4327, 'shadow': 3912, 'guts': 1999, 'spite': 4117, 'hopes': 2159, 'otherwise': 3137, 'agree': 155, 'closing': 859, 'festival': 1697, 'beautifully': 429, 'paced': 3162, 'nail': 2957, 'gritty': 1977, 'captures': 678, 'newly': 3004, 'states': 4163, 'note': 3044, 'grim': 1974, '2003': 33, 'spoil': 4121, 'logical': 2639, 'surprises': 4314, 'script': 3834, 'directing': 1260, 'performances': 3229, 'notch': 3043, 'darkness': 1117, 'simply': 3986, 'genre': 1888, 'miles': 2843, 'ahead': 159, '11': 2, 'deliberately': 1166, 'buy': 640, 'held': 2074, 'regard': 3588, 'critics': 1064, 'word': 4937, 'describes': 1196, 'irritating': 2359, 'easily': 1406, 'explained': 1587, 'abuse': 74, 'tune': 4602, 'seven': 3903, 'usually': 4700, 'youd': 4987, 'thoroughly': 4459, 'claim': 828, 'theyve': 4446, '35': 45, 'needless': 2989, 'merit': 2816, 'aint': 163, 'aspect': 321, 'wore': 4939, 'quickly': 3491, 'reputation': 3640, 'convince': 983, 'warn': 4797, 'youve': 4995, 'compelled': 915, 'costs': 1004, 'seeing': 3857, 'essential': 1522, 'survival': 4320, 'warned': 4798, 'junk': 2436, '20': 29, 'remotely': 3623, 'dude': 1381, 'suit': 4284, 'prom': 3429, 'photos': 3261, 'community': 908, 'documentary': 1307, 'propaganda': 3435, 'politics': 3326, 'guilty': 1995, 'criminals': 1058, 'tried': 4584, 'attacked': 338, 'independent': 2272, 'nations': 2971, 'recognized': 3570, 'government': 1948, 'become': 433, 'order': 3126, 'protect': 3443, 'interested': 2324, 'led': 2558, 'nation': 2969, 'discovery': 1282, 'channel': 753, 'bbc': 417, 'excited': 1561, 'view': 4736, 'berlin': 467, 'competition': 918, 'presentation': 3375, 'total': 4531, 'spanish': 4092, 'civil': 826, 'revenge': 3675, 'behavior': 446, 'relations': 3596, 'spain': 4091, 'mr': 2929, 'pseudo': 3454, 'tragedy': 4551, 'belongs': 460, 'history': 2121, 'angela': 232, 'rented': 3628, '1st': 28, 'scary': 3807, 'except': 1556, 'trash': 4565, 'evening': 1534, 'outer': 3143, 'sit': 4003, 'flop': 1760, 'hong': 2149, 'kong': 2494, 'moment': 2886, 'special': 4097, 'sings': 3997, 'fights': 1710, 'stress': 4220, 'extraordinary': 1607, 'definite': 1161, 'lover': 2672, 'starring': 4154, 'kid': 2464, 'dog': 1310, 'ass': 323, 'mistakes': 2873, 'damn': 1100, 'crocodile': 1065, 'heres': 2087, 'box': 555, 'enormous': 1490, 'memory': 2804, 'shy': 3962, 'tall': 4362, 'combat': 882, 'lets': 2580, 'jerk': 2395, 'chick': 786, 'heroes': 2089, 'planning': 3291, 'elaborate': 1439, 'fail': 1625, 'ordinary': 3128, 'beyond': 476, 'random': 3514, 'cgi': 740, 'monsters': 2893, 'bullets': 621, 'causing': 726, 'pop': 3330, 'clean': 838, 'noise': 3024, 'shooting': 3943, 'yourself': 4993, 'hang': 2022, 'kicking': 2462, 'wasting': 4810, 'our': 3139, 'dies': 1245, 'okay': 3099, 'nightmare': 3014, 'anyway': 261, 'hated': 2047, 'basically': 407, 'gone': 1935, 'elm': 1447, 'street': 4216, 'six': 4010, 'points': 3319, 'confusing': 942, 'fifteen': 1706, 'relate': 3593, 'feelings': 1686, 'normal': 3033, 'forgot': 1796, 'moved': 2922, 'brave': 567, 'turned': 4606, 'recently': 3567, 'yesterday': 4983, 'dolls': 1316, 'forgotten': 1797, 'musicals': 2948, 'entertain': 1497, 'nowadays': 3055, 'chicago': 785, 'solid': 4057, 'entertainment': 1500, 'attached': 336, 'bothered': 549, 'brando': 566, 'sing': 3992, 'listen': 2619, 'talk': 4358, 'understand': 4643, 'provides': 3450, 'fashioned': 1660, 'cult': 1077, 'deserve': 1199, 'incredibly': 2270, 'idiotic': 2219, 'cowboy': 1025, 'battle': 414, 'michael': 2829, 'brothers': 599, 'acted': 98, 'date': 1118, 'major': 2711, 'operation': 3117, 'similarities': 3979, 'starred': 4153, 'cary': 706, 'tone': 4517, 'writing': 4971, 'energy': 1478, 'broad': 590, 'compared': 912, 'blame': 499, 'combination': 883, 'talents': 4356, 'limited': 2606, 'ability': 65, '3rd': 47, 'generally': 1881, 'sir': 4000, 'lawrence': 2539, 'trek': 4578, 'kirk': 2482, 'manages': 2725, 'nearly': 2981, 'locked': 2637, 'enjoys': 1489, 'decides': 1150, 'royal': 3746, 'doc': 1303, 'literally': 2622, 'sadness': 3770, 'cruel': 1070, 'touching': 4536, 'leave': 2555, 'neighborhood': 2993, 'bang': 393, 'buck': 605, 'witch': 4909, 'desperation': 1210, 'settings': 3901, 'minute': 2858, 'lousy': 2667, 'intentions': 2321, 'produce': 3413, 'whatever': 4859, 'disaster': 1276, 'attack': 337, 'tomatoes': 4515, 'plan': 3287, 'hands': 2020, 'fate': 1665, 'decade': 1144, 'decision': 1151, 'porno': 3337, 'sound': 4081, 'utterly': 4702, 'incomprehensible': 2267, 'everyones': 1543, 'rotten': 3740, 'tea': 4373, 'non': 3027, 'terms': 4406, 'david': 1124, 'laughable': 2530, 'pathetic': 3210, 'abysmal': 76, 'justice': 2438, 'flaws': 1752, 'wreck': 4965, 'despite': 1211, 'negative': 2991, 'comments': 901, 'experience': 1580, 'purchase': 3469, 'consider': 949, 'scared': 3805, 'dead': 1132, 'theyd': 4443, 'hell': 2077, 'deaf': 1134, 'corrupt': 1001, 'adam': 111, 'eve': 1532, 'atlantis': 332, 'empire': 1464, 'became': 431, 'liking': 2604, 'believes': 456, 'grandfather': 1954, 'friendship': 1838, 'voice': 4761, 'likable': 2598, 'animation': 242, 'ages': 152, 'sat': 3786, 'honestly': 2147, 'tell': 4395, 'horrendous': 2162, '30': 42, 'anyone': 259, 'unless': 4669, 'lasted': 2522, 'willing': 4889, 'uninteresting': 4660, 'hearted': 2065, 'blown': 516, 'office': 3091, 'impressed': 2251, 'supporting': 4304, 'dave': 1123, 'buying': 641, 'gem': 1877, 'welcome': 4842, 'petty': 3249, 'meets': 2795, 'rich': 3685, 'scheme': 3812, 'building': 615, 'millions': 2848, 'simple': 3983, 'throw': 4479, 'wacky': 4769, 'ingredients': 2289, 'wild': 4885, 'ride': 3692, 'passes': 3203, 'loser': 2655, 'team': 4378, 'cash': 709, 'failed': 1626, 'superbly': 4297, 'macy': 2695, 'madonna': 2699, 'inspired': 2301, 'spots': 4132, 'produced': 3414, 'steven': 4182, 'safe': 3771, 'exposure': 1599, 'reaction': 3541, 'entire': 1502, 'value': 4709, 'month': 2896, 'eyed': 1612, 'married': 2744, 'females': 1694, 'impact': 2244, 'adequate': 120, 'whats': 4860, 'businessman': 634, 'performers': 3232, 'unknown': 4668, 'values': 4710, 'impression': 2252, 'wants': 4791, 'rating': 3529, 'factor': 1622, 'typical': 4623, 'pull': 3461, 'million': 2847, 'cynical': 1093, 'scream': 3826, 'rules': 3754, '60s': 54, 'gotta': 1946, 'don': 1320, 'sneak': 4043, 'theatre': 4429, 'halfway': 2008, 'credits': 1050, 'enterprise': 1495, 'filmmakers': 1720, 'dvds': 1392, 'broken': 594, 'disc': 1278, 'achievement': 94, 'extras': 1608, 'flaw': 1749, 'transfer': 4559, 'technical': 4381, 'indeed': 2271, 'approach': 282, 'guarantee': 1987, 'offered': 3088, 'involvement': 2347, 'inferior': 2285, 'offer': 3087, 'equally': 1510, 'youll': 4988, 'numerous': 3062, 'various': 4715, 'lengthy': 2570, 'discuss': 1283, 'stunt': 4245, 'pieces': 3273, 'pre': 3365, 'post': 3352, 'access': 83, 'feature': 1678, 'discussion': 1284, 'tracks': 4545, 'extremely': 1610, 'covered': 1023, 'elsewhere': 1449, 'drawn': 1351, 'historically': 2120, 'patient': 3211, 'list': 2617, 'anywhere': 263, 'shallow': 3917, 'bother': 548, 'paying': 3217, 'copy': 994, 'actual': 108, 'cable': 644, 'bomb': 531, 'learn': 2550, 'deadly': 1133, 'mouth': 2920, 'terribly': 4408, 'showed': 3956, 'desperately': 1209, 'seeking': 3859, 'susan': 4326, 'alas': 172, 'meant': 2784, 'convinced': 984, 'frame': 1815, 'unbearable': 4633, 'accent': 78, 'bette': 471, 'displayed': 1292, 'saving': 3797, 'wonders': 4931, 'involved': 2346, 'escapes': 1519, 'river': 3707, 'immensely': 2243, 'attractive': 351, 'altogether': 202, 'nomination': 3026, 'centered': 733, 'relative': 3599, 'deserves': 1201, 'someone': 4064, 'feeling': 1685, 'cinematic': 818, 'hole': 2132, 'project': 3427, 'ultimately': 4628, 'classes': 834, 'involves': 2348, 'ice': 2210, 'princess': 3397, 'routine': 3743, 'lovers': 2673, 'orson': 3132, 'welles': 4844, 'lady': 2507, 'screenplay': 3831, 'citizen': 824, 'kane': 2442, 'eg': 1434, 'charles': 764, 'cinematography': 820, 'unforgettable': 4652, 'featuring': 1681, 'hall': 2009, 'gorgeous': 1942, 'murder': 2939, 'mystery': 2956, 'compelling': 916, 'code': 869, 'jean': 2389, 'kelly': 2452, 'chasing': 772, 'sidekick': 3966, 'staying': 4168, 'stone': 4197, 'hotel': 2175, 'judge': 2424, 'hardy': 2037, 'andy': 230, 'accept': 80, 'expensive': 1579, 'weve': 4856, 'yeah': 4977, 'rescue': 3643, 'ladies': 2506, 'rolling': 3730, 'saying': 3800, 'carol': 693, 'listed': 2618, 'imdb': 2240, 'wizard': 4919, 'oz': 3160, 'silver': 3977, 'winner': 4897, 'mistaken': 2872, 'beach': 419, 'ii': 2226, 'surreal': 4317, 'narration': 2965, 'christopher': 811, 'lee': 2559, 'moving': 2928, 'field': 1704, 'drunk': 1375, 'upon': 4684, 'beast': 422, 'golden': 1934, 'sorry': 4076, 'angels': 234, 'events': 1536, 'karen': 2444, 'funeral': 1849, 'ben': 463, 'brown': 601, 'spoken': 4126, 'werewolf': 4850, 'nonsense': 3030, 'jenny': 2393, 'annie': 247, 'visits': 4756, 'mentions': 2813, 'hunt': 2198, 'vicious': 4728, 'dangerous': 1110, 'figures': 1713, 'travels': 4569, 'sisters': 4002, 'lots': 2662, 'travel': 4567, 'priest': 3392, 'loyal': 2679, 'hunters': 2200, 'hey': 2095, 'call': 651, 'knows': 2493, 'arrival': 299, 'plans': 3292, 'poorly': 3329, 'edited': 1420, 'jump': 2429, 'introduces': 2338, 'luckily': 2682, 'rocket': 3721, 'unlike': 4670, 'happening': 2028, 'keep': 2449, 'locations': 2636, 'mid': 2832, 'modern': 2882, 'wears': 4832, 'outfit': 3144, 'fair': 1630, 'wear': 4830, 'clothing': 861, 'range': 3516, 'ripped': 3701, 'loaded': 2632, 'attacks': 339, 'mention': 2810, 'ended': 1470, 'turning': 4608, 'round': 3742, 'accepted': 82, 'impossible': 2249, 'dress': 1357, 'breasts': 572, 'cliff': 847, 'england': 1482, 'apartment': 265, 'husbands': 2205, 'lawyer': 2541, 'recall': 3562, 'phone': 3255, 'spot': 4131, 'spoilers': 4124, 'gripping': 1976, 'costume': 1005, 'heroine': 2091, 'noble': 3021, 'totally': 4532, 'difficult': 1249, 'ready': 3546, 'defend': 1158, 're': 3535, 'per': 3223, 'todays': 4509, 'hero': 2088, 'self': 3869, 'consistently': 954, 'helen': 2075, 'allow': 189, 'titles': 4506, 'wed': 4835, 'makers': 2715, 'perfect': 3224, 'depressing': 1188, 'virtually': 4751, 'york': 4985, 'houses': 2180, 'humanity': 2189, 'rival': 3706, 'breaks': 571, 'experiments': 1584, 'defeat': 1157, 'band': 391, 'moon': 2900, 'collection': 874, 'jeffrey': 2391, 'mine': 2853, 'brian': 576, 'animated': 241, 'dinosaur': 1255, 'rip': 3700, 'comics': 895, 'blue': 518, 'holes': 2133, 'hammer': 2014, 'fits': 1741, 'crack': 1027, 'nuts': 3064, '1990s': 25, 'necessary': 2984, 'passed': 3202, 'widely': 4881, 'mafia': 2700, 'following': 1774, 'unpredictable': 4675, 'shocking': 3940, 'study': 4242, 'psychological': 3458, 'dealing': 1136, 'intellectual': 2312, 'dreams': 1355, 'chases': 771, 'closest': 857, 'perfection': 3225, 'road': 3709, 'blowing': 515, 'realism': 3549, 'decisions': 1152, 'occasion': 3073, 'adds': 119, 'staff': 4138, 'matthew': 2772, 'winter': 4900, 'creators': 1044, 'universe': 4666, 'culture': 1079, 'whom': 4875, 'edie': 1419, 'matches': 2764, 'mixed': 2877, 'lifestyle': 2593, 'murders': 2943, 'cheating': 776, 'thoughts': 4464, 'emotions': 1461, 'seasons': 3844, 'viewers': 4739, 'television': 4394, 'wide': 4880, 'nancy': 2964, 'steals': 4172, 'insight': 2298, 'panic': 3181, 'gruesome': 1986, 'choices': 798, 'painful': 3171, 'brilliantly': 584, 'executed': 1565, 'de': 1131, 'girlfriend': 1910, 'meaning': 2780, 'dark': 1115, 'paulie': 3215, 'introduced': 2337, 'stereotype': 4178, 'eventually': 1537, 'sympathetic': 4342, 'complex': 923, 'anger': 235, 'faces': 1618, 'jon': 2416, 'sinatra': 3989, 'hal': 2006, 'burt': 629, 'eric': 1514, 'appearances': 275, 'names': 2963, 'notable': 3041, 'van': 4713, 'regular': 3592, '50': 51, 'powerful': 3360, 'excitement': 1562, 'tension': 4404, 'subplots': 4256, 'comedic': 888, 'intensity': 2317, 'episode': 1507, 'favourite': 1673, 'disagree': 1269, 'irrelevant': 2358, 'kung': 2498, 'fu': 1844, 'slowly': 4032, 'mediocre': 2791, 'longer': 2645, 'row': 3744, 'horrifying': 2167, 'images': 2235, 'cats': 721, 'riding': 3695, 'drinking': 1362, 'elephant': 1444, 'bird': 484, 'sky': 4017, 'flow': 1762, 'demands': 1175, 'furthermore': 1854, 'spare': 4093, 'priceless': 3390, 'quotes': 3497, 'lines': 2612, 'asking': 318, 'moody': 2899, 'minimum': 2856, 'follows': 1775, 'guide': 1993, 'saturday': 3792, 'morning': 2906, 'lived': 2626, 'north': 3036, 'wouldve': 4959, 'couldve': 1009, 'missing': 2869, 'built': 618, 'broadcast': 591, 'canadian': 667, 'argue': 290, 'appeared': 276, 'fell': 1690, 'timothy': 4499, 'wells': 4845, 'appreciated': 280, 'fare': 1655, 'spielberg': 4110, 'tom': 4514, 'cruise': 1071, 'slightest': 4028, 'amateur': 206, 'overlook': 3153, 'tim': 4494, 'roy': 3745, 'match': 2762, 'gas': 1874, 'station': 4164, 'appropriate': 283, 'arrive': 300, '1970s': 17, 'swedish': 4335, 'chinese': 796, 'clothes': 860, 'involve': 2345, 'johnny': 2410, 'amount': 219, 'hardcore': 2034, 'thin': 4449, 'obsessed': 3069, 'colour': 880, 'aged': 149, 'intriguing': 2335, 'upper': 4685, 'public': 3460, 'cannibal': 669, 'lay': 2542, 'childish': 791, 'piano': 3264, 'falling': 1639, 'notion': 3050, 'birds': 485, 'striking': 4226, 'kingdom': 2480, 'trade': 4547, 'skill': 4013, 'guest': 1992, '70s': 56, 'africa': 141, 'suffered': 4276, 'racist': 3503, 'population': 3335, 'murdered': 2940, 'jail': 2376, 'reporter': 3636, 'donald': 1321, 'woods': 4935, 'message': 2819, 'freedom': 1828, 'kevin': 2457, 'arrested': 298, 'attempts': 343, 'spread': 4133, 'threat': 4467, 'movement': 2923, 'complaint': 920, 'primary': 3394, 'center': 732, 'protagonist': 3441, 'beating': 425, 'scenario': 3808, 'physical': 3262, 'ring': 3698, 'evidence': 1546, 'occurred': 3077, 'attracted': 349, 'ned': 2986, 'francis': 1818, 'rush': 3759, 'familys': 1646, 'joseph': 2419, 'julia': 2427, 'cook': 988, 'dan': 1102, 'philip': 3252, 'kate': 2446, 'emily': 1456, 'rachel': 3500, 'catching': 716, 'available': 361, 'builds': 617, 'miserably': 2864, 'hold': 2129, 'appeal': 271, 'roll': 3728, 'fay': 1674, 'henry': 2084, 'fool': 1779, 'arrived': 301, 'assume': 328, 'parker': 3191, 'thomas': 4458, 'jay': 2386, 'ryan': 3765, 'bringing': 586, 'toy': 4542, 'holds': 2131, 'explains': 1589, 'deeper': 1155, 'accomplished': 87, 'reach': 3536, 'possibility': 3349, 'thank': 4421, 'medium': 2792, 'porn': 3336, 'western': 4853, 'writers': 4969, 'producers': 3416, 'quit': 3494, 'complain': 919, 'roger': 3724, 'respected': 3653, 'spectacular': 4101, 'chorus': 803, 'broadway': 592, 'wasted': 4809, 'realize': 3552, 'dancers': 1105, 'showcase': 3954, 'poignant': 3315, 'becoming': 435, 'watches': 4814, 'pacing': 3163, 'closer': 856, 'vincent': 4746, 'ships': 3935, 'accurate': 90, 'engaging': 1481, 'scripts': 3836, 'twin': 4615, 'friday': 1834, 'carrie': 697, 'fisher': 1739, 'thugs': 4484, 'seek': 3858, 'killers': 2471, 'wanna': 4786, 'grew': 1972, 'scooby': 3820, 'doo': 1325, 'danger': 1109, 'drug': 1373, 'flat': 1748, 'punk': 3468, 'theme': 4433, 'gonna': 1936, 'insult': 2309, 'took': 4523, 'tragic': 4552, 'mistake': 2871, 'rangers': 3517, 'voices': 4763, 'designs': 1204, 'hanging': 2023, 'bodies': 526, 'rid': 3690, 'cartoon': 704, 'pure': 3471, 'camp': 662, 'offended': 3085, 'outstanding': 3147, 'mundane': 2938, 'likes': 2602, 'careers': 687, 'wait': 4770, 'waters': 4817, 'genuinely': 1892, 'older': 3101, 'pink': 3277, 'reminds': 3620, 'evident': 1547, 'grown': 1984, 'teenage': 4389, 'robot': 3717, 'capital': 673, 'letters': 2582, 'wealthy': 4827, 'weird': 4841, 'attempting': 342, 'join': 2412, 'root': 3737, 'bone': 533, 'catchy': 717, 'wayne': 4821, 'franchise': 1817, 'brings': 587, 'fresh': 1833, 'quirky': 3493, 'personalities': 3241, 'lucky': 2683, 'jim': 2402, 'popular': 3333, 'lifetime': 2594, 'drivel': 1364, 'supposedly': 4307, 'passion': 3205, 'dance': 1103, 'revealing': 3672, 'task': 4368, 'game': 1864, 'era': 1513, 'reynolds': 3684, 'growing': 1983, 'anymore': 258, 'dig': 1250, 'dolph': 1317, 'miserable': 2863, 'plain': 3286, 'mars': 2746, 'explored': 1595, 'condition': 937, 'lake': 2509, '1960s': 15, 'limits': 2607, 'pitch': 3279, 'dawn': 1127, 'inside': 2297, 'happens': 2029, 'pleasure': 3306, 'resident': 3647, 'superior': 4300, 'skills': 4014, 'marry': 2745, 'international': 2326, 'green': 1971, 'doors': 1329, 'mistress': 2874, 'buddies': 608, 'creative': 1041, 'specifically': 4100, 'neighbor': 2992, 'service': 3896, 'spirited': 4114, 'creepy': 1052, 'violent': 4748, 'plague': 3285, 'imagination': 2236, 'burn': 625, 'slightly': 4029, 'exaggerated': 1552, 'versions': 4721, 'wearing': 4831, 'detailed': 1218, 'composed': 926, 'backgrounds': 381, 'dubbed': 1379, 'der': 1191, 'anna': 245, 'fully': 1847, 'realized': 3553, 'dimensional': 1253, 'stock': 4193, 'recommended': 3572, '60': 53, 'student': 4238, 'telling': 4396, 'disappointing': 1274, 'stranger': 4213, 'provoking': 3452, 'suspend': 4329, 'logic': 2638, 'hear': 2061, 'emma': 1457, 'calling': 653, 'sacrifice': 3766, 'brief': 579, 'hoffman': 2128, 'maggie': 2702, 'bumbling': 622, 'soul': 4079, 'mighty': 2836, 'faith': 1633, 'ah': 158, 'tribute': 4581, 'literature': 2623, 'endearing': 1469, 'profound': 3423, 'weeks': 4839, 'rolled': 3729, 'integrity': 2311, 'angry': 238, 'tears': 4380, 'questions': 3489, 'contact': 961, 'feels': 1687, 'admire': 121, 'translation': 4562, '45': 50, 'sports': 4130, 'picked': 3266, 'cousin': 1021, 'gangster': 1868, 'dragged': 1343, 'georges': 1894, 'cops': 993, 'brought': 600, 'relief': 3605, 'reminded': 3619, 'rocks': 3722, 'magazine': 2701, 'photographer': 3259, 'nyc': 3065, 'batman': 413, 'robin': 3715, 'drugs': 1374, 'buddy': 609, 'repetitive': 3633, 'officer': 3092, 'safety': 3772, 'department': 1182, 'receive': 3563, 'legal': 2563, 'corruption': 1002, 'streets': 4217, 'ron': 3734, 'aspects': 322, 'frustration': 1843, 'controversial': 978, 'subjects': 4254, 'officers': 3093, 'protagonists': 3442, 'balance': 387, 'shelf': 3926, 'jimmy': 2403, 'stewart': 4184, 'kim': 2475, 'alfred': 181, 'haunting': 2051, 'hitchcock': 2123, 'companion': 909, 'un': 4630, 'transformation': 4560, 'essentially': 1523, 'bell': 458, 'attraction': 350, 'lemmon': 2567, 'aunt': 355, 'alcoholic': 177, 'union': 4661, 'bound': 553, 'infamous': 2284, 'communist': 907, 'ran': 3513, 'repeat': 3630, 'wilson': 4891, 'butler': 637, 'roberts': 3714, 'importantly': 2248, 'pulled': 3462, 'awards': 367, 'existence': 1571, 'mickey': 2831, 'walter': 4784, 'bigger': 479, 'academy': 77, 'jack': 2373, 'warner': 4799, 'christians': 809, 'believed': 455, 'associated': 327, 'court': 1020, 'national': 2970, 'europe': 1529, 'european': 1530, 'meeting': 2794, 'double': 1331, 'suspects': 4328, 'wounded': 4961, 'health': 2060, 'affect': 136, 'creatures': 1046, 'cards': 683, 'creation': 1040, 'kurt': 2499, 'account': 89, 'step': 4175, 'nominated': 3025, 'adapted': 114, 'specific': 4099, 'engage': 1479, 'countryside': 1015, 'physically': 3263, 'coming': 896, 'sadly': 3769, 'deceased': 1146, 'ian': 2209, 'cover': 1022, 'silence': 3974, 'unbelievable': 4634, 'advantage': 129, 'parody': 3192, 'latest': 2526, 'decades': 1145, 'survivor': 4324, 'robinson': 3716, 'godfather': 1927, 'reads': 3545, '25': 40, 'door': 1328, 'pile': 3275, 'unintentionally': 4659, 'suspenseful': 4331, 'spoiler': 4123, 'beaten': 424, 'corner': 996, 'amy': 222, 'shall': 3916, 'aid': 160, 'dutch': 1389, 'news': 3005, 'manhattan': 2726, 'hitler': 2124, 'despair': 1207, 'finest': 1730, 'disappeared': 1271, 'fake': 1635, 'insulting': 2310, 'sentence': 3881, 'cardboard': 682, 'splendid': 4119, 'captured': 677, 'innocence': 2293, 'confusion': 943, '1983': 22, 'albert': 174, 'derek': 1192, 'reaching': 3539, 'cannot': 670, 'combined': 885, 'fictional': 1703, 'tales': 4357, 'revolves': 3682, 'catherine': 719, 'brains': 563, 'ed': 1415, 'robbins': 3712, 'intelligent': 2314, 'uncle': 4636, 'maker': 2714, 'smart': 4035, 'portraying': 3343, 'matthau': 2771, 'pulls': 3464, 'genuine': 1891, 'outrageous': 3145, 'further': 1853, 'sweet': 4336, 'refreshing': 3586, 'spirit': 4113, 'tied': 4489, 'miike': 2837, 'souls': 4080, 'pushing': 3479, 'merits': 2817, 'honesty': 2148, 'scares': 3806, 'places': 3284, 'instance': 2304, 'intent': 2318, 'concerned': 932, 'ratings': 3530, 'suggest': 4280, 'enthusiasm': 1501, 'bought': 552, 'rights': 3697, 'summary': 4290, 'satan': 3787, 'age': 148, 'struggling': 4236, 'raymond': 3534, 'rural': 3758, 'refuses': 3587, 'divorce': 1301, 'bear': 420, 'witness': 4914, 'basis': 408, 'grow': 1982, 'author': 359, 'depressed': 1187, 'attempted': 341, 'stargate': 4151, 'presented': 3376, 'humans': 2190, 'heavily': 2069, 'existed': 1570, 'base': 402, 'command': 897, 'mountain': 2917, 'anderson': 227, 'jackson': 2375, 'carter': 703, '24': 39, 'distant': 1295, 'searching': 3842, 'forms': 1801, 'technology': 4385, 'advanced': 128, 'gods': 1928, 'eight': 1436, 'snake': 4042, 'capable': 672, 'species': 4098, 'enemy': 1477, 'lord': 2652, 'season': 3843, 'beings': 449, 'focus': 1766, 'exploration': 1593, 'surrounding': 4319, 'enemies': 1476, 'molly': 2884, 'australian': 357, 'warning': 4800, 'mildly': 2840, 'prevent': 3385, 'bore': 540, 'relies': 3606, 'storytelling': 4209, 'simplicity': 3984, 'finished': 1733, 'believing': 457, 'comment': 898, 'purely': 3472, 'question': 3487, 'wondered': 4927, 'students': 4239, 'principal': 3398, 'mary': 2751, 'charge': 761, 'ramones': 3512, 'incredible': 2269, 'alice': 182, 'ideal': 2214, 'clint': 850, 'howard': 2182, 'dick': 1239, 'teacher': 4375, 'treat': 4572, 'proceedings': 3410, 'paper': 3183, 'airplane': 166, 'gag': 1861, 'giant': 1905, 'makeup': 2717, 'rob': 3710, 'authority': 360, 'betty': 474, 'focuses': 1768, 'strangely': 4212, 'hair': 2005, 'haunted': 2050, 'daughters': 1122, 'neat': 2982, 'issue': 2364, 'vs': 4767, 'assumed': 329, 'shining': 3933, 'dracula': 1341, 'barbara': 397, 'remain': 3609, 'shirt': 3937, 'conversations': 981, 'imagined': 2239, 'meaningless': 2782, 'dialogs': 1233, 'lacks': 2505, 'target': 4366, 'diamond': 1236, 'onto': 3111, 'network': 3000, 'pilot': 3276, 'terrorist': 4413, 'tree': 4576, 'weapon': 4828, 'agent': 150, 'description': 1197, 'exciting': 1563, 'caring': 691, 'charisma': 762, 'member': 2800, '3000': 43, 'martin': 2748, 'scale': 3802, 'success': 4265, 'cases': 708, 'structure': 4233, 'amazingly': 210, 'exceptional': 1558, 'cutting': 1092, 'restaurant': 3658, 'amazed': 208, 'segments': 3868, 'included': 2262, 'consists': 955, 'teen': 4388, 'spends': 4107, 'card': 681, 'chris': 806, 'ashley': 313, 'wrestling': 4966, 'matt': 2768, 'kennedy': 2454, 'bobby': 525, 'starting': 4158, 'undoubtedly': 4648, 'fat': 1663, 'attitudes': 347, 'babe': 375, 'models': 2881, 'crappy': 1032, 'blows': 517, 'pointed': 3317, 'successfully': 4267, '2005': 35, 'fish': 1738, 'rare': 3523, 'glorious': 1921, 'front': 1841, 'ape': 266, 'monster': 2892, 'size': 4012, 'godzilla': 1929, 'tame': 4363, 'staged': 4140, 'monkey': 2890, '1968': 16, 'comfortable': 892, 'aimed': 162, 'families': 1644, 'errors': 1516, 'outcome': 3142, 'armed': 293, 'stops': 4203, 'delivers': 1172, 'rough': 3741, 'weekend': 4838, 'celluloid': 731, 'cares': 690, 'smile': 4036, 'intelligence': 2313, 'granted': 1957, 'bet': 470, 'figured': 1712, 'foot': 1781, 'basketball': 409, 'beat': 423, 'weakest': 4825, 'scare': 3803, 'hits': 2125, 'proceeds': 3411, 'dreadful': 1353, 'exploitation': 1592, 'crimes': 1056, 'obnoxious': 3067, 'serve': 3893, 'blockbuster': 509, 'wanting': 4790, 'cliché': 844, 'player': 3298, 'ridiculously': 3694, 'coffee': 870, 'commented': 900, 'law': 2538, 'treasure': 4571, 'nowhere': 3056, 'twilight': 4614, 'zone': 4999, 'christian': 808, 'occasional': 3074, 'arms': 294, 'embarrassed': 1453, 'christmas': 810, 'entry': 1504, 'ties': 4490, 'trapped': 4564, 'toys': 4543, 'accidentally': 85, 'screaming': 3827, 'responsible': 3656, 'enters': 1496, 'soldier': 4053, 'shoot': 3942, 'boyfriend': 558, 'remote': 3622, 'control': 977, 'sons': 4073, 'mental': 2808, 'presents': 3377, 'loss': 2659, 'goofy': 1939, 'develops': 1226, 'guessing': 1991, 'rage': 3505, 'holding': 2130, 'savage': 3793, 'gratuitous': 1961, 'sequels': 3886, 'concept': 930, 'blow': 514, 'initially': 2291, 'critical': 1062, 'religion': 3607, 'blind': 506, 'manipulative': 2727, 'allowing': 191, 'draw': 1349, 'inner': 2292, 'peace': 3219, 'groups': 1981, 'underlying': 4641, 'motives': 2916, 'satisfied': 3789, 'opens': 3115, 'lessons': 2578, 'crying': 1074, 'sympathy': 4343, 'belief': 451, 'bullet': 620, 'solve': 4060, 'selfish': 3870, 'attitude': 346, 'forgive': 1795, 'identify': 2216, 'answers': 252, 'carefully': 689, 'bite': 489, 'hype': 2207, 'mentioning': 2812, 'widow': 4883, 'ticket': 4487, 'korean': 2495, 'displays': 1293, 'arrogant': 303, 'drop': 1369, 'aging': 153, 'hidden': 2096, 'politically': 3325, 'existent': 1572, 'definition': 1163, 'randomly': 3515, 'encounters': 1467, 'distance': 1294, 'walls': 4783, 'emotionally': 1460, 'fields': 1705, 'equal': 1509, 'emotional': 1459, 'inspiration': 2300, 'shine': 3931, 'upset': 4687, 'creates': 1038, 'mature': 2773, 'improved': 2255, 'absurd': 73, 'burns': 628, 'creating': 1039, 'enter': 1494, 'jealous': 2388, 'oscars': 3134, 'scope': 3821, 'fooled': 1780, 'realizes': 3554, 'support': 4303, 'innovative': 2295, 'tear': 4379, 'overdone': 3152, 'sides': 3967, 'orders': 3127, 'skip': 4016, 'pretentious': 3383, 'viewings': 4741, 'lucy': 2684, 'honor': 2150, 'fashion': 1659, 'speaks': 4096, 'minds': 2852, 'wake': 4774, 'amongst': 218, 'move': 2921, 'luck': 2681, 'shut': 3961, 'greatly': 1967, 'magic': 2703, 'bride': 577, 'lust': 2689, 'basic': 406, 'anne': 246, 'raw': 3532, 'harsh': 2040, 'understanding': 4645, 'strip': 4228, 'ups': 4686, 'partner': 3198, 'melting': 2799, 'dollar': 1314, 'reasonably': 3559, 'inventive': 2341, 'highlights': 2104, 'nurse': 3063, 'jumps': 2432, 'whatsoever': 4861, 'psychotic': 3459, 'hunting': 2201, 'disjointed': 1287, 'dry': 1377, 'credible': 1048, 'developed': 1223, 'grasp': 1960, 'connect': 944, 'connected': 945, 'subject': 4253, 'shadows': 3913, 'sincere': 3991, 'keaton': 2448, 'burton': 630, 'villains': 4745, 'picks': 3268, 'radio': 3504, 'thriller': 4472, 'misses': 2868, 'sophisticated': 4075, 'cage': 645, 'bottom': 551, '17': 9, 'constant': 957, 'fantasy': 1652, 'tarzan': 4367, 'jungle': 2434, 'edgar': 1417, 'jane': 2380, 'novels': 3053, 'lively': 2627, 'calls': 654, 'clever': 841, 'fabulous': 1615, 'civilization': 827, 'agrees': 157, 'sake': 3775, 'fortune': 1806, 'heads': 2059, 'force': 1786, 'dying': 1393, 'saves': 3796, 'continues': 971, 'design': 1202, 'finish': 1732, 'neil': 2995, 'hamilton': 2012, 'reveals': 3673, 'harvey': 2042, 'gory': 1943, 'pain': 3170, 'dub': 1378, 'steps': 4177, 'recognition': 3568, 'finger': 1731, 'visit': 4755, 'struggles': 4235, 'hill': 2108, 'sinister': 3998, 'hatred': 2049, 'daily': 1097, 'mysterious': 2955, 'references': 3583, 'finale': 1723, 'lacked': 2503, 'doctors': 1305, 'traditional': 4550, 'hoped': 2156, 'emphasis': 1463, 'overcome': 3151, 'consistent': 953, 'nose': 3037, 'vote': 4766, 'zero': 4996, 'frequently': 1832, 'reactions': 3542, 'extreme': 1609, 'handle': 2018, 'comedian': 887, 'chest': 784, 'ideas': 2215, '1972': 18, 'horses': 2171, 'described': 1195, 'doomed': 1327, 'storm': 4206, 'chilling': 794, 'junior': 2435, 'aired': 165, 'abc': 63, 'ritter': 3705, '2nd': 41, 'rated': 3527, 'hadnt': 2004, 'hospital': 2172, 'leader': 2546, 'bond': 532, 'map': 2733, 'substance': 4258, 'scientists': 3819, 'hasnt': 2044, '14': 6, 'drops': 1372, 'wishes': 4906, 'heck': 2071, 'moral': 2902, 'irony': 2357, 'conflict': 939, 'comparing': 913, 'cause': 723, 'alert': 178, 'comical': 894, 'nervous': 2999, 'maria': 2736, 'natural': 2973, 'credibility': 1047, 'matters': 2770, 'lesbian': 2573, 'save': 3794, 'spending': 4106, 'muslim': 2949, 'abusive': 75, 'fortunately': 1805, 'letter': 2581, 'central': 735, 'featured': 1679, 'aka': 168, 'swear': 4334, 'pair': 3176, 'agents': 151, 'winds': 4895, 'fancy': 1649, 'french': 1830, 'humorous': 2193, 'roman': 3731, 'cd': 728, 'scenery': 3810, 'print': 3399, 'elderly': 1440, 'similarly': 3980, 'france': 1816, 'holy': 2140, 'religious': 3608, 'directions': 1262, 'meat': 2787, 'perform': 3227, 'equivalent': 1512, 'demented': 1176, 'marketing': 2741, 'ps': 3453, 'intimate': 2331, 'victoria': 4732, 'youth': 4994, 'blunt': 520, 'depicts': 1186, 'tender': 4401, 'illness': 2230, 'animal': 239, 'michelle': 2830, 'britain': 588, 'designed': 1203, 'thoughtful': 4463, 'placed': 3283, 'relation': 3595, 'strikes': 4225, 'angle': 236, 'followed': 1773, 'understood': 4647, 'knowledge': 2491, 'rushed': 3760, 'properly': 3437, 'disturbing': 1300, 'wished': 4905, 'twins': 4616, 'banned': 395, 'forty': 1807, 'ear': 1397, 'madness': 2698, 'discovers': 1281, 'eva': 1531, 'brand': 565, 'restored': 3659, 'likewise': 2603, 'minimal': 2855, 'nude': 3058, 'pg': 3250, '13': 4, 'schools': 3814, '2002': 32, 'research': 3644, 'jason': 2383, 'alexander': 180, 'transition': 4561, 'annoyed': 248, 'anyways': 262, 'itll': 2369, 'smiling': 4037, 'smith': 4038, 'shell': 3927, 'diana': 1237, 'garbo': 1871, 'et': 1526, 'report': 3635, 'birthday': 487, 'cake': 648, 'larry': 2520, 'areas': 287, 'ken': 2453, 'goodness': 1938, 'pleasantly': 3303, 'rain': 3506, 'hurts': 2203, 'folks': 1771, 'portray': 3340, 'kinda': 2477, 'stilted': 4190, 'native': 2972, 'orange': 3125, 'behave': 445, 'enjoying': 1487, 'touch': 4533, 'chuck': 812, 'commercials': 903, 'productions': 3420, 'glimpse': 1919, 'superficial': 4298, 'sexually': 3910, 'frustrated': 1842, 'garbage': 1870, 'pet': 3246, 'blacks': 494, 'perspective': 3245, 'context': 968, 'experienced': 1581, 'political': 3324, 'resolution': 3649, 'showing': 3958, 'unfortunate': 4653, 'september': 3884, '2001': 31, 'established': 1524, 'stephen': 4176, 'tight': 4492, 'unreal': 4676, 'masterpieces': 2760, 'pulp': 3465, 'continuity': 972, 'kicks': 2463, '20th': 38, 'expert': 1585, 'dentist': 1180, 'linda': 2609, 'understandable': 4644, 'exposed': 1598, 'shakespeare': 3915, 'nonsensical': 3031, 'abraham': 69, 'removed': 3624, 'express': 1600, 'hilariously': 2107, 'embarrassing': 1454, 'ashamed': 312, 'freak': 1824, 'nine': 3017, 'nicely': 3009, 'silent': 3975, 'shelley': 3928, 'favorites': 1672, 'vhs': 4725, 'countless': 1012, 'opened': 3113, 'strongly': 4231, 'tons': 4520, 'russell': 3761, 'todd': 4510, 'trained': 4557, 'birth': 486, 'younger': 4990, 'faster': 1662, 'stronger': 4230, 'desert': 1198, 'realizing': 3555, 'kills': 2474, 'rambo': 3511, 'st': 4137, 'patients': 3212, 'boss': 546, 'ward': 4793, 'threatening': 4468, 'sounding': 4083, 'messages': 2820, 'hint': 2112, 'supernatural': 4302, 'jones': 2418, 'lit': 2621, 'demon': 1177, 'graphic': 1958, 'technically': 4382, 'alan': 171, 'johnson': 2411, 'practice': 3363, 'sees': 3866, 'sandler': 3781, 'lonely': 2643, 'plane': 3288, 'crash': 1033, 'easier': 1405, 'indian': 2274, 'punch': 3466, 'psychiatrist': 3455, 'sharp': 3922, 'digital': 1251, 'photo': 3257, 'montage': 2894, 'audio': 354, 'singer': 3993, 'hitting': 2126, 'topless': 4527, 'everyday': 1541, 'faced': 1617, 'seventies': 3904, '3d': 46, 'instantly': 2306, 'wolf': 4920, 'floor': 1759, 'midnight': 2834, 'reference': 3582, 'florida': 1761, 'prostitute': 3440, 'encounter': 1466, 'lovable': 2668, 'solo': 4058, 'hippie': 2115, 'taxi': 4371, 'voight': 4764, 'thick': 4447, 'reaches': 3538, 'driver': 1366, 'psycho': 3457, 'sadistic': 3768, 'demons': 1178, 'gabriel': 1859, 'host': 2173, 'boys': 559, 'according': 88, 'synopsis': 4344, 'leg': 2562, 'ms': 2931, 'benefit': 465, 'exceptionally': 1559, 'characterization': 759, 'sandra': 3782, 'donna': 1323, 'terry': 4415, 'flight': 1757, 'satisfying': 3791, 'hamlet': 2013, 'melodrama': 2797, 'weight': 4840, 'challenging': 744, 'opposed': 3122, 'wound': 4960, 'sorts': 4078, 'laura': 2536, 'mouse': 2919, 'larger': 2519, 'lily': 2605, 'judy': 2426, 'determined': 1221, 'delivered': 1170, 'constantly': 958, 'deliver': 1169, 'eager': 1396, 'sounded': 4082, 'morgan': 2905, 'freeman': 1829, 'justin': 2440, 'journalist': 2420, 'response': 3654, 'bank': 394, 'trial': 4580, 'foul': 1810, 'investigate': 2342, 'sea': 3838, 'drags': 1345, 'metal': 2823, 'recording': 3575, 'album': 175, 'stupidity': 4248, 'twisted': 4618, 'rubber': 3747, 'crude': 1069, 'teeth': 4393, 'painting': 3175, 'pages': 3168, 'gags': 1862, 'satisfy': 3790, 'disney': 1289, 'russian': 3762, 'julie': 2428, 'web': 4833, 'games': 1865, 'vengeance': 4719, 'passionate': 3206, 'obscure': 3068, 'unsettling': 4679, 'photographed': 3258, 'exotic': 1574, 'erotic': 1515, 'currently': 1085, '1973': 19, 'proud': 3444, 'owner': 3159, 'performing': 3233, 'bloody': 513, 'ground': 1979, 'harris': 2038, 'lesson': 2577, 'complicated': 925, 'westerns': 4854, '50s': 52, 'wins': 4899, 'prize': 3405, 'stolen': 4195, 'winters': 4901, 'universal': 4665, 'curtis': 1087, '40s': 49, 'constructed': 959, 'mann': 2728, 'bull': 619, 'paint': 3173, 'breathtaking': 574, 'pace': 3161, 'quiet': 3492, 'signs': 3973, 'greed': 1968, 'essence': 1521, 'progress': 3425, 'landscapes': 2514, 'iron': 2354, 'viewed': 4737, 'concerning': 933, 'suffering': 4277, 'park': 3190, 'desired': 1206, 'destroyed': 1214, 'peoples': 3222, 'jewish': 2401, 'rat': 3525, 'popularity': 3334, 'instant': 2305, 'connection': 946, 'cross': 1066, 'dennis': 1179, 'length': 2569, 'contrived': 976, 'illogical': 2231, 'videos': 4734, 'kapoor': 2443, 'beatty': 427, 'unaware': 4632, 'wes': 4851, 'craven': 1034, 'folk': 1770, 'stevens': 4183, 'flynn': 1765, 'league': 2549, 'killings': 2473, 'necessarily': 2983, 'popcorn': 3331, 'jet': 2400, 'li': 2587, 'deals': 1137, 'columbo': 881, 'tend': 4400, 'rising': 3703, 'promising': 3433, 'possibilities': 3348, 'watchable': 4812, 'directly': 1263, 'duty': 1390, 'board': 522, 'advance': 127, 'fairy': 1632, 'snow': 4045, 'sleeping': 4025, 'adaptation': 113, 'cinderella': 815, 'path': 3209, 'achieved': 93, 'performer': 3231, 'recorded': 3574, 'favor': 1670, 'convincingly': 986, 'performed': 3230, 'duke': 1383, 'prince': 3396, 'born': 544, 'blair': 497, 'elegant': 1441, 'holiday': 2134, 'edition': 1422, 'suffice': 4279, 'page': 3167, 'delivering': 1171, 'promised': 3431, 'originality': 3130, 'sutherland': 4333, 'tired': 4501, 'homosexual': 2145, 'montana': 2895, 'virginia': 4750, 'ignored': 2225, 'immediately': 2242, 'direct': 1258, 'president': 3378, 'chapter': 757, 'majority': 2712, 'internet': 2327, 'devil': 1228, 'tiger': 4491, 'mini': 2854, 'ruined': 3751, 'prior': 3400, 'pearl': 3220, 'topic': 4526, 'global': 1920, 'stomach': 4196, 'closed': 854, 'memories': 2803, 'earned': 1401, 'dignity': 1252, 'ruby': 3749, 'wisdom': 4902, 'finding': 1727, 'brenda': 575, 'monk': 2889, 'chased': 770, 'warriors': 4803, 'explanation': 1590, 'media': 2789, 'wendy': 4846, 'conversation': 980, 'destiny': 1212, 'grandmother': 1955, 'actions': 101, 'fighting': 1709, 'descent': 1193, 'kick': 2460, 'somebody': 4062, 'hurt': 2202, 'breaking': 570, 'hung': 2197, 'lees': 2560, 'jackie': 2374, 'drunken': 1376, 'trio': 4587, 'offensive': 3086, 'dragon': 1344, 'relatives': 3601, 'gangsters': 1869, 'sloppy': 4030, 'battles': 415, 'hunter': 2199, '2006': 36, 'cia': 814, 'dogs': 1311, 'incoherent': 2265, 'clips': 852, 'tedious': 4387, 'messed': 2821, 'crafted': 1029, 'combine': 884, 'professional': 3421, 'isolated': 2363, 'neck': 2985, 'measure': 2786, 'keeps': 2451, 'flying': 1764, 'sits': 4006, 'burning': 627, 'bare': 398, 'walks': 4780, 'accident': 84, 'lesser': 2576, 'torn': 4528, 'importance': 2246, 'praise': 3364, 'coherent': 871, 'reel': 3581, 'buried': 624, 'ya': 4976, 'hip': 2114, 'hop': 2154, '18': 10, 'mrs': 2930, 'ghosts': 1903, 'abilities': 64, 'prepared': 3371, 'unoriginal': 4673, 'womans': 4922, '1980': 20, 'cultural': 1078, 'throwing': 4480, 'treated': 4573, 'football': 1783, 'development': 1225, 'facts': 1624, '2000': 30, 'lower': 2677, 'therefore': 4439, 'push': 3477, 'button': 639, 'advice': 133, 'valuable': 4708, 'brain': 562, 'utter': 4701, 'trailer': 4554, 'lion': 2614, 'depiction': 1185, 'iraq': 2351, 'terrorists': 4414, 'ham': 2011, 'struggle': 4234, 'racism': 3502, 'depicting': 1184, 'triumph': 4590, 'clichés': 846, 'ad': 110, 'fest': 1696, 'hysterical': 2208, 'surrounded': 4318, 'indians': 2275, 'toward': 4539, 'link': 2613, 'joey': 2408, 'square': 4136, 'daddy': 1096, 'dust': 1388, 'ethan': 1528, 'unlikely': 4671, 'eyre': 1614, 'dalton': 1098, 'miscast': 2862, 'rochester': 3719, 'portrays': 3344, 'block': 508, 'charlotte': 766, 'wave': 4818, 'shake': 3914, 'jesus': 2399, 'liners': 2611, 'inane': 2258, 'alright': 198, 'incompetent': 2266, 'nonetheless': 3029, 'excessive': 1560, 'endless': 1473, 'bridge': 578, 'troops': 4591, 'beats': 426, 'murphy': 2944, 'matched': 2763, 'chosen': 805, 'waited': 4771, 'destruction': 1216, '1933': 12, 'cuts': 1091, 'stanwyck': 4149, 'steel': 4173, 'mill': 2845, 'progresses': 3426, 'mild': 2839, 'screens': 3832, 'fighter': 1708, 'unexpected': 4650, 'joined': 2413, 'succeeded': 4263, 'woody': 4936, 'allen': 188, 'ultra': 4629, 'jennifer': 2392, 'saga': 3773, 'hanks': 2025, 'irish': 2353, 'mob': 2879, 'serial': 3889, 'risk': 3704, 'angel': 231, 'sullivan': 4288, 'interpretation': 2328, 'elvis': 1451, 'timing': 4498, 'parallel': 3185, 'ears': 1402, 'superman': 4301, 'reveal': 3670, 'menacing': 2807, 'morality': 2903, 'appearing': 277, 'island': 2361, 'aware': 368, 'urge': 4689, 'roots': 3738, 'degree': 1164, 'lazy': 2543, 'fed': 1682, 'adorable': 124, 'grave': 1962, 'blatant': 502, 'plight': 3308, 'attorney': 348, 'relevant': 3604, 'wrap': 4963, 'gross': 1978, 'slick': 4026, 'flash': 1745, 'thrill': 4471, 'focusing': 1769, 'mysteries': 2954, 'spooky': 4128, 'society': 4050, 'afford': 138, 'wing': 4896, 'liberal': 2588, 'spell': 4104, 'ghost': 1902, 'mansion': 2731, 'string': 4227, 'contrary': 974, 'museum': 2945, 'closely': 855, 'convey': 982, 'conservative': 948, 'financial': 1725, 'portion': 3338, 'interviews': 2330, 'suspicious': 4332, 'product': 3418, 'ford': 1789, 'sport': 4129, 'escaped': 1518, 'hollywoods': 2138, 'sleep': 4024, 'ignore': 2224, 'mentally': 2809, 'retarded': 3663, 'explore': 1594, 'standards': 4145, 'mans': 2730, 'capturing': 679, 'hello': 2078, 'tommy': 4516, 'arnold': 296, 'contemporary': 965, 'wit': 4908, 'moore': 2901, 'choose': 799, 'farce': 1654, 'authentic': 358, 'quote': 3496, 'knock': 2488, 'answer': 251, 'toilet': 4512, 'ruin': 3750, 'worried': 4949, 'amateurish': 207, 'careful': 688, 'dubbing': 1380, 'italy': 2368, 'masterful': 2758, 'polanski': 3321, 'bathroom': 412, 'neighbors': 2994, 'meanwhile': 2785, 'commit': 904, 'le': 2544, 'paranoia': 3186, 'brazil': 568, '30s': 44, 'drew': 1360, 'pat': 3208, 'barry': 401, 'critic': 1061, 'simmons': 3981, 'dances': 1106, 'sword': 4340, 'mom': 2885, 'grows': 1985, 'superhero': 4299, 'segment': 3867, 'tour': 4538, 'oliver': 3102, 'vacation': 4704, 'bob': 524, 'clip': 851, 'text': 4419, 'hearing': 2063, 'separate': 3883, 'causes': 725, 'exists': 1573, 'stated': 4161, 'guessed': 1990, 'explosion': 1596, 'sum': 4289, 'parties': 3196, 'sleazy': 4023, 'prefer': 3368, 'editor': 1423, 'bat': 410, 'shark': 3921, 'naked': 2959, 'equipment': 1511, 'stanley': 4148, 'kubrick': 2496, 'matrix': 2767, 'inspector': 2299, 'opposite': 3123, 'narrator': 2967, 'clues': 865, 'argument': 291, 'tunes': 4603, 'hopefully': 2157, 'sell': 3871, 'installment': 2303, 'disappear': 1270, 'virgin': 4749, 'influenced': 2287, 'senseless': 3878, 'stan': 4142, 'fix': 1744, 'childrens': 793, 'rabbit': 3498, 'damage': 1099, 'theory': 4437, 'glory': 1922, 'snl': 4044, 'alex': 179, 'ha': 2002, 'idiots': 2220, 'shower': 3957, 'cameras': 660, 'admittedly': 123, 'kissing': 2484, 'graphics': 1959, 'pot': 3354, 'teens': 4392, 'goal': 1925, 'enjoyment': 1488, 'pleased': 3305, 'detective': 1220, 'concert': 935, 'dialogues': 1235, 'appreciate': 279, 'pride': 3391, 'screenwriter': 3833, 'unpleasant': 4674, 'whereas': 4865, 'blew': 505, 'bugs': 613, 'centers': 734, 'assistant': 326, 'witnessed': 4915, 'appealing': 272, 'reasonable': 3558, '13th': 5, 'learned': 2551, 'wicked': 4879, 'walked': 4776, 'taught': 4370, 'minded': 2850, 'affected': 137, 'waitress': 4773, 'ruth': 3763, 'overlooked': 3154, 'boxing': 556, 'brooklyn': 595, 'proof': 3434, 'chain': 741, 'handful': 2017, 'uwe': 4703, 'boll': 529, 'gain': 1863, 'arrives': 302, 'learning': 2552, 'craft': 1028, '70': 55, 'shocked': 3939, 'troubled': 4593, 'lying': 2690, 'dynamic': 1394, 'experiences': 1582, 'secondly': 3847, 'pulling': 3463, 'react': 3540, 'dare': 1113, 'homeless': 2143, 'courage': 1018, 'hills': 2109, 'vietnam': 4735, 'blues': 519, 'blank': 501, 'peters': 3248, 'mayor': 2777, 'carpenter': 694, 'manager': 2724, 'hire': 2116, 'stays': 4169, 'ray': 3533, 'indie': 2276, 'genres': 1889, 'da': 1094, 'damon': 1101, 'east': 1407, 'documentaries': 1306, 'thirty': 4456, 'rex': 3683, 'visuals': 4759, 'rendition': 3625, 'related': 3594, 'hoping': 2160, 'listening': 2620, 'kidding': 2465, 'ensemble': 1492, 'thousand': 4465, 'colorful': 878, 'environment': 1505, 'mountains': 2918, 'cinematographer': 819, 'vivid': 4760, 'primarily': 3393, 'contest': 967, 'motivation': 2914, 'climactic': 848, 'scripted': 3835, 'possessed': 3347, 'resort': 3650, 'accused': 91, 'stole': 4194, 'thumbs': 4485, 'devils': 1229, 'crisis': 1060, 'lumet': 2688, 'samurai': 3779, 'lone': 2642, 'choreography': 802, 'bill': 481, 'nicholson': 3011, 'warren': 4801, 'selling': 3873, 'trailers': 4555, 'ease': 1404, 'clumsy': 866, 'sudden': 4272, 'holmes': 2139, 'cox': 1026, 'variety': 4714, 'rings': 3699, 'sexuality': 3909, 'ted': 4386, 'investigation': 2343, 'lisa': 2616, 'nelson': 2997, 'persons': 3244, 'tag': 4348, 'childhood': 790, 'ignorant': 2223, 'conceived': 929, 'suck': 4269, 'cusack': 1088, 'thru': 4483, 'eastern': 1408, 'vice': 4727, 'celebrity': 729, 'bold': 528, 'purposes': 3475, 'aforementioned': 139, 'mass': 2753, 'views': 4742, 'choreographed': 801, 'ludicrous': 2685, 'kay': 2447, 'disgusting': 1286, 'offering': 3089, 'threw': 4470, 'advertising': 132, 'sue': 4274, 'format': 1799, 'disappoint': 1272, 'nights': 3016, 'mtv': 2933, 'luke': 2687, 'speech': 4102, 'trilogy': 4586, 'serving': 3897, 'useful': 4694, 'stinks': 4192, 'resembles': 3646, 'bourne': 554, 'fetched': 1698, 'receives': 3565, 'fatal': 1664, 'eccentric': 1414, 'greedy': 1969, 'boat': 523, 'jessica': 2398, 'simpson': 3987, 'dear': 1140, 'yelling': 4980, 'cartoons': 705, 'changing': 752, 'chan': 746, 'sixties': 4011, 'brady': 561, 'village': 4743, 'catholic': 720, 'meaningful': 2781, 'instinct': 2308, 'pays': 3218, 'covers': 1024, 'kudos': 2497, 'rogers': 3725, 'previously': 3388, 'earl': 1398, 'formulaic': 1803, 'endure': 1475, 'theaters': 4428, 'inducing': 2279, 'producing': 3417, 'lol': 2640, 'waves': 4819, 'intrigue': 2333, 'acceptable': 81, 'sold': 4052, 'jumped': 2430, 'commercial': 902, 'reviewers': 3678, 'stiller': 4189, 'conflicts': 940, 'analysis': 224, 'absence': 70, 'difference': 1246, 'curiosity': 1082, 'differences': 1247, 'stood': 4199, 'questionable': 3488, 'carries': 699, 'shines': 3932, 'alcohol': 176, 'fears': 1677, 'calm': 655, 'brutally': 604, 'dealt': 1138, 'amitabh': 216, '75': 57, 'frightening': 1839, 'harder': 2035, 'halloween': 2010, 'awe': 370, 'inspiring': 2302, 'terrifying': 4410, 'jamie': 2379, 'splatter': 4118, 'shape': 3919, 'brilliance': 582, 'statement': 4162, 'zombie': 4997, 'domestic': 1318, 'farm': 1656, 'laurel': 2537, 'useless': 4695, 'discovered': 1280, 'boredom': 542, 'handled': 2019, 'khan': 2459, 'warrior': 4802, 'scottish': 3825, 'apparent': 269, 'activities': 102, 'namely': 2962, 'pro': 3406, 'tricks': 4583, 'hopeless': 2158, 'crucial': 1068, 'witnesses': 4916, 'pops': 3332, 'understated': 4646, 'kicked': 2461, 'pack': 3165, 'competent': 917, 'laughter': 2535, 'generated': 1882, 'severe': 3906, 'sticks': 4186, 'corpse': 999, 'philosophy': 3254, 'ego': 1435, 'served': 3894, 'executive': 1567, 'carrying': 701, 'wrapped': 4964, 'odds': 3082, 'regardless': 3590, 'troubles': 4594, 'classical': 836, 'dozens': 1339, 'stretched': 4222, 'womens': 4924, 'conspiracy': 956, 'remarks': 3615, 'boot': 538, 'unintentional': 4658, 'destroying': 1215, 'bedroom': 437, 'multi': 2935, 'reflection': 3585, 'mirror': 2861, 'technique': 4383, 'suggested': 4281, 'precious': 3366, 'legs': 2566, 'plausible': 3295, 'motivations': 2915, 'sucks': 4271, 'soccer': 4048, 'mario': 2738, 'psychic': 3456, 'writes': 4970, 'mate': 2765, 'christ': 807, 'china': 795, 'props': 3439, 'continued': 970, 'hood': 2151, 'mixture': 2878, 'creativity': 1042, 'devoid': 1230, 'proved': 3446, 'tie': 4488, 'education': 1424, 'united': 4664, 'cinemas': 817, 'reviewer': 3677, 'thousands': 4466, 'sensitive': 3879, 'huh': 2187, 'realise': 3548, 'cleverly': 842, '1930s': 11, 'branagh': 564, 'tonight': 4519, 'belong': 459, 'increasingly': 2268, 'vast': 4716, 'improvement': 2256, 'lane': 2515, 'ought': 3138, 'dislike': 1288, 'demand': 1174, 'worthless': 4954, 'iran': 2350, 'search': 3841, 'nearby': 2980, 'gender': 1878, 'concerns': 934, 'timeless': 4496, 'remaining': 3610, 'lynch': 2691, 'elvira': 1450, 'press': 3379, 'vegas': 4717, 'grab': 1949, 'weapons': 4829, 'switch': 4339, 'painted': 3174, 'household': 2179, 'hugh': 2186, 'represents': 3639, 'reflect': 3584, 'guard': 1988, 'purchased': 3470, 'interview': 2329, 'fourth': 1813, 'thankfully': 4422, 'agreed': 156, 'alternate': 200, 'execution': 1566, 'spider': 4109, 'influence': 2286, 'walken': 4777, 'returning': 3667, 'horrid': 2165, 'alike': 185, 'wishing': 4907, 'afterwards': 145, 'theyll': 4444, 'cabin': 643, 'focused': 1767, 'overwhelming': 3157, 'frequent': 1831, 'perry': 3237, 'punishment': 3467, 'guilt': 1994, 'planned': 3290, 'succeed': 4262, 'justify': 2439, 'poetic': 3313, 'notes': 3046, 'frankenstein': 1822, 'poetry': 3314, 'horrors': 2169, 'titanic': 4503, 'lie': 2590, 'rocky': 3723, 'warming': 4795, 'prisoner': 3402, 'jonathan': 2417, 'terror': 4412, 'boom': 537, 'freddy': 1826, 'adventures': 131, 'cuba': 1075, 'swimming': 4338, 'contained': 963, 'hook': 2152, 'newspaper': 3006, 'lloyd': 2630, 'stooges': 4200, 'landing': 2512, 'raising': 3509, 'accompanied': 86, 'surviving': 4323, 'bible': 477, 'fond': 1776, 'intention': 2319, 'valley': 4707, 'overrated': 3156, 'mall': 2720, 'bleak': 503, 'nicholas': 3010, 'dickens': 1240, 'dreary': 1356, 'nightmares': 3015, 'fulci': 1845, 'generous': 1886, 'pool': 3327, 'interaction': 2322, 'hundred': 2195, 'carl': 692, 'subplot': 4255, 'stereotypical': 4180, 'borrowed': 545, 'sends': 3876, 'robots': 3718, 'fury': 1855, 'dedicated': 1153, 'smaller': 4034, 'spy': 4135, 'territory': 4411, 'sellers': 3872, 'masters': 2761, 'powell': 3358, 'artificial': 306, 'losers': 2656, 'cure': 1081, 'alongside': 196, 'riveting': 3708, 'homer': 2144, 'throat': 4476, 'garden': 1872, 'chooses': 800, 'intrigued': 2334, 'kenneth': 2455, 'split': 4120, 'june': 2433, 'rooms': 3736, 'tiresome': 4502, 'introduce': 2336, 'arguably': 289, 'mail': 2706, 'circle': 821, 'spoke': 4125, 'polished': 3323, 'miracle': 2860, 'assigned': 325, 'subtlety': 4261, 'jazz': 2387, 'march': 2734, 'reed': 3580, 'feed': 1683, 'extent': 1605, 'expressed': 1601, 'hooked': 2153, 'mexico': 2827, 'intentionally': 2320, 'eastwood': 1409, 'fred': 1825, 'astaire': 330, 'ginger': 1908, 'edward': 1426, 'pit': 3278, 'revolution': 3680, '1940s': 13, 'lights': 2597, 'campy': 664, 'dancer': 1104, 'solution': 4059, 'santa': 3783, 'concern': 931, 'amounts': 220, 'below': 462, 'pursuit': 3476, 'individuals': 2278, 'techniques': 4384, 'methods': 2825, 'ambitious': 211, 'via': 4726, 'eaten': 1412, 'gray': 1963, 'breath': 573, 'distracting': 1297, 'resulting': 3661, 'phantom': 3251, 'balls': 390, 'secretly': 3851, 'repeatedly': 3632, 'leslie': 2574, 'persona': 3239, 'vulnerable': 4768, 'creep': 1051, 'ballet': 389, 'championship': 745, 'chaos': 755, 'broke': 593, 'chair': 742, 'spoiled': 4122, 'rick': 3689, 'morris': 2908, 'daring': 1114, 'heroic': 2090, 'creator': 1043, 'bela': 450, 'lugosi': 2686, 'performs': 3234, 'unseen': 4678, 'blah': 496, 'aids': 161, 'misery': 2865, 'caliber': 649, 'lincoln': 2608, '1999': 27, 'uneven': 4649, 'happily': 2030, 'failing': 1627, 'ocean': 3079, 'diane': 1238, 'leo': 2571, 'dinosaurs': 1256, 'foster': 1809, 'wives': 4918, 'symbolism': 4341, 'ironic': 2355, 'tooth': 4524, 'fever': 1699, 'navy': 2976, 'testament': 4417, 'dropped': 1370, 'scrooge': 3837, 'movements': 2924, 'visible': 4753, 'developing': 1224, 'exercise': 1568, 'corporate': 998, 'dropping': 1371, 'mechanical': 2788, 'purple': 3473, 'jake': 2377, 'margaret': 2735, 'sid': 3964, 'rebel': 3561, 'scientific': 3817, 'blob': 507, 'sink': 3999, 'adams': 112, 'jumping': 2431, 'bush': 632, 'tradition': 4549, 'implausible': 2245, '2004': 34, 'retired': 3664, 'exact': 1550, 'futuristic': 1857, 'renting': 3629, 'witches': 4910, 'prequel': 3372, 'someones': 4065, 'bergman': 466, 'cg': 739, 'brosnan': 597, 'gadget': 1860, 'laughably': 2531, 'danes': 1108, 'maintain': 2710, 'dollars': 1315, 'bar': 396, 'inappropriate': 2259, 'paltrow': 3178, 'clichéd': 845, 'raped': 3522, 'massacre': 2754, 'yellow': 4981, 'worn': 4948, 'improve': 2254, 'walker': 4778, 'neo': 2998, 'simplistic': 3985, 'gentle': 1890, 'illegal': 2229, 'ellen': 1446, 'streisand': 4218, '80': 58, 'opinions': 3119, 'inevitably': 2283, 'iii': 2227, 'redemption': 3578, 'wandering': 4785, 'torture': 4529, 'typically': 4624, 'chicks': 787, 'floating': 1758, 'resources': 3651, 'cave': 727, 'shoots': 3944, 'heston': 2094, 'revolutionary': 3681, 'che': 773, 'counter': 1011, 'stones': 4198, 'remarkably': 3614, 'claimed': 829, 'prisoners': 3403, 'eerie': 1427, 'baseball': 403, 'jesse': 2397, 'lowest': 2678, 'amanda': 205, 'ann': 244, 'falk': 1636, 'lena': 2568, 'pokemon': 3320, 'theatrical': 4430, 'portrait': 3339, 'masses': 2755, 'philosophical': 3253, 'depicted': 1183, 'suitable': 4285, 'tad': 4347, 'rap': 3520, 'tap': 4364, 'conventional': 979, 'sappy': 3784, 'countries': 1013, 'cost': 1003, 'tortured': 4530, 'showdown': 3955, 'apes': 267, 'distinct': 1296, 'massive': 2756, 'cheated': 775, 'niro': 3019, 'unit': 4663, 'professor': 3422, 'nostalgic': 3039, 'distribution': 1298, 'strike': 4224, 'icon': 2211, 'plastic': 3294, 'chess': 783, 'poem': 3312, 'firstly': 1737, 'mexican': 2826, 'stellar': 4174, 'bollywood': 530, 'copies': 992, 'fbi': 1675, 'ruins': 3752, 'gradually': 1952, 'airport': 167, 'helicopter': 2076, 'franco': 1820, 'trees': 4577, 'karloff': 2445, 'knife': 2487, 'moronic': 2907, 'sole': 4055, 'glover': 1923, 'shorts': 3948, 'buff': 611, 'buffs': 612, 'property': 3438, 'canada': 666, 'mile': 2842, 'cried': 1054, 'security': 3854, 'attend': 344, 'depression': 1189, 'mothers': 2912, '2007': 37, 'appalling': 268, 'flashback': 1746, 'disneys': 1290, 'website': 4834, 'teach': 4374, 'draws': 1352, 'suited': 4286, 'spoof': 4127, 'goldberg': 1933, 'complexity': 924, 'dating': 1120, 'blade': 495, 'educational': 1425, 'strangers': 4214, 'ensues': 1493, 'mildred': 2841, 'fonda': 1777, 'responsibility': 3655, 'robbery': 3711, 'thrillers': 4473, '1984': 23, 'incident': 2260, 'omen': 3104, 'spike': 4111, 'aliens': 184, 'teaching': 4377, 'bakshi': 386, 'hideous': 2098, 'craig': 1030, 'trademark': 4548, 'flies': 1756, 'forest': 1791, 'unbelievably': 4635, 'norman': 3035, 'university': 4667, 'grey': 1973, 'akshay': 169, 'fascinated': 1657, 'rats': 3531, 'whale': 4857, 'caine': 647, 'blond': 510, 'disturbed': 1299, 'turner': 4607, 'consequences': 947, 'confidence': 938, 'greek': 1970, 'challenge': 743, 'user': 4696, 'stale': 4141, 'clown': 862, 'jaw': 2384, 'library': 2589, 'cagney': 646, 'convoluted': 987, 'bud': 607, 'nuclear': 3057, 'giallo': 1904, 'carrey': 696, 'bands': 392, 'americas': 215, 'hopper': 2161, 'carradine': 695, 'closet': 858, 'invasion': 2340, 'travesty': 4570, 'doll': 1313, 'represent': 3637, 'seagal': 3839, 'hyde': 2206, 'pan': 3180, 'survivors': 4325, 'highest': 2102, 'laws': 2540, 'lou': 2663, 'surfing': 4311, 'opportunities': 3120, 'ninja': 3018, 'appreciation': 281, 'wholly': 4874, 'baker': 385, 'gerard': 1895, 'dawson': 1128, 'gandhi': 1866, 'poverty': 3357, 'nostalgia': 3038, 'reduced': 3579, 'widmark': 4882, 'impress': 2250, 'potentially': 3356, 'bay': 416, 'pamela': 3179, 'doubts': 1333, 'overacting': 3149, 'tends': 4402, 'voiced': 4762, 'mummy': 2937, 'scarecrow': 3804, 'eighties': 1437, 'seed': 3856, 'louise': 2666, 'hank': 2024, 'singers': 3994, 'gundam': 1997, 'modesty': 2883, 'domino': 1319, 'grinch': 1975, 'bettie': 473}\n"
     ]
    }
   ],
   "source": [
    "print(str(vocabulary))"
   ]
  },
  {
   "cell_type": "markdown",
   "metadata": {},
   "source": [
    "Once you have added the endpoint name to the Lambda function, click on **Save**. Your Lambda function is now up and running. Next we need to create a way for our web app to execute the Lambda function."
   ]
  },
  {
   "cell_type": "markdown",
   "metadata": {},
   "source": [
    "### Setting up API Gateway\n",
    "\n",
    "Now that our Lambda function is set up, it is time to create a new API using API Gateway that will trigger the Lambda function we have just created.\n",
    "\n",
    "Using AWS Console, navigate to **Amazon API Gateway** and then click on **Get started**.\n",
    "\n",
    "On the next page, make sure that **New API** is selected and give the new api a name, for example, `sentiment_analysis_web_app`. Then, click on **Create API**.\n",
    "\n",
    "Now we have created an API, however it doesn't currently do anything. What we want it to do is to trigger the Lambda function that we created earlier.\n",
    "\n",
    "Select the **Actions** dropdown menu and click **Create Method**. A new blank method will be created, select its dropdown menu and select **POST**, then click on the check mark beside it.\n",
    "\n",
    "For the integration point, make sure that **Lambda Function** is selected and click on the **Use Lambda Proxy integration**. This option makes sure that the data that is sent to the API is then sent directly to the Lambda function with no processing. It also means that the return value must be a proper response object as it will also not be processed by API Gateway.\n",
    "\n",
    "Type the name of the Lambda function you created earlier into the **Lambda Function** text entry box and then click on **Save**. Click on **OK** in the pop-up box that then appears, giving permission to API Gateway to invoke the Lambda function you created.\n",
    "\n",
    "The last step in creating the API Gateway is to select the **Actions** dropdown and click on **Deploy API**. You will need to create a new Deployment stage and name it anything you like, for example `prod`.\n",
    "\n",
    "You have now successfully set up a public API to access your SageMaker model. Make sure to copy or write down the URL provided to invoke your newly created public API as this will be needed in the next step. This URL can be found at the top of the page, highlighted in blue next to the text **Invoke URL**."
   ]
  },
  {
   "cell_type": "markdown",
   "metadata": {},
   "source": [
    "## Step 7: Deploying our web app\n",
    "\n",
    "Now that we have a publicly available API, we can start using it in a web app. For our purposes, we have provided a simple static html file which can make use of the public api you created earlier.\n",
    "\n",
    "In the `website` folder there should be a file called `index.html`. Download the file to your computer and open that file up in a text editor of your choice. There should be a line which contains **\\*\\*REPLACE WITH PUBLIC API URL\\*\\***. Replace this string with the url that you wrote down in the last step and then save the file.\n",
    "\n",
    "Now, if you open `index.html` on your local computer, your browser will behave as a local web server and you can use the provided site to interact with your SageMaker model.\n",
    "\n",
    "If you'd like to go further, you can host this html file anywhere you'd like, for example using github or hosting a static site on Amazon's S3. Once you have done this you can share the link with anyone you'd like and have them play with it too!\n",
    "\n",
    "> **Important Note** In order for the web app to communicate with the SageMaker endpoint, the endpoint has to actually be deployed and running. This means that you are paying for it. Make sure that the endpoint is running when you want to use the web app but that you shut it down when you don't need it, otherwise you will end up with a surprisingly large AWS bill."
   ]
  },
  {
   "cell_type": "markdown",
   "metadata": {},
   "source": [
    "### Delete the endpoint\n",
    "\n",
    "Remember to always shut down your endpoint if you are no longer using it. You are charged for the length of time that the endpoint is running so if you forget and leave it on you could end up with an unexpectedly large bill."
   ]
  },
  {
   "cell_type": "code",
   "execution_count": 52,
   "metadata": {},
   "outputs": [],
   "source": [
    "xgb_predictor.delete_endpoint()"
   ]
  },
  {
   "cell_type": "markdown",
   "metadata": {},
   "source": [
    "## Optional: Clean up\n",
    "\n",
    "The default notebook instance on SageMaker doesn't have a lot of excess disk space available. As you continue to complete and execute notebooks you will eventually fill up this disk space, leading to errors which can be difficult to diagnose. Once you are completely finished using a notebook it is a good idea to remove the files that you created along the way. Of course, you can do this from the terminal or from the notebook hub if you would like. The cell below contains some commands to clean up the created files from within the notebook."
   ]
  },
  {
   "cell_type": "code",
   "execution_count": 53,
   "metadata": {},
   "outputs": [],
   "source": [
    "# First we will remove all of the files contained in the data_dir directory\n",
    "!rm $data_dir/*\n",
    "\n",
    "# And then we delete the directory itself\n",
    "!rmdir $data_dir\n",
    "\n",
    "# Similarly we remove the files in the cache_dir directory and the directory itself\n",
    "!rm $cache_dir/*\n",
    "!rmdir $cache_dir"
   ]
  },
  {
   "cell_type": "code",
   "execution_count": null,
   "metadata": {},
   "outputs": [],
   "source": []
  }
 ],
 "metadata": {
  "kernelspec": {
   "display_name": "conda_python3",
   "language": "python",
   "name": "conda_python3"
  },
  "language_info": {
   "codemirror_mode": {
    "name": "ipython",
    "version": 3
   },
   "file_extension": ".py",
   "mimetype": "text/x-python",
   "name": "python",
   "nbconvert_exporter": "python",
   "pygments_lexer": "ipython3",
   "version": "3.6.10"
  }
 },
 "nbformat": 4,
 "nbformat_minor": 2
}
